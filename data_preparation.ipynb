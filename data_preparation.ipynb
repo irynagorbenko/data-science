{
  "nbformat": 4,
  "nbformat_minor": 0,
  "metadata": {
    "colab": {
      "provenance": [],
      "authorship_tag": "ABX9TyO1v5TSmlry5DTMiPXjpLNr",
      "include_colab_link": true
    },
    "kernelspec": {
      "name": "python3",
      "display_name": "Python 3"
    },
    "language_info": {
      "name": "python"
    }
  },
  "cells": [
    {
      "cell_type": "markdown",
      "metadata": {
        "id": "view-in-github",
        "colab_type": "text"
      },
      "source": [
        "<a href=\"https://colab.research.google.com/github/irynagorbenko/data-science/blob/opi-radiomics/data_preparation.ipynb\" target=\"_parent\"><img src=\"https://colab.research.google.com/assets/colab-badge.svg\" alt=\"Open In Colab\"/></a>"
      ]
    },
    {
      "cell_type": "markdown",
      "source": [
        "# **Syntetic data preparation** "
      ],
      "metadata": {
        "id": "V-JEmhAw_hnP"
      }
    },
    {
      "cell_type": "code",
      "execution_count": 2,
      "metadata": {
        "colab": {
          "base_uri": "https://localhost:8080/"
        },
        "id": "Ip9aQSJt8ujx",
        "outputId": "34448244-71ed-4ce5-e885-bb1412e6e1d4"
      },
      "outputs": [
        {
          "output_type": "execute_result",
          "data": {
            "text/plain": [
              "(1072, 8)"
            ]
          },
          "metadata": {},
          "execution_count": 2
        }
      ],
      "source": [
        "# Read data from Google Drive\n",
        "from google.colab import auth\n",
        "auth.authenticate_user()\n",
        "import gspread\n",
        "from oauth2client.client import GoogleCredentials\n",
        "from google.auth import default\n",
        "creds, _ = default()\n",
        "import mlxtend\n",
        "gc = gspread.authorize(creds)\n",
        "from google.colab import files\n",
        "\n",
        "# Open new sheet and add data\n",
        "spreadsheet = gc.open_by_url('https://docs.google.com/spreadsheets/d/1feqYTH-tvngnshRH6FH5YTa_aVZqXvGEYN24zABKKhU/edit#gid=0')\n",
        "main= spreadsheet.worksheet('raw_data');\n",
        "\n",
        "import pandas as pd\n",
        "mainDF = pd.DataFrame(main.get_all_records())\n",
        "mainDF.shape"
      ]
    },
    {
      "cell_type": "code",
      "source": [
        "# create rad and sr dataframes\n",
        "\n",
        "# mainDF.head()\n",
        "radDF = mainDF[[\"patient_id_rad\",\t\"lesion_id_rad\",\t\"radiologist_id_rad\",\t\"radiologist_nr_rad\"\t]]\n",
        "srDF = mainDF[[\"patient_id_sr\",\t\"lesion_id_sr\",\t\"radiologist_id_sr\",\t\"radiologist_nr_sr\"\t]]"
      ],
      "metadata": {
        "id": "kUmiY4yH_ZQR"
      },
      "execution_count": 3,
      "outputs": []
    },
    {
      "cell_type": "code",
      "source": [
        "# compare dataframes\n",
        "\n",
        "\n",
        "for label, content in radDF.items():\n",
        "    print(f'label: {label}')\n",
        "    print(f'content: {content}', sep='\\n')\n",
        "\n",
        "#df.index[(df['points']==7) | (df['points']==12)].tolist()\n",
        "\n",
        "#srDF.drop(np.where(pd.isnull(rad_numeric['patient_pirads']))[0])"
      ],
      "metadata": {
        "id": "u2A5KAgXCbQp"
      },
      "execution_count": null,
      "outputs": []
    },
    {
      "cell_type": "code",
      "source": [
        "from numpy.lib.function_base import append\n",
        "\n",
        "idx1 = pd.Index(radDF)\n",
        "idx2 = pd.Index(srDF)\n",
        "\n",
        "finallist = []\n",
        "\n",
        "for i in idx1:\n",
        "  for j in idx2:\n",
        "    if i == j:\n",
        "      finallist.append(i)\n",
        "\n",
        "finalDF = pd.DataFrame(finallist, columns =[\"patient_id\",\t\"lesion_id\",\t\"radiologist_id\",\t\"radiologist_nr\"])\n",
        "\n",
        "finalDF\n",
        "\n",
        "finalDF.to_csv('finalDF.csv') \n",
        "files.download('finalDF.csv')"
      ],
      "metadata": {
        "colab": {
          "base_uri": "https://localhost:8080/",
          "height": 17
        },
        "id": "hR3xsv9WEmt5",
        "outputId": "eed58725-0bba-4f26-f3ac-ead33228f613"
      },
      "execution_count": 98,
      "outputs": [
        {
          "output_type": "display_data",
          "data": {
            "text/plain": [
              "<IPython.core.display.Javascript object>"
            ],
            "application/javascript": [
              "\n",
              "    async function download(id, filename, size) {\n",
              "      if (!google.colab.kernel.accessAllowed) {\n",
              "        return;\n",
              "      }\n",
              "      const div = document.createElement('div');\n",
              "      const label = document.createElement('label');\n",
              "      label.textContent = `Downloading \"${filename}\": `;\n",
              "      div.appendChild(label);\n",
              "      const progress = document.createElement('progress');\n",
              "      progress.max = size;\n",
              "      div.appendChild(progress);\n",
              "      document.body.appendChild(div);\n",
              "\n",
              "      const buffers = [];\n",
              "      let downloaded = 0;\n",
              "\n",
              "      const channel = await google.colab.kernel.comms.open(id);\n",
              "      // Send a message to notify the kernel that we're ready.\n",
              "      channel.send({})\n",
              "\n",
              "      for await (const message of channel.messages) {\n",
              "        // Send a message to notify the kernel that we're ready.\n",
              "        channel.send({})\n",
              "        if (message.buffers) {\n",
              "          for (const buffer of message.buffers) {\n",
              "            buffers.push(buffer);\n",
              "            downloaded += buffer.byteLength;\n",
              "            progress.value = downloaded;\n",
              "          }\n",
              "        }\n",
              "      }\n",
              "      const blob = new Blob(buffers, {type: 'application/binary'});\n",
              "      const a = document.createElement('a');\n",
              "      a.href = window.URL.createObjectURL(blob);\n",
              "      a.download = filename;\n",
              "      div.appendChild(a);\n",
              "      a.click();\n",
              "      div.remove();\n",
              "    }\n",
              "  "
            ]
          },
          "metadata": {}
        },
        {
          "output_type": "display_data",
          "data": {
            "text/plain": [
              "<IPython.core.display.Javascript object>"
            ],
            "application/javascript": [
              "download(\"download_1991beaf-f1eb-4fe1-87c8-6b4efff4e16a\", \"finalDF.csv\", 34490)"
            ]
          },
          "metadata": {}
        }
      ]
    },
    {
      "cell_type": "code",
      "source": [
        "idx1[0]"
      ],
      "metadata": {
        "id": "weTw8pqJajm-"
      },
      "execution_count": null,
      "outputs": []
    },
    {
      "cell_type": "code",
      "source": [
        "radDF.where(radDF['patient_id_rad']==3)"
      ],
      "metadata": {
        "id": "ON-nJOATWrvN"
      },
      "execution_count": null,
      "outputs": []
    },
    {
      "cell_type": "code",
      "source": [
        "radDF['patient_id_rad'][0]"
      ],
      "metadata": {
        "id": "hpzMCc9eV3Nx"
      },
      "execution_count": null,
      "outputs": []
    },
    {
      "cell_type": "code",
      "source": [
        "print(srDF.index[(radDF['patient_id_rad']==srDF['patient_id_sr']) & (radDF['lesion_id_rad']==srDF['lesion_id_sr']) & (radDF['lesion_id_rad']==srDF['lesion_id_sr'])].tolist())"
      ],
      "metadata": {
        "id": "g-jpznkSSTVa"
      },
      "execution_count": null,
      "outputs": []
    },
    {
      "cell_type": "markdown",
      "source": [
        "#**Real data preparation** \n",
        "\n",
        "\n"
      ],
      "metadata": {
        "id": "HxwGJrN0-yKv"
      }
    },
    {
      "cell_type": "code",
      "source": [
        "# Read data \n",
        "\n",
        "from google.colab import auth\n",
        "auth.authenticate_user()\n",
        "import gspread\n",
        "from oauth2client.client import GoogleCredentials\n",
        "from google.auth import default\n",
        "creds, _ = default()\n",
        "import mlxtend\n",
        "gc = gspread.authorize(creds)\n",
        "from google.colab import files\n",
        "\n",
        "spreadsheet_rad = gc.open_by_url('https://docs.google.com/spreadsheets/d/1KdWPJXd2hyHcgdjeLFLjk9LSjkt-FXdj6-rJyKTmz40/edit#gid=1571581113')\n",
        "main_rad= spreadsheet_rad.worksheet('radiomics_t2w');\n",
        "\n",
        "spreadsheet_sr = gc.open_by_url('https://docs.google.com/spreadsheets/d/1b_qinEAip4DRYcvUUINohJCVitVgWIX0fW3dkismDgI/edit#gid=1638783402')\n",
        "main_sr= spreadsheet_sr.worksheet('AI4AR_PCa_radiological');\n",
        "\n",
        "import pandas as pd\n",
        "main_rad_DF = pd.DataFrame(main_rad.get_all_records())\n",
        "main_sr_DF = pd.DataFrame(main_sr.get_all_records())"
      ],
      "metadata": {
        "id": "rA5eLVB--xwS"
      },
      "execution_count": 3,
      "outputs": []
    },
    {
      "cell_type": "code",
      "source": [
        "main_rad_DF"
      ],
      "metadata": {
        "id": "NDeZmh2PAtdi"
      },
      "execution_count": null,
      "outputs": []
    },
    {
      "cell_type": "code",
      "source": [
        "main_sr_DF"
      ],
      "metadata": {
        "id": "iLm48iIeAz5s"
      },
      "execution_count": null,
      "outputs": []
    },
    {
      "cell_type": "code",
      "source": [
        "# create rad and sr dataframes\n",
        "\n",
        "radDF = main_rad_DF[[\"patient_id\",\t\"lesion_id\",\t\"radiologist_id\"]]\n",
        "srDF = main_sr_DF[[\"patient_id\",\t\"lesion_id\",\t\"radiologist_id\"]]"
      ],
      "metadata": {
        "id": "stZ9ZL34BHPR"
      },
      "execution_count": 6,
      "outputs": []
    },
    {
      "cell_type": "code",
      "source": [
        "# compare dataframes\n",
        "\n",
        "from numpy.lib.function_base import append\n",
        "#!pip install -Uqq ipdb\n",
        "import ipdb\n",
        "%pdb on\n",
        "\n",
        "idx1 = pd.Index(radDF.loc[:446, :])\n",
        "idx2 = pd.Index(srDF.loc[:482, :])\n",
        "\n",
        "finallist = []\n",
        "df = pd.DataFrame()\n",
        "\n",
        "for i in idx1:\n",
        "  for j in idx2:\n",
        "    if i == j:\n",
        "      finallist.append(i)\n",
        "      ipdb.set_trace()\n",
        "      df.append(main_sr_DF.loc[i[0], :], verify_integrity=True)\n",
        "\n",
        "finalDF = pd.DataFrame(finallist, columns =[\"patient_id\",\t\"lesion_id\",\t\"radiologist_id\"])\n",
        "\n",
        "#finalDF.iloc[440:460,:]\n",
        "df"
      ],
      "metadata": {
        "colab": {
          "base_uri": "https://localhost:8080/"
        },
        "id": "0l0tNFsACP6I",
        "outputId": "ac8491ec-0006-4bd9-8683-ce4efde96dd4"
      },
      "execution_count": null,
      "outputs": [
        {
          "output_type": "stream",
          "name": "stdout",
          "text": [
            "--KeyboardInterrupt--\n",
            "--KeyboardInterrupt--\n"
          ]
        }
      ]
    },
    {
      "cell_type": "code",
      "source": [
        "idx1[0][0]\n",
        "main_sr_DF.loc[idx1[0][0], :]\n",
        "\n",
        "finalDF"
      ],
      "metadata": {
        "colab": {
          "base_uri": "https://localhost:8080/",
          "height": 423
        },
        "id": "INXsN3_Cp4uo",
        "outputId": "bfe6d907-de76-4fb3-d80b-dcccec560f67"
      },
      "execution_count": 32,
      "outputs": [
        {
          "output_type": "execute_result",
          "data": {
            "text/plain": [
              "     patient_id  lesion_id radiologist_id\n",
              "0             1          1       U_OjmNZ8\n",
              "1             1          1       U_8ZmM76\n",
              "2             1          1       U_OrjnrO\n",
              "3             3          1       U_8ZmM76\n",
              "4             3          2       U_8ekGLQ\n",
              "..          ...        ...            ...\n",
              "442         525          1       U_OjmNZ8\n",
              "443         525          1       U_8ZmM76\n",
              "444         527          1       U_8ekGLQ\n",
              "445         527          1       U_OjmNZ8\n",
              "446         527          1       U_8ZmM76\n",
              "\n",
              "[447 rows x 3 columns]"
            ],
            "text/html": [
              "\n",
              "  <div id=\"df-ec1625a9-8499-4f11-acb4-9707572915a9\">\n",
              "    <div class=\"colab-df-container\">\n",
              "      <div>\n",
              "<style scoped>\n",
              "    .dataframe tbody tr th:only-of-type {\n",
              "        vertical-align: middle;\n",
              "    }\n",
              "\n",
              "    .dataframe tbody tr th {\n",
              "        vertical-align: top;\n",
              "    }\n",
              "\n",
              "    .dataframe thead th {\n",
              "        text-align: right;\n",
              "    }\n",
              "</style>\n",
              "<table border=\"1\" class=\"dataframe\">\n",
              "  <thead>\n",
              "    <tr style=\"text-align: right;\">\n",
              "      <th></th>\n",
              "      <th>patient_id</th>\n",
              "      <th>lesion_id</th>\n",
              "      <th>radiologist_id</th>\n",
              "    </tr>\n",
              "  </thead>\n",
              "  <tbody>\n",
              "    <tr>\n",
              "      <th>0</th>\n",
              "      <td>1</td>\n",
              "      <td>1</td>\n",
              "      <td>U_OjmNZ8</td>\n",
              "    </tr>\n",
              "    <tr>\n",
              "      <th>1</th>\n",
              "      <td>1</td>\n",
              "      <td>1</td>\n",
              "      <td>U_8ZmM76</td>\n",
              "    </tr>\n",
              "    <tr>\n",
              "      <th>2</th>\n",
              "      <td>1</td>\n",
              "      <td>1</td>\n",
              "      <td>U_OrjnrO</td>\n",
              "    </tr>\n",
              "    <tr>\n",
              "      <th>3</th>\n",
              "      <td>3</td>\n",
              "      <td>1</td>\n",
              "      <td>U_8ZmM76</td>\n",
              "    </tr>\n",
              "    <tr>\n",
              "      <th>4</th>\n",
              "      <td>3</td>\n",
              "      <td>2</td>\n",
              "      <td>U_8ekGLQ</td>\n",
              "    </tr>\n",
              "    <tr>\n",
              "      <th>...</th>\n",
              "      <td>...</td>\n",
              "      <td>...</td>\n",
              "      <td>...</td>\n",
              "    </tr>\n",
              "    <tr>\n",
              "      <th>442</th>\n",
              "      <td>525</td>\n",
              "      <td>1</td>\n",
              "      <td>U_OjmNZ8</td>\n",
              "    </tr>\n",
              "    <tr>\n",
              "      <th>443</th>\n",
              "      <td>525</td>\n",
              "      <td>1</td>\n",
              "      <td>U_8ZmM76</td>\n",
              "    </tr>\n",
              "    <tr>\n",
              "      <th>444</th>\n",
              "      <td>527</td>\n",
              "      <td>1</td>\n",
              "      <td>U_8ekGLQ</td>\n",
              "    </tr>\n",
              "    <tr>\n",
              "      <th>445</th>\n",
              "      <td>527</td>\n",
              "      <td>1</td>\n",
              "      <td>U_OjmNZ8</td>\n",
              "    </tr>\n",
              "    <tr>\n",
              "      <th>446</th>\n",
              "      <td>527</td>\n",
              "      <td>1</td>\n",
              "      <td>U_8ZmM76</td>\n",
              "    </tr>\n",
              "  </tbody>\n",
              "</table>\n",
              "<p>447 rows × 3 columns</p>\n",
              "</div>\n",
              "      <button class=\"colab-df-convert\" onclick=\"convertToInteractive('df-ec1625a9-8499-4f11-acb4-9707572915a9')\"\n",
              "              title=\"Convert this dataframe to an interactive table.\"\n",
              "              style=\"display:none;\">\n",
              "        \n",
              "  <svg xmlns=\"http://www.w3.org/2000/svg\" height=\"24px\"viewBox=\"0 0 24 24\"\n",
              "       width=\"24px\">\n",
              "    <path d=\"M0 0h24v24H0V0z\" fill=\"none\"/>\n",
              "    <path d=\"M18.56 5.44l.94 2.06.94-2.06 2.06-.94-2.06-.94-.94-2.06-.94 2.06-2.06.94zm-11 1L8.5 8.5l.94-2.06 2.06-.94-2.06-.94L8.5 2.5l-.94 2.06-2.06.94zm10 10l.94 2.06.94-2.06 2.06-.94-2.06-.94-.94-2.06-.94 2.06-2.06.94z\"/><path d=\"M17.41 7.96l-1.37-1.37c-.4-.4-.92-.59-1.43-.59-.52 0-1.04.2-1.43.59L10.3 9.45l-7.72 7.72c-.78.78-.78 2.05 0 2.83L4 21.41c.39.39.9.59 1.41.59.51 0 1.02-.2 1.41-.59l7.78-7.78 2.81-2.81c.8-.78.8-2.07 0-2.86zM5.41 20L4 18.59l7.72-7.72 1.47 1.35L5.41 20z\"/>\n",
              "  </svg>\n",
              "      </button>\n",
              "      \n",
              "  <style>\n",
              "    .colab-df-container {\n",
              "      display:flex;\n",
              "      flex-wrap:wrap;\n",
              "      gap: 12px;\n",
              "    }\n",
              "\n",
              "    .colab-df-convert {\n",
              "      background-color: #E8F0FE;\n",
              "      border: none;\n",
              "      border-radius: 50%;\n",
              "      cursor: pointer;\n",
              "      display: none;\n",
              "      fill: #1967D2;\n",
              "      height: 32px;\n",
              "      padding: 0 0 0 0;\n",
              "      width: 32px;\n",
              "    }\n",
              "\n",
              "    .colab-df-convert:hover {\n",
              "      background-color: #E2EBFA;\n",
              "      box-shadow: 0px 1px 2px rgba(60, 64, 67, 0.3), 0px 1px 3px 1px rgba(60, 64, 67, 0.15);\n",
              "      fill: #174EA6;\n",
              "    }\n",
              "\n",
              "    [theme=dark] .colab-df-convert {\n",
              "      background-color: #3B4455;\n",
              "      fill: #D2E3FC;\n",
              "    }\n",
              "\n",
              "    [theme=dark] .colab-df-convert:hover {\n",
              "      background-color: #434B5C;\n",
              "      box-shadow: 0px 1px 3px 1px rgba(0, 0, 0, 0.15);\n",
              "      filter: drop-shadow(0px 1px 2px rgba(0, 0, 0, 0.3));\n",
              "      fill: #FFFFFF;\n",
              "    }\n",
              "  </style>\n",
              "\n",
              "      <script>\n",
              "        const buttonEl =\n",
              "          document.querySelector('#df-ec1625a9-8499-4f11-acb4-9707572915a9 button.colab-df-convert');\n",
              "        buttonEl.style.display =\n",
              "          google.colab.kernel.accessAllowed ? 'block' : 'none';\n",
              "\n",
              "        async function convertToInteractive(key) {\n",
              "          const element = document.querySelector('#df-ec1625a9-8499-4f11-acb4-9707572915a9');\n",
              "          const dataTable =\n",
              "            await google.colab.kernel.invokeFunction('convertToInteractive',\n",
              "                                                     [key], {});\n",
              "          if (!dataTable) return;\n",
              "\n",
              "          const docLinkHtml = 'Like what you see? Visit the ' +\n",
              "            '<a target=\"_blank\" href=https://colab.research.google.com/notebooks/data_table.ipynb>data table notebook</a>'\n",
              "            + ' to learn more about interactive tables.';\n",
              "          element.innerHTML = '';\n",
              "          dataTable['output_type'] = 'display_data';\n",
              "          await google.colab.output.renderOutput(dataTable, element);\n",
              "          const docLink = document.createElement('div');\n",
              "          docLink.innerHTML = docLinkHtml;\n",
              "          element.appendChild(docLink);\n",
              "        }\n",
              "      </script>\n",
              "    </div>\n",
              "  </div>\n",
              "  "
            ]
          },
          "metadata": {},
          "execution_count": 32
        }
      ]
    },
    {
      "cell_type": "code",
      "source": [
        "# check for duplicates\n",
        "\n",
        "duplicate = finalDF.duplicated()\n",
        "\n",
        "print(duplicate[duplicate==True])"
      ],
      "metadata": {
        "colab": {
          "base_uri": "https://localhost:8080/"
        },
        "id": "npUU3diOEwZV",
        "outputId": "fe12a17f-0971-4b60-8fa8-c03e0e2b6303"
      },
      "execution_count": 15,
      "outputs": [
        {
          "output_type": "stream",
          "name": "stdout",
          "text": [
            "451     True\n",
            "452     True\n",
            "453     True\n",
            "454     True\n",
            "455     True\n",
            "        ... \n",
            "1080    True\n",
            "1081    True\n",
            "1082    True\n",
            "1083    True\n",
            "1084    True\n",
            "Length: 203, dtype: bool\n"
          ]
        }
      ]
    }
  ]
}