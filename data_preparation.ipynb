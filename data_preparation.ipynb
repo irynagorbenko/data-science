{
  "nbformat": 4,
  "nbformat_minor": 0,
  "metadata": {
    "colab": {
      "provenance": [],
      "authorship_tag": "ABX9TyPb9mR40mp5mIvSGElwlSbI",
      "include_colab_link": true
    },
    "kernelspec": {
      "name": "python3",
      "display_name": "Python 3"
    },
    "language_info": {
      "name": "python"
    }
  },
  "cells": [
    {
      "cell_type": "markdown",
      "metadata": {
        "id": "view-in-github",
        "colab_type": "text"
      },
      "source": [
        "<a href=\"https://colab.research.google.com/github/irynagorbenko/data-science/blob/opi-radiomics/data_preparation.ipynb\" target=\"_parent\"><img src=\"https://colab.research.google.com/assets/colab-badge.svg\" alt=\"Open In Colab\"/></a>"
      ]
    },
    {
      "cell_type": "code",
      "execution_count": 2,
      "metadata": {
        "colab": {
          "base_uri": "https://localhost:8080/"
        },
        "id": "Ip9aQSJt8ujx",
        "outputId": "c2645ffe-ae81-45ce-c5eb-ef1a07ba080c"
      },
      "outputs": [
        {
          "output_type": "execute_result",
          "data": {
            "text/plain": [
              "(1072, 8)"
            ]
          },
          "metadata": {},
          "execution_count": 2
        }
      ],
      "source": [
        "# Read data from Google Drive\n",
        "from google.colab import auth\n",
        "auth.authenticate_user()\n",
        "import gspread\n",
        "from oauth2client.client import GoogleCredentials\n",
        "from google.auth import default\n",
        "creds, _ = default()\n",
        "import mlxtend\n",
        "gc = gspread.authorize(creds)\n",
        "from google.colab import files\n",
        "\n",
        "# Open new sheet and add data\n",
        "spreadsheet = gc.open_by_url('https://docs.google.com/spreadsheets/d/1feqYTH-tvngnshRH6FH5YTa_aVZqXvGEYN24zABKKhU/edit#gid=0')\n",
        "main= spreadsheet.worksheet('raw_data');\n",
        "\n",
        "import pandas as pd\n",
        "mainDF = pd.DataFrame(main.get_all_records())\n",
        "mainDF.shape"
      ]
    },
    {
      "cell_type": "code",
      "source": [],
      "metadata": {
        "id": "kUmiY4yH_ZQR"
      },
      "execution_count": null,
      "outputs": []
    }
  ]
}