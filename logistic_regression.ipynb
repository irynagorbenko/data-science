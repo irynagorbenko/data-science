{
  "nbformat": 4,
  "nbformat_minor": 0,
  "metadata": {
    "colab": {
      "provenance": [],
      "authorship_tag": "ABX9TyPJilcM+TBZ97hfA6ZcK7YS",
      "include_colab_link": true
    },
    "kernelspec": {
      "name": "python3",
      "display_name": "Python 3"
    },
    "language_info": {
      "name": "python"
    }
  },
  "cells": [
    {
      "cell_type": "markdown",
      "metadata": {
        "id": "view-in-github",
        "colab_type": "text"
      },
      "source": [
        "<a href=\"https://colab.research.google.com/github/irynagorbenko/data-science/blob/opi-radiomics/logistic_regression.ipynb\" target=\"_parent\"><img src=\"https://colab.research.google.com/assets/colab-badge.svg\" alt=\"Open In Colab\"/></a>"
      ]
    },
    {
      "cell_type": "code",
      "execution_count": null,
      "metadata": {
        "id": "vfFBR-IFehKf"
      },
      "outputs": [],
      "source": [
        "import pandas as pd\n",
        "import numpy as np\n",
        "\n",
        "\n",
        "# Read data from CSV \n",
        "rad = pd.read_csv(\"D:\\\\DEV\\\\Radiomika\\\\Analiza\\\\radiomics_t2w.csv\")\n",
        "sr = pd.read_csv(\"D:\\\\DEV\\\\Radiomika\\\\Analiza\\\\sr.csv\")"
      ]
    },
    {
      "cell_type": "code",
      "source": [
        "rad.shape"
      ],
      "metadata": {
        "id": "SKzo_EGXg23q"
      },
      "execution_count": null,
      "outputs": []
    },
    {
      "cell_type": "code",
      "source": [
        "sr.shape"
      ],
      "metadata": {
        "id": "r01WlMipg3y9"
      },
      "execution_count": null,
      "outputs": []
    },
    {
      "cell_type": "code",
      "source": [
        "rad.iloc[0:10, :]"
      ],
      "metadata": {
        "id": "6bNOdRRzg55p"
      },
      "execution_count": null,
      "outputs": []
    },
    {
      "cell_type": "code",
      "source": [
        "sr.iloc[0:10, :]"
      ],
      "metadata": {
        "id": "xCV04Cjeg8Qi"
      },
      "execution_count": null,
      "outputs": []
    },
    {
      "cell_type": "code",
      "source": [
        "rad.info()\n",
        "r1 = rad.get(['lesion_id', \"original_firstorder_Energy\"])\n",
        "# subsetting the data:\n",
        "lesion_1 = r1[r1['lesion_id'] == 1].iloc[:, 1]\n",
        "lesion_2 = r1[r1['lesion_id'] == 2].iloc[:, 1]\n",
        "lesion_3 = r1[r1['lesion_id'] == 3].iloc[:, 1]\n",
        "\n",
        "energy = r1.iloc[:, 1]"
      ],
      "metadata": {
        "id": "M90bnQrng_dM"
      },
      "execution_count": null,
      "outputs": []
    },
    {
      "cell_type": "code",
      "source": [
        "from scipy.stats import bartlett\n",
        "\n",
        "# Bartlett's test in Python with SciPy:\n",
        "stat, p = bartlett(lesion_1, lesion_2, lesion_3)\n",
        "\n",
        "# Get the results:\n",
        "print(stat, p)\n",
        "\n",
        "#The small p-value suggests that the populations do not have equal variances."
      ],
      "metadata": {
        "id": "S3KTu4FEhHLG"
      },
      "execution_count": null,
      "outputs": []
    },
    {
      "cell_type": "code",
      "source": [
        "from scipy.stats import levene\n",
        "\n",
        "# The Levene test tests the null hypothesis that all input samples are from populations with equal variances. \n",
        "# Levene’s test is an alternative to Bartlett’s test bartlett in the case where there are significant deviations from normality.\n",
        "stat, p = levene(lesion_1, lesion_2, lesion_3)\n",
        "\n",
        "# Get the results:\n",
        "print(stat, p)"
      ],
      "metadata": {
        "id": "34te9ounhJF6"
      },
      "execution_count": null,
      "outputs": []
    },
    {
      "cell_type": "code",
      "source": [
        "[np.var(x) for x in [lesion_1, lesion_2, lesion_3]]"
      ],
      "metadata": {
        "id": "Hxpj7U01hNa6"
      },
      "execution_count": null,
      "outputs": []
    },
    {
      "cell_type": "code",
      "source": [
        "sr.info()\n",
        "sr1 = sr.get(['lesion_id', \"lesion_pirads\"])\n",
        "sr1\n",
        "\n",
        "# subsetting the data:\n",
        "slesion_1 = sr1[sr1['lesion_id'] == 1].iloc[:, 1]\n",
        "slesion_2 = sr1[sr1['lesion_id'] == 2].iloc[:, 1]\n",
        "slesion_3 = sr1[sr1['lesion_id'] == 3].iloc[:, 1]"
      ],
      "metadata": {
        "id": "Na61DYhahN-N"
      },
      "execution_count": null,
      "outputs": []
    },
    {
      "cell_type": "code",
      "source": [
        "lesion_1.shape"
      ],
      "metadata": {
        "id": "a3z2NlXVhh4o"
      },
      "execution_count": null,
      "outputs": []
    },
    {
      "cell_type": "code",
      "source": [
        "lesion_1"
      ],
      "metadata": {
        "id": "_A5gwtT0ho7y"
      },
      "execution_count": null,
      "outputs": []
    },
    {
      "cell_type": "code",
      "source": [
        "slesion_1.shape"
      ],
      "metadata": {
        "id": "ZwHpmaFJhfB0"
      },
      "execution_count": null,
      "outputs": []
    },
    {
      "cell_type": "code",
      "source": [
        "slesion_1 = slesion_1[0:840]\n",
        "slesion_1"
      ],
      "metadata": {
        "id": "sYt5eZPfhfum"
      },
      "execution_count": null,
      "outputs": []
    },
    {
      "cell_type": "code",
      "source": [
        "np_lesion_1 = pd.DataFrame(lesion_1).to_numpy()#.ravel()\n",
        "np_slesion_1 = pd.DataFrame(slesion_1).to_numpy()#.ravel()"
      ],
      "metadata": {
        "id": "nx7ErfKGhrpB"
      },
      "execution_count": null,
      "outputs": []
    },
    {
      "cell_type": "code",
      "source": [
        "np_lesion_1"
      ],
      "metadata": {
        "id": "ORQksUdOhvR9"
      },
      "execution_count": null,
      "outputs": []
    },
    {
      "cell_type": "code",
      "source": [
        "np_slesion_1"
      ],
      "metadata": {
        "id": "ivmDd-Ulhv4R"
      },
      "execution_count": null,
      "outputs": []
    },
    {
      "cell_type": "code",
      "source": [
        "import matplotlib.pyplot as plt\n",
        "from sklearn.linear_model import LogisticRegression\n",
        "from sklearn.metrics import classification_report, confusion_matrix\n",
        "\n",
        "model = LogisticRegression(solver='liblinear', random_state=0).fit(np_lesion_1, np_lesion_1)"
      ],
      "metadata": {
        "id": "UmlWmZ2Xh3RE"
      },
      "execution_count": null,
      "outputs": []
    }
  ]
}