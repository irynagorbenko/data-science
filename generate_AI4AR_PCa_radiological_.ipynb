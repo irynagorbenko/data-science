{
  "nbformat": 4,
  "nbformat_minor": 0,
  "metadata": {
    "colab": {
      "provenance": [],
      "authorship_tag": "ABX9TyMo0N/jUhQlAE9OQ+b7fQ2v",
      "include_colab_link": true
    },
    "kernelspec": {
      "name": "python3",
      "display_name": "Python 3"
    },
    "language_info": {
      "name": "python"
    }
  },
  "cells": [
    {
      "cell_type": "markdown",
      "metadata": {
        "id": "view-in-github",
        "colab_type": "text"
      },
      "source": [
        "<a href=\"https://colab.research.google.com/github/irynagorbenko/data-science/blob/opi-radiomics/generate_AI4AR_PCa_radiological_.ipynb\" target=\"_parent\"><img src=\"https://colab.research.google.com/assets/colab-badge.svg\" alt=\"Open In Colab\"/></a>"
      ]
    },
    {
      "cell_type": "code",
      "execution_count": 97,
      "metadata": {
        "id": "xTPEZhjNcLO0"
      },
      "outputs": [],
      "source": [
        "from google.colab import auth\n",
        "auth.authenticate_user()\n",
        "import gspread\n",
        "from oauth2client.client import GoogleCredentials\n",
        "import pandas as pd\n",
        "from google.auth import default\n",
        "creds, _ = default()\n",
        "import mlxtend\n",
        "gc = gspread.authorize(creds)\n",
        "from google.colab import files\n",
        "\n",
        "# Open our new sheet and add some data.\n",
        "spreadsheet = gc.open_by_url('https://docs.google.com/spreadsheets/d/11C4ZvTHtlHLGBtw0DNvYshqYdMCiRI3iPJ3OkMcjPos/edit#gid=951635729')\n",
        "rad_tmp= spreadsheet.worksheet('AI4AR_PCa_radiological');\n",
        "\n",
        "# get_all_values gives a list of rows.\n",
        "rows = rad_tmp.get('A1:BL1701')"
      ]
    },
    {
      "cell_type": "code",
      "source": [
        "dfMain = pd.DataFrame(rows)\n",
        "dfMain.columns = dfMain.iloc[0] \n",
        "dfMain = dfMain[1:]"
      ],
      "metadata": {
        "id": "0zGhP50CllOt"
      },
      "execution_count": 98,
      "outputs": []
    },
    {
      "cell_type": "code",
      "source": [
        "toDown = dfMain.loc[dfMain['Do_usun']=='False']\n",
        "toDown = toDown.drop('Do_usun', axis=1)\n",
        "toDown = toDown.drop('lesion_id', axis=1)\n",
        "toDown = toDown.rename(columns = {'DO_ZMIANY': 'lesion_id', 'BIOPSJA':'TBx'}, inplace = False)\n",
        "#toDown.to_csv('AI4AR_PCa_radiological_new.csv') \n",
        "#files.download('AI4AR_PCa_radiological_new.csv')\n",
        "toDown"
      ],
      "metadata": {
        "id": "PA90quzplytv"
      },
      "execution_count": null,
      "outputs": []
    }
  ]
}