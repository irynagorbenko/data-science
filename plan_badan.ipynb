{
  "nbformat": 4,
  "nbformat_minor": 0,
  "metadata": {
    "colab": {
      "provenance": [],
      "authorship_tag": "ABX9TyN8W1tW/z7UJv2CrlqLE3zZ",
      "include_colab_link": true
    },
    "kernelspec": {
      "name": "python3",
      "display_name": "Python 3"
    },
    "language_info": {
      "name": "python"
    }
  },
  "cells": [
    {
      "cell_type": "markdown",
      "metadata": {
        "id": "view-in-github",
        "colab_type": "text"
      },
      "source": [
        "<a href=\"https://colab.research.google.com/github/irynagorbenko/data-science/blob/opi-radiomics/plan_badan.ipynb\" target=\"_parent\"><img src=\"https://colab.research.google.com/assets/colab-badge.svg\" alt=\"Open In Colab\"/></a>"
      ]
    },
    {
      "cell_type": "markdown",
      "source": [
        "DLA WSZYSTKICH: podzielić na PZ i TZ. Analizy robimy osobno dla różnych stref - 4 regresji\n",
        "\n",
        "I. rozroznienie rak/nie rak\n",
        "\n",
        "1. TBx_SBx_state =1, 0 (N/A odrzucamy) - kliniczny\n",
        "2. podzielić na PZ i TZ - radiologiczny\n",
        "3. regresja wg cech radiomicznych\n",
        "\n",
        "nr of study = \n",
        "\n",
        "\n",
        "II. rozruzniamy isup (1 -5) dla rakowych pacjentow (isup_group)\n",
        "\n",
        "1. TBx_SBx_state =1\n",
        "2. no_of_possitive = 1\n",
        "3. podzielić na PZ i TZ - radiologiczny\n",
        "4. regresja wg cech radiomicznych / klasyfikator (lasy losowe)\n",
        "\n",
        "nr of study = "
      ],
      "metadata": {
        "id": "Y0jujEx4ZMmG"
      }
    },
    {
      "cell_type": "code",
      "source": [
        "!pip install pingouin"
      ],
      "metadata": {
        "id": "oww-8UaqZaaf"
      },
      "execution_count": null,
      "outputs": []
    },
    {
      "cell_type": "code",
      "source": [
        "import pandas as pd\n",
        "import numpy as np\n",
        "import pingouin as pg\n",
        "import seaborn as sns"
      ],
      "metadata": {
        "id": "c6VtncBUXTws"
      },
      "execution_count": 2,
      "outputs": []
    },
    {
      "cell_type": "code",
      "source": [
        "# Read data from CSV\n",
        "clinDF = pd.read_csv('/content/AI4A4_PCa_clinical.csv')\n",
        "srDF = pd.read_csv('/content/AI4AR_PCa_radiological.csv')\n",
        "radDF = pd.read_csv('/content/radiomics_t2w.csv')"
      ],
      "metadata": {
        "id": "LI7Yxe3DXzZd"
      },
      "execution_count": 3,
      "outputs": []
    },
    {
      "cell_type": "code",
      "source": [
        "print(clinDF.shape, radDF.shape, srDF.shape)"
      ],
      "metadata": {
        "colab": {
          "base_uri": "https://localhost:8080/"
        },
        "id": "bu-Y-wxYhaii",
        "outputId": "f57c3eea-44b8-4c38-d161-80f30e3d5765"
      },
      "execution_count": 4,
      "outputs": [
        {
          "output_type": "stream",
          "name": "stdout",
          "text": [
            "(503, 47) (1046, 47) (1464, 21)\n"
          ]
        }
      ]
    },
    {
      "cell_type": "code",
      "source": [
        "clinDF.columns = clinDF.columns.str.replace(' ', '')"
      ],
      "metadata": {
        "id": "lkwklrrAq4uI"
      },
      "execution_count": 5,
      "outputs": []
    },
    {
      "cell_type": "code",
      "source": [
        "# Get studies where TBx_SBx_state =1, 0 (true positive, true negative cancer)\n",
        "\n",
        "clinDF = clinDF[clinDF['TBx_SBx_state'].notna()]\n",
        "clinDF.shape\n",
        "\n",
        "# Get studies where TBx_SBx_state = 0\n",
        "clinDF0 = clinDF[clinDF['TBx_SBx_state']==0]\n",
        "\n",
        "# Get studies where TBx_SBx_state = 1\n",
        "clinDF1 = clinDF[clinDF['TBx_SBx_state']==1]"
      ],
      "metadata": {
        "id": "8D16VZoqqp4E"
      },
      "execution_count": 6,
      "outputs": []
    },
    {
      "cell_type": "code",
      "source": [
        "# Divide to PZ and TZ lesions\n",
        "\n",
        "# PZ\n",
        "srDF[['patient_id', 'lesion_originating']].head(10)\n",
        "srDF_PZ = srDF[srDF['lesion_originating'] == 'PZ']\n",
        "srDF_PZ.shape"
      ],
      "metadata": {
        "colab": {
          "base_uri": "https://localhost:8080/"
        },
        "id": "2SGkOdRgybX1",
        "outputId": "c5c1ac35-8b07-4be9-cc5c-5b8f2367108a"
      },
      "execution_count": 7,
      "outputs": [
        {
          "output_type": "execute_result",
          "data": {
            "text/plain": [
              "(699, 21)"
            ]
          },
          "metadata": {},
          "execution_count": 7
        }
      ]
    },
    {
      "cell_type": "code",
      "source": [
        "# TZ\n",
        "srDF_TZ = srDF[srDF['lesion_originating'] == 'TZ']\n",
        "srDF_TZ.shape"
      ],
      "metadata": {
        "colab": {
          "base_uri": "https://localhost:8080/"
        },
        "id": "tPdP8sug6gfb",
        "outputId": "9c44c82a-009d-473d-e197-63c692c79001"
      },
      "execution_count": 8,
      "outputs": [
        {
          "output_type": "execute_result",
          "data": {
            "text/plain": [
              "(765, 21)"
            ]
          },
          "metadata": {},
          "execution_count": 8
        }
      ]
    },
    {
      "cell_type": "code",
      "source": [
        "# Prepare studies in PZ\n",
        "\n",
        "id_PZ = srDF_PZ[['patient_id']].drop_duplicates()\n",
        "id_PZ.shape\n",
        "\n",
        "# Studies where TBx_SBx_state =1 (aimed biopsy is positive, systematic is not important) - true positive, cancer\n",
        "clinDF_PZ1 = clinDF1[clinDF1['patient_id'].isin(id_PZ['patient_id'])]\n",
        "clinDF_PZ1\n",
        "\n",
        "# Studies where TBx_SBx_state =0 (aimed biopsy is negative, systematic is negative) - true negative, healthy\n",
        "clinDF_PZ0 = clinDF0[clinDF0['patient_id'].isin(id_PZ['patient_id'])]\n",
        "clinDF_PZ0\n"
      ],
      "metadata": {
        "id": "_yOdeN-97BPX"
      },
      "execution_count": null,
      "outputs": []
    },
    {
      "cell_type": "code",
      "source": [
        "# Prepare studies in TZ\n",
        "\n",
        "id_TZ = srDF_TZ[['patient_id']].drop_duplicates()\n",
        "id_TZ.shape\n",
        "\n",
        "# Studies where TBx_SBx_state =1 (aimed biopsy is positive, systematic is not important) - true positive, cancer\n",
        "clinDF_TZ1 = clinDF1[clinDF1['patient_id'].isin(id_TZ['patient_id'])]\n",
        "clinDF_TZ1\n",
        "\n",
        "# Studies where TBx_SBx_state =0 (aimed biopsy is negative, systematic is negative) - true negative, healthy\n",
        "clinDF_TZ0 = clinDF0[clinDF0['patient_id'].isin(id_TZ['patient_id'])]\n",
        "clinDF_TZ0"
      ],
      "metadata": {
        "id": "vzndJFab8oAF"
      },
      "execution_count": null,
      "outputs": []
    },
    {
      "cell_type": "markdown",
      "source": [
        "# **Statistic analysis in PZ - test on PSA results**"
      ],
      "metadata": {
        "id": "UtaFRAs5Dswd"
      }
    },
    {
      "cell_type": "markdown",
      "source": [
        "## **Prepare learning and test groups**"
      ],
      "metadata": {
        "id": "45lgsa8jHv_k"
      }
    },
    {
      "cell_type": "code",
      "source": [
        "# Prepare learning group and test group in PZ\n",
        "\n",
        "healthy = clinDF_PZ0.shape[0]\n",
        "healthy\n",
        "\n",
        "sick = clinDF_PZ1.shape[0]\n",
        "sick\n",
        "\n",
        "totalNR = healthy + sick\n",
        "# totalNR*0.8 # 146 studies\n",
        "\n",
        "# healthy*0.8 # 40 studies - 80 %\n",
        "\n",
        "# sick*0.8 # 106 studies - 80 %"
      ],
      "metadata": {
        "id": "AGZpMxWjDrui"
      },
      "execution_count": 11,
      "outputs": []
    },
    {
      "cell_type": "code",
      "source": [
        "# Test of the approach - does psa predict cancer?\n",
        "\n",
        "'psa_result'\n",
        "'psa_result', 'prostate_volume_us',\n",
        "       'psa_density_us', 'prostate_volume_mri', 'psa_density_mri'\n",
        "\n",
        "\n",
        "       'is_cancer'\n",
        "\n",
        "       'gs_primary', 'gs_secondary', 'gs_total', 'isup_group', 'gs_post',\n",
        "       'isup_grade_post'\n",
        "clinDF_PZ0.columns"
      ],
      "metadata": {
        "id": "PrJUBvbwKWX3"
      },
      "execution_count": null,
      "outputs": []
    },
    {
      "cell_type": "markdown",
      "source": [
        "## **Preprocessing of the data - test on PSA results**"
      ],
      "metadata": {
        "id": "CXSxSGBY5BAM"
      }
    },
    {
      "cell_type": "code",
      "source": [
        "# Create new dataframe where psa results for healthy and ill subjects are presented in different columns (healthy pacients are less then ill)\n",
        "\n",
        "# Healthy subjects\n",
        "c1 = clinDF_PZ0[['psa_result']].astype('float').reset_index()\n",
        "c1.columns = ['index_PZ0', 'psa_result_PZ0']\n",
        "c1.columns\n",
        "\n",
        "# Subjects with cancer\n",
        "c2 = clinDF_PZ1[['psa_result']].astype('float').reset_index()\n",
        "c2.columns = ['index_PZ1', 'psa_result_PZ1']\n",
        "c2\n",
        "\n",
        "df = c2.join(c1)\n",
        "df.info()"
      ],
      "metadata": {
        "id": "QKvuyLd7pq0u"
      },
      "execution_count": null,
      "outputs": []
    },
    {
      "cell_type": "code",
      "source": [
        "df[['psa_result_PZ0', 'psa_result_PZ1']]. dtypes"
      ],
      "metadata": {
        "id": "g3uLm2y9tdAz"
      },
      "execution_count": null,
      "outputs": []
    },
    {
      "cell_type": "markdown",
      "source": [
        "## **Boxplots - PSA**"
      ],
      "metadata": {
        "id": "7bmgk74S5qAL"
      }
    },
    {
      "cell_type": "code",
      "source": [
        "# Set the figure size\n",
        "plt.rcParams[\"figure.figsize\"] = [10.50, 5.50]\n",
        "plt.rcParams[\"figure.autolayout\"] = True\n",
        "\n",
        "# Plot the dataframe\n",
        "ax = df[['psa_result_PZ0', 'psa_result_PZ1']].plot(kind='box', title='boxplot')\n",
        "\n",
        "# Display the plot\n",
        "plt.show()"
      ],
      "metadata": {
        "id": "H7uRUugJtMu4"
      },
      "execution_count": null,
      "outputs": []
    },
    {
      "cell_type": "markdown",
      "source": [
        "## **Normality tests - PSA**\n",
        "\n",
        "If the p-value of the test is greater than α = .05, then the data is assumed to be normally distributed."
      ],
      "metadata": {
        "id": "RcQevRYc67ch"
      }
    },
    {
      "cell_type": "code",
      "source": [
        "# Shapiro-Wilk Test\n",
        "\n",
        "import math\n",
        "import numpy as np\n",
        "from scipy.stats import shapiro \n",
        "\n",
        "health_shapiro = shapiro(c1[['psa_result_PZ0']])\n",
        "cancer_shapiro = shapiro(c2[['psa_result_PZ1']])\n",
        "# According to Shapiro-Wilk test results are not normally distributed"
      ],
      "metadata": {
        "id": "qC-lovzK7Axz"
      },
      "execution_count": null,
      "outputs": []
    },
    {
      "cell_type": "code",
      "source": [
        "# Kolmogorov-Smirnov Test\n",
        "\n",
        "import math\n",
        "import numpy as np\n",
        "from scipy.stats import kstest\n",
        "\n",
        "#perform Kolmogorov-Smirnov test for normality\n",
        "health_kstest = kstest(c1[['psa_result_PZ0']], 'norm')\n",
        "cancer_kstest = kstest(c2[['psa_result_PZ1']], 'norm')\n",
        "\n",
        "# According to Shapiro-Wilk test results are not normally distributed\n",
        "health_kstest"
      ],
      "metadata": {
        "id": "UmoC5Emu9463"
      },
      "execution_count": null,
      "outputs": []
    },
    {
      "cell_type": "markdown",
      "source": [
        "## **Outliers detection - PSA**"
      ],
      "metadata": {
        "id": "iVLlR5P85xKa"
      }
    },
    {
      "cell_type": "markdown",
      "source": [
        "**IQR (Inter Quartile Range)**\n",
        "\n",
        "IQR = Quartile3 – Quartile1\n",
        "\n",
        "upper = Q3 +1.5*IQR\n",
        "lower = Q1 – 1.5*IQR\n",
        "\n",
        "To define the outlier base value is defined above and below datasets normal range namely Upper and Lower bounds, define the upper and the lower bound"
      ],
      "metadata": {
        "id": "liHgPO_s6CYq"
      }
    },
    {
      "cell_type": "code",
      "source": [
        "stats = df.describe()[['psa_result_PZ0', 'psa_result_PZ1']]\n",
        "stats"
      ],
      "metadata": {
        "id": "Q6_orihyz9Ht"
      },
      "execution_count": null,
      "outputs": []
    },
    {
      "cell_type": "code",
      "source": [
        "stats.loc['count']"
      ],
      "metadata": {
        "id": "sL8ZNXGt4N9W"
      },
      "execution_count": null,
      "outputs": []
    },
    {
      "cell_type": "code",
      "source": [
        "clinDF_PZ0[['psa_result']] = clinDF_PZ0[['psa_result']].astype('float')\n",
        "\n",
        "#Changing the outlier markers\n",
        "red_circle = dict(markerfacecolor='red', marker='o')\n",
        "mean_shape = dict(markerfacecolor='green', marker='D', markeredgecolor='green')\n",
        "plt.boxplot(x = clinDF_PZ0[['psa_result']], vert = True, flierprops=red_circle, showmeans=True, meanprops=mean_shape);"
      ],
      "metadata": {
        "id": "knz_35XrUw-X"
      },
      "execution_count": null,
      "outputs": []
    },
    {
      "cell_type": "code",
      "source": [
        "clinDF_PZ = clinDF[clinDF['patient_id'].isin(id_PZ['patient_id'])]\n",
        "clinDF_PZ.shape\n",
        "\n",
        "cancer = clinDF_PZ[clinDF_PZ['is_cancer'].astype('bool')==True]\n",
        "cancer\n",
        "\n",
        "nocancer = clinDF_PZ[clinDF_PZ['is_cancer'].astype('bool')==False]\n",
        "nocancer"
      ],
      "metadata": {
        "id": "d6q1-A7xWWT6"
      },
      "execution_count": null,
      "outputs": []
    },
    {
      "cell_type": "code",
      "source": [
        "cancer[['psa_result']] = cancer[['psa_result']].astype('float')\n",
        "nocancer[['psa_result']] = nocancer[['psa_result']].astype('float')\n",
        "\n",
        "data = pd.DataFrame({\"Cancer\": cancer['psa_result'], \"NoCancer\": nocancer['psa_result']}, index=[0])\n",
        "\n",
        "# Plot the dataframe\n",
        "ax = data[['Cancer', 'NoCancer']].plot(kind='box', title='boxplot')\n",
        "\n"
      ],
      "metadata": {
        "id": "GV0OuuwVZdDv"
      },
      "execution_count": null,
      "outputs": []
    },
    {
      "cell_type": "markdown",
      "source": [
        "# **Statistic analysis of radiomic features**"
      ],
      "metadata": {
        "id": "sqg-CfMdC7GX"
      }
    },
    {
      "cell_type": "markdown",
      "source": [
        "## **Firstorder**\n",
        "\n",
        "First-order statistics describe the distribution of voxel intensities within the image region defined by the mask through commonly used and basic metrics."
      ],
      "metadata": {
        "id": "b83GGGlpDEIs"
      }
    },
    {
      "cell_type": "markdown",
      "source": [
        "### **Preprocessing**"
      ],
      "metadata": {
        "id": "lqCJ4hOSDbp8"
      }
    },
    {
      "cell_type": "code",
      "source": [
        "radDF_PZ0 = radDF[radDF['patient_id'].isin(clinDF_PZ0['patient_id'])]\n",
        "radDF_PZ0\n",
        "\n",
        "radDF_PZ1 = radDF[radDF['patient_id'].isin(clinDF_PZ1['patient_id'])]\n",
        "radDF_PZ1\n",
        "\n",
        "# Get only firstorder features for studies with cancer and no cancer in PZ area\n",
        "radDF_PZ0_fo = radDF_PZ0[radDF_PZ0.columns[radDF_PZ0.columns.str.contains('original_firstorder')]]\n",
        "radDF_PZ1_fo = radDF_PZ1[radDF_PZ1.columns[radDF_PZ1.columns.str.contains('original_firstorder')]]\n",
        "\n",
        "# Add column 'patient_id'\n",
        "radDF_PZ0_fo.insert(0, 'patient_id', radDF_PZ0.patient_id)\n",
        "radDF_PZ1_fo.insert(0, 'patient_id', radDF_PZ1.patient_id)\n",
        "\n",
        "# Add column 'is_cancer'\n",
        "radDF_PZ0_fo.insert(1, 'is_cancer', 0)\n",
        "radDF_PZ1_fo.insert(1, 'is_cancer', 1)"
      ],
      "metadata": {
        "id": "xx-6143UFcze"
      },
      "execution_count": 12,
      "outputs": []
    },
    {
      "cell_type": "code",
      "source": [
        "# DEBUG\n",
        "from google.colab import files\n",
        "radDF_PZ0_fo.to_csv('radDF_PZ0_fo.csv') \n",
        "files.download('radDF_PZ0_fo.csv')"
      ],
      "metadata": {
        "colab": {
          "base_uri": "https://localhost:8080/",
          "height": 17
        },
        "id": "FMV61_eeDv_M",
        "outputId": "f9454ddf-6f27-46b1-fa58-d088b14c3a0a"
      },
      "execution_count": 133,
      "outputs": [
        {
          "output_type": "display_data",
          "data": {
            "text/plain": [
              "<IPython.core.display.Javascript object>"
            ],
            "application/javascript": [
              "\n",
              "    async function download(id, filename, size) {\n",
              "      if (!google.colab.kernel.accessAllowed) {\n",
              "        return;\n",
              "      }\n",
              "      const div = document.createElement('div');\n",
              "      const label = document.createElement('label');\n",
              "      label.textContent = `Downloading \"${filename}\": `;\n",
              "      div.appendChild(label);\n",
              "      const progress = document.createElement('progress');\n",
              "      progress.max = size;\n",
              "      div.appendChild(progress);\n",
              "      document.body.appendChild(div);\n",
              "\n",
              "      const buffers = [];\n",
              "      let downloaded = 0;\n",
              "\n",
              "      const channel = await google.colab.kernel.comms.open(id);\n",
              "      // Send a message to notify the kernel that we're ready.\n",
              "      channel.send({})\n",
              "\n",
              "      for await (const message of channel.messages) {\n",
              "        // Send a message to notify the kernel that we're ready.\n",
              "        channel.send({})\n",
              "        if (message.buffers) {\n",
              "          for (const buffer of message.buffers) {\n",
              "            buffers.push(buffer);\n",
              "            downloaded += buffer.byteLength;\n",
              "            progress.value = downloaded;\n",
              "          }\n",
              "        }\n",
              "      }\n",
              "      const blob = new Blob(buffers, {type: 'application/binary'});\n",
              "      const a = document.createElement('a');\n",
              "      a.href = window.URL.createObjectURL(blob);\n",
              "      a.download = filename;\n",
              "      div.appendChild(a);\n",
              "      a.click();\n",
              "      div.remove();\n",
              "    }\n",
              "  "
            ]
          },
          "metadata": {}
        },
        {
          "output_type": "display_data",
          "data": {
            "text/plain": [
              "<IPython.core.display.Javascript object>"
            ],
            "application/javascript": [
              "download(\"download_edbf1270-8640-4303-b0d6-b8af76af80d3\", \"radDF_PZ0_fo.csv\", 22416)"
            ]
          },
          "metadata": {}
        }
      ]
    },
    {
      "cell_type": "code",
      "source": [
        "# Reset indexes for dataframes\n",
        "\n",
        "radDF_PZ0_fo = radDF_PZ0_fo.reset_index(drop=True)\n",
        "radDF_PZ1_fo = radDF_PZ1_fo.reset_index(drop=True)"
      ],
      "metadata": {
        "id": "tagjy2wHyKtc"
      },
      "execution_count": 13,
      "outputs": []
    },
    {
      "cell_type": "code",
      "source": [
        "# DEBUG\n",
        "a = random.sample(range(0, radDF_PZ0_fo.shape[0]-1), int(radDF_PZ0_fo.shape[0]*0.8//1))\n",
        "import numpy as np\n",
        "a = np.array(a)\n",
        "np.sort(a)\n",
        "a.shape"
      ],
      "metadata": {
        "id": "nw8C3pfw0jO_"
      },
      "execution_count": null,
      "outputs": []
    },
    {
      "cell_type": "code",
      "source": [
        "# Randomize 80 % of stadies for lerning group\n",
        "\n",
        "# Randomize indexes\n",
        "import random\n",
        "import numpy as np\n",
        "\n",
        "idxs_PZ0 = random.sample(range(0, radDF_PZ0_fo.shape[0]-1), int(radDF_PZ0_fo.shape[0]*0.8//1))\n",
        "idxs_PZ1 = random.sample(range(0, radDF_PZ1_fo.shape[0]-1), int(radDF_PZ1_fo.shape[0]*0.8//1))\n",
        "print(len(idxs_PZ0), len(idxs_PZ1))\n",
        "\n",
        "# Sort indexes\n",
        "idxs_PZ0 = np.sort(idxs_PZ0)\n",
        "idxs_PZ1 = np.sort(idxs_PZ1)\n",
        "\n",
        "# Get studies according to randomized indexes - LDF - Learning Data Frame\n",
        "radDF_PZ0_fo_LDF = radDF_PZ0_fo.iloc[idxs_PZ0]\n",
        "radDF_PZ1_fo_LDF = radDF_PZ1_fo.iloc[idxs_PZ1]\n",
        "# Merge dataframes\n",
        "radDF_PZ_fo_LDF = pd.concat([radDF_PZ0_fo_LDF, radDF_PZ1_fo_LDF], ignore_index=True, sort=False)\n",
        "# shuffle the DataFrame rows\n",
        "radDF_PZ_fo_LDF = radDF_PZ_fo_LDF.sample(frac = 1)"
      ],
      "metadata": {
        "colab": {
          "base_uri": "https://localhost:8080/"
        },
        "id": "CaW6RGtF0Tv5",
        "outputId": "e4b31796-0985-474c-a472-18ef82b8e30d"
      },
      "execution_count": 14,
      "outputs": [
        {
          "output_type": "stream",
          "name": "stdout",
          "text": [
            "71 362\n"
          ]
        }
      ]
    },
    {
      "cell_type": "code",
      "source": [
        "# DEBUG\n",
        "from google.colab import files\n",
        "radDF_PZ_fo_LDF.to_csv('radDF_PZ_fo_LDF.csv') \n",
        "files.download('radDF_PZ_fo_LDF.csv')"
      ],
      "metadata": {
        "colab": {
          "base_uri": "https://localhost:8080/",
          "height": 17
        },
        "id": "inEE7UYRNBl_",
        "outputId": "aacbf05d-84f1-4c70-f478-6b686d4b56d7"
      },
      "execution_count": 142,
      "outputs": [
        {
          "output_type": "display_data",
          "data": {
            "text/plain": [
              "<IPython.core.display.Javascript object>"
            ],
            "application/javascript": [
              "\n",
              "    async function download(id, filename, size) {\n",
              "      if (!google.colab.kernel.accessAllowed) {\n",
              "        return;\n",
              "      }\n",
              "      const div = document.createElement('div');\n",
              "      const label = document.createElement('label');\n",
              "      label.textContent = `Downloading \"${filename}\": `;\n",
              "      div.appendChild(label);\n",
              "      const progress = document.createElement('progress');\n",
              "      progress.max = size;\n",
              "      div.appendChild(progress);\n",
              "      document.body.appendChild(div);\n",
              "\n",
              "      const buffers = [];\n",
              "      let downloaded = 0;\n",
              "\n",
              "      const channel = await google.colab.kernel.comms.open(id);\n",
              "      // Send a message to notify the kernel that we're ready.\n",
              "      channel.send({})\n",
              "\n",
              "      for await (const message of channel.messages) {\n",
              "        // Send a message to notify the kernel that we're ready.\n",
              "        channel.send({})\n",
              "        if (message.buffers) {\n",
              "          for (const buffer of message.buffers) {\n",
              "            buffers.push(buffer);\n",
              "            downloaded += buffer.byteLength;\n",
              "            progress.value = downloaded;\n",
              "          }\n",
              "        }\n",
              "      }\n",
              "      const blob = new Blob(buffers, {type: 'application/binary'});\n",
              "      const a = document.createElement('a');\n",
              "      a.href = window.URL.createObjectURL(blob);\n",
              "      a.download = filename;\n",
              "      div.appendChild(a);\n",
              "      a.click();\n",
              "      div.remove();\n",
              "    }\n",
              "  "
            ]
          },
          "metadata": {}
        },
        {
          "output_type": "display_data",
          "data": {
            "text/plain": [
              "<IPython.core.display.Javascript object>"
            ],
            "application/javascript": [
              "download(\"download_7a78f158-b236-4528-942d-6e887044ea09\", \"radDF_PZ_fo_LDF.csv\", 107249)"
            ]
          },
          "metadata": {}
        }
      ]
    },
    {
      "cell_type": "markdown",
      "source": [
        "## **Simple logistic regression**"
      ],
      "metadata": {
        "id": "qlon2qQENuNJ"
      }
    },
    {
      "cell_type": "code",
      "source": [
        "import pandas as pd\n",
        "import numpy as np\n",
        "from sklearn import preprocessing\n",
        "import matplotlib.pyplot as plt \n",
        "plt.rc(\"font\", size=14)\n",
        "from sklearn.linear_model import LogisticRegression\n",
        "from sklearn.model_selection import train_test_split\n",
        "import seaborn as sns\n",
        "sns.set(style=\"white\")\n",
        "sns.set(style=\"whitegrid\", color_codes=True)"
      ],
      "metadata": {
        "id": "uP3wh9HW7qf-"
      },
      "execution_count": 17,
      "outputs": []
    },
    {
      "cell_type": "code",
      "source": [
        "# Data exploration\n",
        "radDF_PZ_fo_LDF['is_cancer'].value_counts()"
      ],
      "metadata": {
        "colab": {
          "base_uri": "https://localhost:8080/"
        },
        "id": "9TEMQ_WU7Pu8",
        "outputId": "7dad1999-600f-4e28-c35e-1165c90c2e97"
      },
      "execution_count": 16,
      "outputs": [
        {
          "output_type": "execute_result",
          "data": {
            "text/plain": [
              "1    362\n",
              "0     71\n",
              "Name: is_cancer, dtype: int64"
            ]
          },
          "metadata": {},
          "execution_count": 16
        }
      ]
    },
    {
      "cell_type": "code",
      "source": [
        "sns.countplot(x='is_cancer', data=radDF_PZ_fo_LDF, palette='hls')\n",
        "plt.show()\n",
        "# plt.savefig('count_iscancer_plot')"
      ],
      "metadata": {
        "colab": {
          "base_uri": "https://localhost:8080/",
          "height": 285
        },
        "id": "6ibnr5zB56Vl",
        "outputId": "46860eea-0907-42fd-f05b-56b3f5bcafaf"
      },
      "execution_count": 18,
      "outputs": [
        {
          "output_type": "display_data",
          "data": {
            "text/plain": [
              "<Figure size 432x288 with 1 Axes>"
            ],
            "image/png": "[encoded data removed]"
          },
          "metadata": {}
        }
      ]
    },
    {
      "cell_type": "code",
      "source": [
        "count_nocancer = len(radDF_PZ_fo_LDF[radDF_PZ_fo_LDF['is_cancer']==0])\n",
        "count_cancer = len(radDF_PZ_fo_LDF[radDF_PZ_fo_LDF['is_cancer']==1])\n",
        "pct_nocancer = count_nocancer/(count_nocancer + count_cancer)\n",
        "print('percentage of healthy subjects: ', pct_nocancer)\n",
        "pct_cancer = count_cancer/(count_nocancer + count_cancer)\n",
        "print('percentage of subjects with cancer: ', pct_cancer)\n",
        "\n",
        "# Our classes are imbalanced, and the ratio of subjects with cancer to healthy subjects is 84:16."
      ],
      "metadata": {
        "colab": {
          "base_uri": "https://localhost:8080/"
        },
        "id": "98r1Oh9U9290",
        "outputId": "35aa9dab-8992-4e5e-c0f9-2d9b3d6dd308"
      },
      "execution_count": 19,
      "outputs": [
        {
          "output_type": "stream",
          "name": "stdout",
          "text": [
            "percentage of healthy subjects:  0.16397228637413394\n",
            "percentage of subjects with cancer:  0.836027713625866\n"
          ]
        }
      ]
    },
    {
      "cell_type": "code",
      "source": [
        "temp = radDF_PZ_fo_LDF.groupby('is_cancer').mean()\n",
        "temp.drop('patient_id', axis=1)"
      ],
      "metadata": {
        "colab": {
          "base_uri": "https://localhost:8080/",
          "height": 207
        },
        "id": "Fef2WCna_fRD",
        "outputId": "7593ee8f-89e3-408c-d8a0-4711de6693fb"
      },
      "execution_count": 27,
      "outputs": [
        {
          "output_type": "execute_result",
          "data": {
            "text/plain": [
              "           original_firstorder_10Percentile  original_firstorder_90Percentile  \\\n",
              "is_cancer                                                                       \n",
              "0                                106.825352                        255.280282   \n",
              "1                                 94.185912                        222.219890   \n",
              "\n",
              "           original_firstorder_Energy  original_firstorder_Entropy  \\\n",
              "is_cancer                                                            \n",
              "0                        1.852955e+07                     3.139978   \n",
              "1                        1.995751e+07                     3.002675   \n",
              "\n",
              "           original_firstorder_InterquartileRange  \\\n",
              "is_cancer                                           \n",
              "0                                       70.661972   \n",
              "1                                       62.869475   \n",
              "\n",
              "           original_firstorder_Kurtosis  original_firstorder_Maximum  \\\n",
              "is_cancer                                                              \n",
              "0                              5.300290                   433.845070   \n",
              "1                              5.459664                   408.947514   \n",
              "\n",
              "           original_firstorder_MeanAbsoluteDeviation  \\\n",
              "is_cancer                                              \n",
              "0                                          47.276153   \n",
              "1                                          41.037550   \n",
              "\n",
              "           original_firstorder_Mean  original_firstorder_Median  \\\n",
              "is_cancer                                                         \n",
              "0                        178.492282                  172.767606   \n",
              "1                        156.354701                  152.241713   \n",
              "\n",
              "           original_firstorder_Minimum  original_firstorder_Range  \\\n",
              "is_cancer                                                           \n",
              "0                            30.014085                 403.830986   \n",
              "1                            22.309392                 386.638122   \n",
              "\n",
              "           original_firstorder_RobustMeanAbsoluteDeviation  \\\n",
              "is_cancer                                                    \n",
              "0                                                30.061052   \n",
              "1                                                26.751583   \n",
              "\n",
              "           original_firstorder_RootMeanSquared  original_firstorder_Skewness  \\\n",
              "is_cancer                                                                      \n",
              "0                                   190.816232                      0.774419   \n",
              "1                                   166.335416                      0.705553   \n",
              "\n",
              "           original_firstorder_TotalEnergy  original_firstorder_Uniformity  \\\n",
              "is_cancer                                                                    \n",
              "0                             4.869897e+07                        0.147377   \n",
              "1                             4.703243e+07                        0.157495   \n",
              "\n",
              "           original_firstorder_Variance  \n",
              "is_cancer                                \n",
              "0                           4559.393406  \n",
              "1                           3224.922692  "
            ],
            "text/html": [
              "\n",
              "  <div id=\"df-5218fe52-77bc-43b3-ad79-eddb14e2d6c1\">\n",
              "    <div class=\"colab-df-container\">\n",
              "      <div>\n",
              "<style scoped>\n",
              "    .dataframe tbody tr th:only-of-type {\n",
              "        vertical-align: middle;\n",
              "    }\n",
              "\n",
              "    .dataframe tbody tr th {\n",
              "        vertical-align: top;\n",
              "    }\n",
              "\n",
              "    .dataframe thead th {\n",
              "        text-align: right;\n",
              "    }\n",
              "</style>\n",
              "<table border=\"1\" class=\"dataframe\">\n",
              "  <thead>\n",
              "    <tr style=\"text-align: right;\">\n",
              "      <th></th>\n",
              "      <th>original_firstorder_10Percentile</th>\n",
              "      <th>original_firstorder_90Percentile</th>\n",
              "      <th>original_firstorder_Energy</th>\n",
              "      <th>original_firstorder_Entropy</th>\n",
              "      <th>original_firstorder_InterquartileRange</th>\n",
              "      <th>original_firstorder_Kurtosis</th>\n",
              "      <th>original_firstorder_Maximum</th>\n",
              "      <th>original_firstorder_MeanAbsoluteDeviation</th>\n",
              "      <th>original_firstorder_Mean</th>\n",
              "      <th>original_firstorder_Median</th>\n",
              "      <th>original_firstorder_Minimum</th>\n",
              "      <th>original_firstorder_Range</th>\n",
              "      <th>original_firstorder_RobustMeanAbsoluteDeviation</th>\n",
              "      <th>original_firstorder_RootMeanSquared</th>\n",
              "      <th>original_firstorder_Skewness</th>\n",
              "      <th>original_firstorder_TotalEnergy</th>\n",
              "      <th>original_firstorder_Uniformity</th>\n",
              "      <th>original_firstorder_Variance</th>\n",
              "    </tr>\n",
              "    <tr>\n",
              "      <th>is_cancer</th>\n",
              "      <th></th>\n",
              "      <th></th>\n",
              "      <th></th>\n",
              "      <th></th>\n",
              "      <th></th>\n",
              "      <th></th>\n",
              "      <th></th>\n",
              "      <th></th>\n",
              "      <th></th>\n",
              "      <th></th>\n",
              "      <th></th>\n",
              "      <th></th>\n",
              "      <th></th>\n",
              "      <th></th>\n",
              "      <th></th>\n",
              "      <th></th>\n",
              "      <th></th>\n",
              "      <th></th>\n",
              "    </tr>\n",
              "  </thead>\n",
              "  <tbody>\n",
              "    <tr>\n",
              "      <th>0</th>\n",
              "      <td>106.825352</td>\n",
              "      <td>255.280282</td>\n",
              "      <td>1.852955e+07</td>\n",
              "      <td>3.139978</td>\n",
              "      <td>70.661972</td>\n",
              "      <td>5.300290</td>\n",
              "      <td>433.845070</td>\n",
              "      <td>47.276153</td>\n",
              "      <td>178.492282</td>\n",
              "      <td>172.767606</td>\n",
              "      <td>30.014085</td>\n",
              "      <td>403.830986</td>\n",
              "      <td>30.061052</td>\n",
              "      <td>190.816232</td>\n",
              "      <td>0.774419</td>\n",
              "      <td>4.869897e+07</td>\n",
              "      <td>0.147377</td>\n",
              "      <td>4559.393406</td>\n",
              "    </tr>\n",
              "    <tr>\n",
              "      <th>1</th>\n",
              "      <td>94.185912</td>\n",
              "      <td>222.219890</td>\n",
              "      <td>1.995751e+07</td>\n",
              "      <td>3.002675</td>\n",
              "      <td>62.869475</td>\n",
              "      <td>5.459664</td>\n",
              "      <td>408.947514</td>\n",
              "      <td>41.037550</td>\n",
              "      <td>156.354701</td>\n",
              "      <td>152.241713</td>\n",
              "      <td>22.309392</td>\n",
              "      <td>386.638122</td>\n",
              "      <td>26.751583</td>\n",
              "      <td>166.335416</td>\n",
              "      <td>0.705553</td>\n",
              "      <td>4.703243e+07</td>\n",
              "      <td>0.157495</td>\n",
              "      <td>3224.922692</td>\n",
              "    </tr>\n",
              "  </tbody>\n",
              "</table>\n",
              "</div>\n",
              "      <button class=\"colab-df-convert\" onclick=\"convertToInteractive('df-5218fe52-77bc-43b3-ad79-eddb14e2d6c1')\"\n",
              "              title=\"Convert this dataframe to an interactive table.\"\n",
              "              style=\"display:none;\">\n",
              "        \n",
              "  <svg xmlns=\"http://www.w3.org/2000/svg\" height=\"24px\"viewBox=\"0 0 24 24\"\n",
              "       width=\"24px\">\n",
              "    <path d=\"M0 0h24v24H0V0z\" fill=\"none\"/>\n",
              "    <path d=\"M18.56 5.44l.94 2.06.94-2.06 2.06-.94-2.06-.94-.94-2.06-.94 2.06-2.06.94zm-11 1L8.5 8.5l.94-2.06 2.06-.94-2.06-.94L8.5 2.5l-.94 2.06-2.06.94zm10 10l.94 2.06.94-2.06 2.06-.94-2.06-.94-.94-2.06-.94 2.06-2.06.94z\"/><path d=\"M17.41 7.96l-1.37-1.37c-.4-.4-.92-.59-1.43-.59-.52 0-1.04.2-1.43.59L10.3 9.45l-7.72 7.72c-.78.78-.78 2.05 0 2.83L4 21.41c.39.39.9.59 1.41.59.51 0 1.02-.2 1.41-.59l7.78-7.78 2.81-2.81c.8-.78.8-2.07 0-2.86zM5.41 20L4 18.59l7.72-7.72 1.47 1.35L5.41 20z\"/>\n",
              "  </svg>\n",
              "      </button>\n",
              "      \n",
              "  <style>\n",
              "    .colab-df-container {\n",
              "      display:flex;\n",
              "      flex-wrap:wrap;\n",
              "      gap: 12px;\n",
              "    }\n",
              "\n",
              "    .colab-df-convert {\n",
              "      background-color: #E8F0FE;\n",
              "      border: none;\n",
              "      border-radius: 50%;\n",
              "      cursor: pointer;\n",
              "      display: none;\n",
              "      fill: #1967D2;\n",
              "      height: 32px;\n",
              "      padding: 0 0 0 0;\n",
              "      width: 32px;\n",
              "    }\n",
              "\n",
              "    .colab-df-convert:hover {\n",
              "      background-color: #E2EBFA;\n",
              "      box-shadow: 0px 1px 2px rgba(60, 64, 67, 0.3), 0px 1px 3px 1px rgba(60, 64, 67, 0.15);\n",
              "      fill: #174EA6;\n",
              "    }\n",
              "\n",
              "    [theme=dark] .colab-df-convert {\n",
              "      background-color: #3B4455;\n",
              "      fill: #D2E3FC;\n",
              "    }\n",
              "\n",
              "    [theme=dark] .colab-df-convert:hover {\n",
              "      background-color: #434B5C;\n",
              "      box-shadow: 0px 1px 3px 1px rgba(0, 0, 0, 0.15);\n",
              "      filter: drop-shadow(0px 1px 2px rgba(0, 0, 0, 0.3));\n",
              "      fill: #FFFFFF;\n",
              "    }\n",
              "  </style>\n",
              "\n",
              "      <script>\n",
              "        const buttonEl =\n",
              "          document.querySelector('#df-5218fe52-77bc-43b3-ad79-eddb14e2d6c1 button.colab-df-convert');\n",
              "        buttonEl.style.display =\n",
              "          google.colab.kernel.accessAllowed ? 'block' : 'none';\n",
              "\n",
              "        async function convertToInteractive(key) {\n",
              "          const element = document.querySelector('#df-5218fe52-77bc-43b3-ad79-eddb14e2d6c1');\n",
              "          const dataTable =\n",
              "            await google.colab.kernel.invokeFunction('convertToInteractive',\n",
              "                                                     [key], {});\n",
              "          if (!dataTable) return;\n",
              "\n",
              "          const docLinkHtml = 'Like what you see? Visit the ' +\n",
              "            '<a target=\"_blank\" href=https://colab.research.google.com/notebooks/data_table.ipynb>data table notebook</a>'\n",
              "            + ' to learn more about interactive tables.';\n",
              "          element.innerHTML = '';\n",
              "          dataTable['output_type'] = 'display_data';\n",
              "          await google.colab.output.renderOutput(dataTable, element);\n",
              "          const docLink = document.createElement('div');\n",
              "          docLink.innerHTML = docLinkHtml;\n",
              "          element.appendChild(docLink);\n",
              "        }\n",
              "      </script>\n",
              "    </div>\n",
              "  </div>\n",
              "  "
            ]
          },
          "metadata": {},
          "execution_count": 27
        }
      ]
    },
    {
      "cell_type": "code",
      "source": [
        "temp = radDF_PZ_fo_LDF.groupby('is_cancer').median()\n",
        "temp.drop('patient_id', axis=1)"
      ],
      "metadata": {
        "colab": {
          "base_uri": "https://localhost:8080/",
          "height": 207
        },
        "id": "_6BdyCbjBU6K",
        "outputId": "a9a28667-1932-4844-fc5a-fb54592c6a70"
      },
      "execution_count": 29,
      "outputs": [
        {
          "output_type": "execute_result",
          "data": {
            "text/plain": [
              "           original_firstorder_10Percentile  original_firstorder_90Percentile  \\\n",
              "is_cancer                                                                       \n",
              "0                                     106.0                             249.7   \n",
              "1                                      88.1                             219.8   \n",
              "\n",
              "           original_firstorder_Energy  original_firstorder_Entropy  \\\n",
              "is_cancer                                                            \n",
              "0                           8411385.0                     3.216767   \n",
              "1                          10613038.0                     2.983773   \n",
              "\n",
              "           original_firstorder_InterquartileRange  \\\n",
              "is_cancer                                           \n",
              "0                                           70.75   \n",
              "1                                           59.75   \n",
              "\n",
              "           original_firstorder_Kurtosis  original_firstorder_Maximum  \\\n",
              "is_cancer                                                              \n",
              "0                              4.846854                        427.0   \n",
              "1                              4.615059                        386.5   \n",
              "\n",
              "           original_firstorder_MeanAbsoluteDeviation  \\\n",
              "is_cancer                                              \n",
              "0                                          48.124766   \n",
              "1                                          38.640567   \n",
              "\n",
              "           original_firstorder_Mean  original_firstorder_Median  \\\n",
              "is_cancer                                                         \n",
              "0                        185.546218                      180.00   \n",
              "1                        156.471738                      151.75   \n",
              "\n",
              "           original_firstorder_Minimum  original_firstorder_Range  \\\n",
              "is_cancer                                                           \n",
              "0                                  0.0                      386.0   \n",
              "1                                  0.0                      375.5   \n",
              "\n",
              "           original_firstorder_RobustMeanAbsoluteDeviation  \\\n",
              "is_cancer                                                    \n",
              "0                                                29.938045   \n",
              "1                                                25.337122   \n",
              "\n",
              "           original_firstorder_RootMeanSquared  original_firstorder_Skewness  \\\n",
              "is_cancer                                                                      \n",
              "0                                   193.412378                      0.921271   \n",
              "1                                   166.041876                      0.686233   \n",
              "\n",
              "           original_firstorder_TotalEnergy  original_firstorder_Uniformity  \\\n",
              "is_cancer                                                                    \n",
              "0                             2.394685e+07                        0.131568   \n",
              "1                             2.373211e+07                        0.153945   \n",
              "\n",
              "           original_firstorder_Variance  \n",
              "is_cancer                                \n",
              "0                           4030.291211  \n",
              "1                           2728.310543  "
            ],
            "text/html": [
              "\n",
              "  <div id=\"df-b0258893-468b-4dc9-8d8a-a8efbf74479b\">\n",
              "    <div class=\"colab-df-container\">\n",
              "      <div>\n",
              "<style scoped>\n",
              "    .dataframe tbody tr th:only-of-type {\n",
              "        vertical-align: middle;\n",
              "    }\n",
              "\n",
              "    .dataframe tbody tr th {\n",
              "        vertical-align: top;\n",
              "    }\n",
              "\n",
              "    .dataframe thead th {\n",
              "        text-align: right;\n",
              "    }\n",
              "</style>\n",
              "<table border=\"1\" class=\"dataframe\">\n",
              "  <thead>\n",
              "    <tr style=\"text-align: right;\">\n",
              "      <th></th>\n",
              "      <th>original_firstorder_10Percentile</th>\n",
              "      <th>original_firstorder_90Percentile</th>\n",
              "      <th>original_firstorder_Energy</th>\n",
              "      <th>original_firstorder_Entropy</th>\n",
              "      <th>original_firstorder_InterquartileRange</th>\n",
              "      <th>original_firstorder_Kurtosis</th>\n",
              "      <th>original_firstorder_Maximum</th>\n",
              "      <th>original_firstorder_MeanAbsoluteDeviation</th>\n",
              "      <th>original_firstorder_Mean</th>\n",
              "      <th>original_firstorder_Median</th>\n",
              "      <th>original_firstorder_Minimum</th>\n",
              "      <th>original_firstorder_Range</th>\n",
              "      <th>original_firstorder_RobustMeanAbsoluteDeviation</th>\n",
              "      <th>original_firstorder_RootMeanSquared</th>\n",
              "      <th>original_firstorder_Skewness</th>\n",
              "      <th>original_firstorder_TotalEnergy</th>\n",
              "      <th>original_firstorder_Uniformity</th>\n",
              "      <th>original_firstorder_Variance</th>\n",
              "    </tr>\n",
              "    <tr>\n",
              "      <th>is_cancer</th>\n",
              "      <th></th>\n",
              "      <th></th>\n",
              "      <th></th>\n",
              "      <th></th>\n",
              "      <th></th>\n",
              "      <th></th>\n",
              "      <th></th>\n",
              "      <th></th>\n",
              "      <th></th>\n",
              "      <th></th>\n",
              "      <th></th>\n",
              "      <th></th>\n",
              "      <th></th>\n",
              "      <th></th>\n",
              "      <th></th>\n",
              "      <th></th>\n",
              "      <th></th>\n",
              "      <th></th>\n",
              "    </tr>\n",
              "  </thead>\n",
              "  <tbody>\n",
              "    <tr>\n",
              "      <th>0</th>\n",
              "      <td>106.0</td>\n",
              "      <td>249.7</td>\n",
              "      <td>8411385.0</td>\n",
              "      <td>3.216767</td>\n",
              "      <td>70.75</td>\n",
              "      <td>4.846854</td>\n",
              "      <td>427.0</td>\n",
              "      <td>48.124766</td>\n",
              "      <td>185.546218</td>\n",
              "      <td>180.00</td>\n",
              "      <td>0.0</td>\n",
              "      <td>386.0</td>\n",
              "      <td>29.938045</td>\n",
              "      <td>193.412378</td>\n",
              "      <td>0.921271</td>\n",
              "      <td>2.394685e+07</td>\n",
              "      <td>0.131568</td>\n",
              "      <td>4030.291211</td>\n",
              "    </tr>\n",
              "    <tr>\n",
              "      <th>1</th>\n",
              "      <td>88.1</td>\n",
              "      <td>219.8</td>\n",
              "      <td>10613038.0</td>\n",
              "      <td>2.983773</td>\n",
              "      <td>59.75</td>\n",
              "      <td>4.615059</td>\n",
              "      <td>386.5</td>\n",
              "      <td>38.640567</td>\n",
              "      <td>156.471738</td>\n",
              "      <td>151.75</td>\n",
              "      <td>0.0</td>\n",
              "      <td>375.5</td>\n",
              "      <td>25.337122</td>\n",
              "      <td>166.041876</td>\n",
              "      <td>0.686233</td>\n",
              "      <td>2.373211e+07</td>\n",
              "      <td>0.153945</td>\n",
              "      <td>2728.310543</td>\n",
              "    </tr>\n",
              "  </tbody>\n",
              "</table>\n",
              "</div>\n",
              "      <button class=\"colab-df-convert\" onclick=\"convertToInteractive('df-b0258893-468b-4dc9-8d8a-a8efbf74479b')\"\n",
              "              title=\"Convert this dataframe to an interactive table.\"\n",
              "              style=\"display:none;\">\n",
              "        \n",
              "  <svg xmlns=\"http://www.w3.org/2000/svg\" height=\"24px\"viewBox=\"0 0 24 24\"\n",
              "       width=\"24px\">\n",
              "    <path d=\"M0 0h24v24H0V0z\" fill=\"none\"/>\n",
              "    <path d=\"M18.56 5.44l.94 2.06.94-2.06 2.06-.94-2.06-.94-.94-2.06-.94 2.06-2.06.94zm-11 1L8.5 8.5l.94-2.06 2.06-.94-2.06-.94L8.5 2.5l-.94 2.06-2.06.94zm10 10l.94 2.06.94-2.06 2.06-.94-2.06-.94-.94-2.06-.94 2.06-2.06.94z\"/><path d=\"M17.41 7.96l-1.37-1.37c-.4-.4-.92-.59-1.43-.59-.52 0-1.04.2-1.43.59L10.3 9.45l-7.72 7.72c-.78.78-.78 2.05 0 2.83L4 21.41c.39.39.9.59 1.41.59.51 0 1.02-.2 1.41-.59l7.78-7.78 2.81-2.81c.8-.78.8-2.07 0-2.86zM5.41 20L4 18.59l7.72-7.72 1.47 1.35L5.41 20z\"/>\n",
              "  </svg>\n",
              "      </button>\n",
              "      \n",
              "  <style>\n",
              "    .colab-df-container {\n",
              "      display:flex;\n",
              "      flex-wrap:wrap;\n",
              "      gap: 12px;\n",
              "    }\n",
              "\n",
              "    .colab-df-convert {\n",
              "      background-color: #E8F0FE;\n",
              "      border: none;\n",
              "      border-radius: 50%;\n",
              "      cursor: pointer;\n",
              "      display: none;\n",
              "      fill: #1967D2;\n",
              "      height: 32px;\n",
              "      padding: 0 0 0 0;\n",
              "      width: 32px;\n",
              "    }\n",
              "\n",
              "    .colab-df-convert:hover {\n",
              "      background-color: #E2EBFA;\n",
              "      box-shadow: 0px 1px 2px rgba(60, 64, 67, 0.3), 0px 1px 3px 1px rgba(60, 64, 67, 0.15);\n",
              "      fill: #174EA6;\n",
              "    }\n",
              "\n",
              "    [theme=dark] .colab-df-convert {\n",
              "      background-color: #3B4455;\n",
              "      fill: #D2E3FC;\n",
              "    }\n",
              "\n",
              "    [theme=dark] .colab-df-convert:hover {\n",
              "      background-color: #434B5C;\n",
              "      box-shadow: 0px 1px 3px 1px rgba(0, 0, 0, 0.15);\n",
              "      filter: drop-shadow(0px 1px 2px rgba(0, 0, 0, 0.3));\n",
              "      fill: #FFFFFF;\n",
              "    }\n",
              "  </style>\n",
              "\n",
              "      <script>\n",
              "        const buttonEl =\n",
              "          document.querySelector('#df-b0258893-468b-4dc9-8d8a-a8efbf74479b button.colab-df-convert');\n",
              "        buttonEl.style.display =\n",
              "          google.colab.kernel.accessAllowed ? 'block' : 'none';\n",
              "\n",
              "        async function convertToInteractive(key) {\n",
              "          const element = document.querySelector('#df-b0258893-468b-4dc9-8d8a-a8efbf74479b');\n",
              "          const dataTable =\n",
              "            await google.colab.kernel.invokeFunction('convertToInteractive',\n",
              "                                                     [key], {});\n",
              "          if (!dataTable) return;\n",
              "\n",
              "          const docLinkHtml = 'Like what you see? Visit the ' +\n",
              "            '<a target=\"_blank\" href=https://colab.research.google.com/notebooks/data_table.ipynb>data table notebook</a>'\n",
              "            + ' to learn more about interactive tables.';\n",
              "          element.innerHTML = '';\n",
              "          dataTable['output_type'] = 'display_data';\n",
              "          await google.colab.output.renderOutput(dataTable, element);\n",
              "          const docLink = document.createElement('div');\n",
              "          docLink.innerHTML = docLinkHtml;\n",
              "          element.appendChild(docLink);\n",
              "        }\n",
              "      </script>\n",
              "    </div>\n",
              "  </div>\n",
              "  "
            ]
          },
          "metadata": {},
          "execution_count": 29
        }
      ]
    },
    {
      "cell_type": "code",
      "source": [
        "radDF_PZ_fo_LDF"
      ],
      "metadata": {
        "colab": {
          "base_uri": "https://localhost:8080/",
          "height": 487
        },
        "id": "sJbAQjKkZbFh",
        "outputId": "0894b2dc-faf9-4fdb-aeaf-cf5ce26c4f38"
      },
      "execution_count": 31,
      "outputs": [
        {
          "output_type": "execute_result",
          "data": {
            "text/plain": [
              "     patient_id  is_cancer  original_firstorder_10Percentile  \\\n",
              "118         210          1                             106.6   \n",
              "74            3          1                              63.0   \n",
              "127         233          1                              58.0   \n",
              "30          323          0                             155.0   \n",
              "188         483          1                             152.4   \n",
              "..          ...        ...                               ...   \n",
              "343        1085          1                              42.0   \n",
              "256         711          1                              67.2   \n",
              "104         159          1                              97.0   \n",
              "126         218          1                             144.0   \n",
              "153         367          1                             131.0   \n",
              "\n",
              "     original_firstorder_90Percentile  original_firstorder_Energy  \\\n",
              "118                             270.8                   6191252.0   \n",
              "74                              201.0                   2243638.0   \n",
              "127                             136.0                  25675402.0   \n",
              "30                              250.1                  25243145.0   \n",
              "188                             217.2                    907294.0   \n",
              "..                                ...                         ...   \n",
              "343                             171.0                  23905865.0   \n",
              "256                             268.2                  18010788.0   \n",
              "104                             281.4                  20433698.0   \n",
              "126                             217.8                   2495746.0   \n",
              "153                             317.0                  51360223.0   \n",
              "\n",
              "     original_firstorder_Entropy  original_firstorder_InterquartileRange  \\\n",
              "118                     2.979366                                    72.5   \n",
              "74                      3.056317                                    57.0   \n",
              "127                     2.450442                                    37.0   \n",
              "30                      2.727702                                    52.0   \n",
              "188                     2.243216                                    38.0   \n",
              "..                           ...                                     ...   \n",
              "343                     3.079060                                    68.0   \n",
              "256                     3.660294                                    99.0   \n",
              "104                     3.538984                                    89.0   \n",
              "126                     2.369231                                    29.0   \n",
              "153                     3.602713                                    89.0   \n",
              "\n",
              "     original_firstorder_Kurtosis  original_firstorder_Maximum  \\\n",
              "118                      4.596738                        417.0   \n",
              "74                       3.340976                        286.0   \n",
              "127                      9.177275                        382.0   \n",
              "30                       3.834079                        351.0   \n",
              "188                      2.744760                        251.0   \n",
              "..                            ...                          ...   \n",
              "343                      9.806569                        543.0   \n",
              "256                      3.680230                        515.0   \n",
              "104                      3.782073                        480.0   \n",
              "126                      5.171227                        293.0   \n",
              "153                      4.344701                        556.0   \n",
              "\n",
              "     original_firstorder_MeanAbsoluteDeviation  original_firstorder_Mean  \\\n",
              "118                                  49.175841                170.235294   \n",
              "74                                   41.261253                125.123967   \n",
              "127                                  25.126866                 97.465388   \n",
              "30                                   31.335711                201.138333   \n",
              "188                                  22.217600                188.480000   \n",
              "..                                         ...                       ...   \n",
              "343                                  42.087012                104.248378   \n",
              "256                                  62.705176                167.040153   \n",
              "104                                  56.254861                180.893855   \n",
              "126                                  24.539016                174.506329   \n",
              "153                                  59.012370                216.419156   \n",
              "\n",
              "     original_firstorder_Median  original_firstorder_Minimum  \\\n",
              "118                       153.0                         76.0   \n",
              "74                        115.0                          8.0   \n",
              "127                        95.0                          0.0   \n",
              "30                        199.0                         38.0   \n",
              "188                       185.0                        135.0   \n",
              "..                          ...                          ...   \n",
              "343                        99.0                          0.0   \n",
              "256                       162.0                          0.0   \n",
              "104                       175.0                          0.0   \n",
              "126                       166.0                        104.0   \n",
              "153                       207.0                          0.0   \n",
              "\n",
              "     original_firstorder_Range  \\\n",
              "118                      341.0   \n",
              "74                       278.0   \n",
              "127                      382.0   \n",
              "30                       313.0   \n",
              "188                      116.0   \n",
              "..                         ...   \n",
              "343                      543.0   \n",
              "256                      515.0   \n",
              "104                      480.0   \n",
              "126                      189.0   \n",
              "153                      556.0   \n",
              "\n",
              "     original_firstorder_RobustMeanAbsoluteDeviation  \\\n",
              "118                                        31.664970   \n",
              "74                                         27.283027   \n",
              "127                                        16.134119   \n",
              "30                                         21.676653   \n",
              "188                                        14.326870   \n",
              "..                                               ...   \n",
              "343                                        28.241821   \n",
              "256                                        41.769934   \n",
              "104                                        37.362622   \n",
              "126                                        14.888184   \n",
              "153                                        38.685450   \n",
              "\n",
              "     original_firstorder_RootMeanSquared  original_firstorder_Skewness  \\\n",
              "118                           181.956862                      1.343892   \n",
              "74                            136.170712                      0.634257   \n",
              "127                           103.474667                      1.228623   \n",
              "30                            205.114379                      0.147349   \n",
              "188                           190.503963                      0.133436   \n",
              "..                                   ...                           ...   \n",
              "343                           118.759232                      1.508491   \n",
              "256                           185.573309                      0.528347   \n",
              "104                           195.068140                      0.570950   \n",
              "126                           177.740602                      1.269779   \n",
              "153                           229.987290                      0.844687   \n",
              "\n",
              "     original_firstorder_TotalEnergy  original_firstorder_Uniformity  \\\n",
              "118                     1.795705e+07                        0.160399   \n",
              "74                      4.263823e+06                        0.148009   \n",
              "127                     4.879368e+07                        0.227246   \n",
              "30                      7.321498e+07                        0.180911   \n",
              "188                     2.631507e+06                        0.238400   \n",
              "..                               ...                             ...   \n",
              "343                     4.543085e+07                        0.139524   \n",
              "256                     3.627661e+07                        0.092462   \n",
              "104                     5.926571e+07                        0.104155   \n",
              "126                     7.238639e+06                        0.240827   \n",
              "153                     1.034477e+08                        0.102277   \n",
              "\n",
              "     original_firstorder_Variance  \n",
              "118                   4128.244102  \n",
              "74                    2886.455707  \n",
              "127                   1207.504849  \n",
              "30                    1615.279197  \n",
              "188                    767.049600  \n",
              "..                            ...  \n",
              "343                   3236.030934  \n",
              "256                   6535.040453  \n",
              "104                   5328.992458  \n",
              "126                   1139.262618  \n",
              "153                   6056.902578  \n",
              "\n",
              "[433 rows x 20 columns]"
            ],
            "text/html": [
              "\n",
              "  <div id=\"df-55e488cf-d175-4481-8ff0-f2d5b1598381\">\n",
              "    <div class=\"colab-df-container\">\n",
              "      <div>\n",
              "<style scoped>\n",
              "    .dataframe tbody tr th:only-of-type {\n",
              "        vertical-align: middle;\n",
              "    }\n",
              "\n",
              "    .dataframe tbody tr th {\n",
              "        vertical-align: top;\n",
              "    }\n",
              "\n",
              "    .dataframe thead th {\n",
              "        text-align: right;\n",
              "    }\n",
              "</style>\n",
              "<table border=\"1\" class=\"dataframe\">\n",
              "  <thead>\n",
              "    <tr style=\"text-align: right;\">\n",
              "      <th></th>\n",
              "      <th>patient_id</th>\n",
              "      <th>is_cancer</th>\n",
              "      <th>original_firstorder_10Percentile</th>\n",
              "      <th>original_firstorder_90Percentile</th>\n",
              "      <th>original_firstorder_Energy</th>\n",
              "      <th>original_firstorder_Entropy</th>\n",
              "      <th>original_firstorder_InterquartileRange</th>\n",
              "      <th>original_firstorder_Kurtosis</th>\n",
              "      <th>original_firstorder_Maximum</th>\n",
              "      <th>original_firstorder_MeanAbsoluteDeviation</th>\n",
              "      <th>original_firstorder_Mean</th>\n",
              "      <th>original_firstorder_Median</th>\n",
              "      <th>original_firstorder_Minimum</th>\n",
              "      <th>original_firstorder_Range</th>\n",
              "      <th>original_firstorder_RobustMeanAbsoluteDeviation</th>\n",
              "      <th>original_firstorder_RootMeanSquared</th>\n",
              "      <th>original_firstorder_Skewness</th>\n",
              "      <th>original_firstorder_TotalEnergy</th>\n",
              "      <th>original_firstorder_Uniformity</th>\n",
              "      <th>original_firstorder_Variance</th>\n",
              "    </tr>\n",
              "  </thead>\n",
              "  <tbody>\n",
              "    <tr>\n",
              "      <th>118</th>\n",
              "      <td>210</td>\n",
              "      <td>1</td>\n",
              "      <td>106.6</td>\n",
              "      <td>270.8</td>\n",
              "      <td>6191252.0</td>\n",
              "      <td>2.979366</td>\n",
              "      <td>72.5</td>\n",
              "      <td>4.596738</td>\n",
              "      <td>417.0</td>\n",
              "      <td>49.175841</td>\n",
              "      <td>170.235294</td>\n",
              "      <td>153.0</td>\n",
              "      <td>76.0</td>\n",
              "      <td>341.0</td>\n",
              "      <td>31.664970</td>\n",
              "      <td>181.956862</td>\n",
              "      <td>1.343892</td>\n",
              "      <td>1.795705e+07</td>\n",
              "      <td>0.160399</td>\n",
              "      <td>4128.244102</td>\n",
              "    </tr>\n",
              "    <tr>\n",
              "      <th>74</th>\n",
              "      <td>3</td>\n",
              "      <td>1</td>\n",
              "      <td>63.0</td>\n",
              "      <td>201.0</td>\n",
              "      <td>2243638.0</td>\n",
              "      <td>3.056317</td>\n",
              "      <td>57.0</td>\n",
              "      <td>3.340976</td>\n",
              "      <td>286.0</td>\n",
              "      <td>41.261253</td>\n",
              "      <td>125.123967</td>\n",
              "      <td>115.0</td>\n",
              "      <td>8.0</td>\n",
              "      <td>278.0</td>\n",
              "      <td>27.283027</td>\n",
              "      <td>136.170712</td>\n",
              "      <td>0.634257</td>\n",
              "      <td>4.263823e+06</td>\n",
              "      <td>0.148009</td>\n",
              "      <td>2886.455707</td>\n",
              "    </tr>\n",
              "    <tr>\n",
              "      <th>127</th>\n",
              "      <td>233</td>\n",
              "      <td>1</td>\n",
              "      <td>58.0</td>\n",
              "      <td>136.0</td>\n",
              "      <td>25675402.0</td>\n",
              "      <td>2.450442</td>\n",
              "      <td>37.0</td>\n",
              "      <td>9.177275</td>\n",
              "      <td>382.0</td>\n",
              "      <td>25.126866</td>\n",
              "      <td>97.465388</td>\n",
              "      <td>95.0</td>\n",
              "      <td>0.0</td>\n",
              "      <td>382.0</td>\n",
              "      <td>16.134119</td>\n",
              "      <td>103.474667</td>\n",
              "      <td>1.228623</td>\n",
              "      <td>4.879368e+07</td>\n",
              "      <td>0.227246</td>\n",
              "      <td>1207.504849</td>\n",
              "    </tr>\n",
              "    <tr>\n",
              "      <th>30</th>\n",
              "      <td>323</td>\n",
              "      <td>0</td>\n",
              "      <td>155.0</td>\n",
              "      <td>250.1</td>\n",
              "      <td>25243145.0</td>\n",
              "      <td>2.727702</td>\n",
              "      <td>52.0</td>\n",
              "      <td>3.834079</td>\n",
              "      <td>351.0</td>\n",
              "      <td>31.335711</td>\n",
              "      <td>201.138333</td>\n",
              "      <td>199.0</td>\n",
              "      <td>38.0</td>\n",
              "      <td>313.0</td>\n",
              "      <td>21.676653</td>\n",
              "      <td>205.114379</td>\n",
              "      <td>0.147349</td>\n",
              "      <td>7.321498e+07</td>\n",
              "      <td>0.180911</td>\n",
              "      <td>1615.279197</td>\n",
              "    </tr>\n",
              "    <tr>\n",
              "      <th>188</th>\n",
              "      <td>483</td>\n",
              "      <td>1</td>\n",
              "      <td>152.4</td>\n",
              "      <td>217.2</td>\n",
              "      <td>907294.0</td>\n",
              "      <td>2.243216</td>\n",
              "      <td>38.0</td>\n",
              "      <td>2.744760</td>\n",
              "      <td>251.0</td>\n",
              "      <td>22.217600</td>\n",
              "      <td>188.480000</td>\n",
              "      <td>185.0</td>\n",
              "      <td>135.0</td>\n",
              "      <td>116.0</td>\n",
              "      <td>14.326870</td>\n",
              "      <td>190.503963</td>\n",
              "      <td>0.133436</td>\n",
              "      <td>2.631507e+06</td>\n",
              "      <td>0.238400</td>\n",
              "      <td>767.049600</td>\n",
              "    </tr>\n",
              "    <tr>\n",
              "      <th>...</th>\n",
              "      <td>...</td>\n",
              "      <td>...</td>\n",
              "      <td>...</td>\n",
              "      <td>...</td>\n",
              "      <td>...</td>\n",
              "      <td>...</td>\n",
              "      <td>...</td>\n",
              "      <td>...</td>\n",
              "      <td>...</td>\n",
              "      <td>...</td>\n",
              "      <td>...</td>\n",
              "      <td>...</td>\n",
              "      <td>...</td>\n",
              "      <td>...</td>\n",
              "      <td>...</td>\n",
              "      <td>...</td>\n",
              "      <td>...</td>\n",
              "      <td>...</td>\n",
              "      <td>...</td>\n",
              "      <td>...</td>\n",
              "    </tr>\n",
              "    <tr>\n",
              "      <th>343</th>\n",
              "      <td>1085</td>\n",
              "      <td>1</td>\n",
              "      <td>42.0</td>\n",
              "      <td>171.0</td>\n",
              "      <td>23905865.0</td>\n",
              "      <td>3.079060</td>\n",
              "      <td>68.0</td>\n",
              "      <td>9.806569</td>\n",
              "      <td>543.0</td>\n",
              "      <td>42.087012</td>\n",
              "      <td>104.248378</td>\n",
              "      <td>99.0</td>\n",
              "      <td>0.0</td>\n",
              "      <td>543.0</td>\n",
              "      <td>28.241821</td>\n",
              "      <td>118.759232</td>\n",
              "      <td>1.508491</td>\n",
              "      <td>4.543085e+07</td>\n",
              "      <td>0.139524</td>\n",
              "      <td>3236.030934</td>\n",
              "    </tr>\n",
              "    <tr>\n",
              "      <th>256</th>\n",
              "      <td>711</td>\n",
              "      <td>1</td>\n",
              "      <td>67.2</td>\n",
              "      <td>268.2</td>\n",
              "      <td>18010788.0</td>\n",
              "      <td>3.660294</td>\n",
              "      <td>99.0</td>\n",
              "      <td>3.680230</td>\n",
              "      <td>515.0</td>\n",
              "      <td>62.705176</td>\n",
              "      <td>167.040153</td>\n",
              "      <td>162.0</td>\n",
              "      <td>0.0</td>\n",
              "      <td>515.0</td>\n",
              "      <td>41.769934</td>\n",
              "      <td>185.573309</td>\n",
              "      <td>0.528347</td>\n",
              "      <td>3.627661e+07</td>\n",
              "      <td>0.092462</td>\n",
              "      <td>6535.040453</td>\n",
              "    </tr>\n",
              "    <tr>\n",
              "      <th>104</th>\n",
              "      <td>159</td>\n",
              "      <td>1</td>\n",
              "      <td>97.0</td>\n",
              "      <td>281.4</td>\n",
              "      <td>20433698.0</td>\n",
              "      <td>3.538984</td>\n",
              "      <td>89.0</td>\n",
              "      <td>3.782073</td>\n",
              "      <td>480.0</td>\n",
              "      <td>56.254861</td>\n",
              "      <td>180.893855</td>\n",
              "      <td>175.0</td>\n",
              "      <td>0.0</td>\n",
              "      <td>480.0</td>\n",
              "      <td>37.362622</td>\n",
              "      <td>195.068140</td>\n",
              "      <td>0.570950</td>\n",
              "      <td>5.926571e+07</td>\n",
              "      <td>0.104155</td>\n",
              "      <td>5328.992458</td>\n",
              "    </tr>\n",
              "    <tr>\n",
              "      <th>126</th>\n",
              "      <td>218</td>\n",
              "      <td>1</td>\n",
              "      <td>144.0</td>\n",
              "      <td>217.8</td>\n",
              "      <td>2495746.0</td>\n",
              "      <td>2.369231</td>\n",
              "      <td>29.0</td>\n",
              "      <td>5.171227</td>\n",
              "      <td>293.0</td>\n",
              "      <td>24.539016</td>\n",
              "      <td>174.506329</td>\n",
              "      <td>166.0</td>\n",
              "      <td>104.0</td>\n",
              "      <td>189.0</td>\n",
              "      <td>14.888184</td>\n",
              "      <td>177.740602</td>\n",
              "      <td>1.269779</td>\n",
              "      <td>7.238639e+06</td>\n",
              "      <td>0.240827</td>\n",
              "      <td>1139.262618</td>\n",
              "    </tr>\n",
              "    <tr>\n",
              "      <th>153</th>\n",
              "      <td>367</td>\n",
              "      <td>1</td>\n",
              "      <td>131.0</td>\n",
              "      <td>317.0</td>\n",
              "      <td>51360223.0</td>\n",
              "      <td>3.602713</td>\n",
              "      <td>89.0</td>\n",
              "      <td>4.344701</td>\n",
              "      <td>556.0</td>\n",
              "      <td>59.012370</td>\n",
              "      <td>216.419156</td>\n",
              "      <td>207.0</td>\n",
              "      <td>0.0</td>\n",
              "      <td>556.0</td>\n",
              "      <td>38.685450</td>\n",
              "      <td>229.987290</td>\n",
              "      <td>0.844687</td>\n",
              "      <td>1.034477e+08</td>\n",
              "      <td>0.102277</td>\n",
              "      <td>6056.902578</td>\n",
              "    </tr>\n",
              "  </tbody>\n",
              "</table>\n",
              "<p>433 rows × 20 columns</p>\n",
              "</div>\n",
              "      <button class=\"colab-df-convert\" onclick=\"convertToInteractive('df-55e488cf-d175-4481-8ff0-f2d5b1598381')\"\n",
              "              title=\"Convert this dataframe to an interactive table.\"\n",
              "              style=\"display:none;\">\n",
              "        \n",
              "  <svg xmlns=\"http://www.w3.org/2000/svg\" height=\"24px\"viewBox=\"0 0 24 24\"\n",
              "       width=\"24px\">\n",
              "    <path d=\"M0 0h24v24H0V0z\" fill=\"none\"/>\n",
              "    <path d=\"M18.56 5.44l.94 2.06.94-2.06 2.06-.94-2.06-.94-.94-2.06-.94 2.06-2.06.94zm-11 1L8.5 8.5l.94-2.06 2.06-.94-2.06-.94L8.5 2.5l-.94 2.06-2.06.94zm10 10l.94 2.06.94-2.06 2.06-.94-2.06-.94-.94-2.06-.94 2.06-2.06.94z\"/><path d=\"M17.41 7.96l-1.37-1.37c-.4-.4-.92-.59-1.43-.59-.52 0-1.04.2-1.43.59L10.3 9.45l-7.72 7.72c-.78.78-.78 2.05 0 2.83L4 21.41c.39.39.9.59 1.41.59.51 0 1.02-.2 1.41-.59l7.78-7.78 2.81-2.81c.8-.78.8-2.07 0-2.86zM5.41 20L4 18.59l7.72-7.72 1.47 1.35L5.41 20z\"/>\n",
              "  </svg>\n",
              "      </button>\n",
              "      \n",
              "  <style>\n",
              "    .colab-df-container {\n",
              "      display:flex;\n",
              "      flex-wrap:wrap;\n",
              "      gap: 12px;\n",
              "    }\n",
              "\n",
              "    .colab-df-convert {\n",
              "      background-color: #E8F0FE;\n",
              "      border: none;\n",
              "      border-radius: 50%;\n",
              "      cursor: pointer;\n",
              "      display: none;\n",
              "      fill: #1967D2;\n",
              "      height: 32px;\n",
              "      padding: 0 0 0 0;\n",
              "      width: 32px;\n",
              "    }\n",
              "\n",
              "    .colab-df-convert:hover {\n",
              "      background-color: #E2EBFA;\n",
              "      box-shadow: 0px 1px 2px rgba(60, 64, 67, 0.3), 0px 1px 3px 1px rgba(60, 64, 67, 0.15);\n",
              "      fill: #174EA6;\n",
              "    }\n",
              "\n",
              "    [theme=dark] .colab-df-convert {\n",
              "      background-color: #3B4455;\n",
              "      fill: #D2E3FC;\n",
              "    }\n",
              "\n",
              "    [theme=dark] .colab-df-convert:hover {\n",
              "      background-color: #434B5C;\n",
              "      box-shadow: 0px 1px 3px 1px rgba(0, 0, 0, 0.15);\n",
              "      filter: drop-shadow(0px 1px 2px rgba(0, 0, 0, 0.3));\n",
              "      fill: #FFFFFF;\n",
              "    }\n",
              "  </style>\n",
              "\n",
              "      <script>\n",
              "        const buttonEl =\n",
              "          document.querySelector('#df-55e488cf-d175-4481-8ff0-f2d5b1598381 button.colab-df-convert');\n",
              "        buttonEl.style.display =\n",
              "          google.colab.kernel.accessAllowed ? 'block' : 'none';\n",
              "\n",
              "        async function convertToInteractive(key) {\n",
              "          const element = document.querySelector('#df-55e488cf-d175-4481-8ff0-f2d5b1598381');\n",
              "          const dataTable =\n",
              "            await google.colab.kernel.invokeFunction('convertToInteractive',\n",
              "                                                     [key], {});\n",
              "          if (!dataTable) return;\n",
              "\n",
              "          const docLinkHtml = 'Like what you see? Visit the ' +\n",
              "            '<a target=\"_blank\" href=https://colab.research.google.com/notebooks/data_table.ipynb>data table notebook</a>'\n",
              "            + ' to learn more about interactive tables.';\n",
              "          element.innerHTML = '';\n",
              "          dataTable['output_type'] = 'display_data';\n",
              "          await google.colab.output.renderOutput(dataTable, element);\n",
              "          const docLink = document.createElement('div');\n",
              "          docLink.innerHTML = docLinkHtml;\n",
              "          element.appendChild(docLink);\n",
              "        }\n",
              "      </script>\n",
              "    </div>\n",
              "  </div>\n",
              "  "
            ]
          },
          "metadata": {},
          "execution_count": 31
        }
      ]
    },
    {
      "cell_type": "code",
      "source": [
        "# Balancing the data - Over-sampling using SMOTE\n",
        "\n",
        "X = radDF_PZ_fo_LDF.loc[:, radDF_PZ_fo_LDF.columns != 'is_cancer']\n",
        "y = radDF_PZ_fo_LDF.loc[:, radDF_PZ_fo_LDF.columns == 'is_cancer']\n",
        "\n",
        "from imblearn.over_sampling import SMOTE\n",
        "os = SMOTE(random_state=0)\n",
        "X_train, X_test, y_train, y_test = train_test_split(X, y, test_size=0.3, random_state=0)\n",
        "columns = X_train.columns\n",
        "os_data_X,os_data_y=os.fit_resample(X_train, y_train)\n",
        "os_data_X = pd.DataFrame(data=os_data_X,columns=columns )\n",
        "os_data_y= pd.DataFrame(data=os_data_y,columns=['is_cancer'])\n",
        "# we can Check the numbers of our data\n",
        "print(\"length of oversampled data is \",len(os_data_X))\n",
        "print(\"Number of no subscription in oversampled data\",len(os_data_y[os_data_y['is_cancer']==0]))\n",
        "print(\"Number of subscription\",len(os_data_y[os_data_y['is_cancer']==1]))\n",
        "print(\"Proportion of no subscription data in oversampled data is \",len(os_data_y[os_data_y['is_cancer']==0])/len(os_data_X))\n",
        "print(\"Proportion of subscription data in oversampled data is \",len(os_data_y[os_data_y['is_cancer']==1])/len(os_data_X))"
      ],
      "metadata": {
        "colab": {
          "base_uri": "https://localhost:8080/"
        },
        "id": "XkypyGxQIG7I",
        "outputId": "0906d4e7-194b-40c0-9f7f-2a94e1797207"
      },
      "execution_count": 33,
      "outputs": [
        {
          "output_type": "stream",
          "name": "stdout",
          "text": [
            "length of oversampled data is  512\n",
            "Number of no subscription in oversampled data 256\n",
            "Number of subscription 256\n",
            "Proportion of no subscription data in oversampled data is  0.5\n",
            "Proportion of subscription data in oversampled data is  0.5\n"
          ]
        }
      ]
    },
    {
      "cell_type": "code",
      "source": [
        "# Recursive Feature Elimination\n",
        "\n",
        "radDF_PZ_fo_LDF_vars=radDF_PZ_fo_LDF.columns.values.tolist()\n",
        "y=['is_cancer']\n",
        "X=[i for i in radDF_PZ_fo_LDF_vars if i not in y]\n",
        "from sklearn.feature_selection import RFE\n",
        "from sklearn.linear_model import LogisticRegression\n",
        "logreg = LogisticRegression()\n",
        "rfe = RFE(logreg, step = 20)\n",
        "rfe = rfe.fit(os_data_X, os_data_y.values.ravel())\n",
        "print(rfe.support_)\n",
        "print(rfe.ranking_)"
      ],
      "metadata": {
        "colab": {
          "base_uri": "https://localhost:8080/"
        },
        "id": "x_RuPOhChDBe",
        "outputId": "bc6ebbc4-5743-45d4-de2a-799d004c0423"
      },
      "execution_count": 35,
      "outputs": [
        {
          "output_type": "stream",
          "name": "stdout",
          "text": [
            "[False False  True  True False False False  True False  True  True False\n",
            "  True False  True False  True False  True]\n",
            "[2 2 1 1 2 2 2 1 2 1 1 2 1 2 1 2 1 2 1]\n"
          ]
        }
      ]
    },
    {
      "cell_type": "code",
      "source": [
        "radDF_PZ_fo_LDF_vars\n",
        "\n",
        "Usunac patient_id', 'is_cancer', z wektora X"
      ],
      "metadata": {
        "colab": {
          "base_uri": "https://localhost:8080/"
        },
        "id": "XtPCWQVj-KN2",
        "outputId": "150e7c79-0d21-480c-fd63-f9c0fc67f66e"
      },
      "execution_count": 36,
      "outputs": [
        {
          "output_type": "execute_result",
          "data": {
            "text/plain": [
              "['patient_id',\n",
              " 'is_cancer',\n",
              " 'original_firstorder_10Percentile',\n",
              " 'original_firstorder_90Percentile',\n",
              " 'original_firstorder_Energy',\n",
              " 'original_firstorder_Entropy',\n",
              " 'original_firstorder_InterquartileRange',\n",
              " 'original_firstorder_Kurtosis',\n",
              " 'original_firstorder_Maximum',\n",
              " 'original_firstorder_MeanAbsoluteDeviation',\n",
              " 'original_firstorder_Mean',\n",
              " 'original_firstorder_Median',\n",
              " 'original_firstorder_Minimum',\n",
              " 'original_firstorder_Range',\n",
              " 'original_firstorder_RobustMeanAbsoluteDeviation',\n",
              " 'original_firstorder_RootMeanSquared',\n",
              " 'original_firstorder_Skewness',\n",
              " 'original_firstorder_TotalEnergy',\n",
              " 'original_firstorder_Uniformity',\n",
              " 'original_firstorder_Variance']"
            ]
          },
          "metadata": {},
          "execution_count": 36
        }
      ]
    }
  ]
}