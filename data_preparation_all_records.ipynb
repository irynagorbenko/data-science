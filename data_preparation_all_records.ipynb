{
  "nbformat": 4,
  "nbformat_minor": 0,
  "metadata": {
    "colab": {
      "provenance": [],
      "authorship_tag": "ABX9TyOG9tG3Kg/cEeH2y2gmV9AN",
      "include_colab_link": true
    },
    "kernelspec": {
      "name": "python3",
      "display_name": "Python 3"
    },
    "language_info": {
      "name": "python"
    }
  },
  "cells": [
    {
      "cell_type": "markdown",
      "metadata": {
        "id": "view-in-github",
        "colab_type": "text"
      },
      "source": [
        "<a href=\"https://colab.research.google.com/github/irynagorbenko/data-science/blob/opi-radiomics/data_preparation_all_records.ipynb\" target=\"_parent\"><img src=\"https://colab.research.google.com/assets/colab-badge.svg\" alt=\"Open In Colab\"/></a>"
      ]
    },
    {
      "cell_type": "markdown",
      "source": [
        "# **Syntetic data preparation** "
      ],
      "metadata": {
        "id": "V-JEmhAw_hnP"
      }
    },
    {
      "cell_type": "code",
      "execution_count": null,
      "metadata": {
        "colab": {
          "base_uri": "https://localhost:8080/"
        },
        "id": "Ip9aQSJt8ujx",
        "outputId": "34448244-71ed-4ce5-e885-bb1412e6e1d4"
      },
      "outputs": [
        {
          "output_type": "execute_result",
          "data": {
            "text/plain": [
              "(1072, 8)"
            ]
          },
          "metadata": {},
          "execution_count": 2
        }
      ],
      "source": [
        "# Read data from Google Drive\n",
        "from google.colab import auth\n",
        "auth.authenticate_user()\n",
        "import gspread\n",
        "from oauth2client.client import GoogleCredentials\n",
        "from google.auth import default\n",
        "creds, _ = default()\n",
        "import mlxtend\n",
        "gc = gspread.authorize(creds)\n",
        "from google.colab import files\n",
        "\n",
        "# Open new sheet and add data\n",
        "spreadsheet = gc.open_by_url('https://docs.google.com/spreadsheets/d/1feqYTH-tvngnshRH6FH5YTa_aVZqXvGEYN24zABKKhU/edit#gid=0')\n",
        "main= spreadsheet.worksheet('raw_data');\n",
        "\n",
        "import pandas as pd\n",
        "mainDF = pd.DataFrame(main.get_all_records())\n",
        "mainDF.shape"
      ]
    },
    {
      "cell_type": "code",
      "source": [
        "# create rad and sr dataframes\n",
        "\n",
        "# mainDF.head()\n",
        "radDF = mainDF[[\"patient_id_rad\",\t\"lesion_id_rad\",\t\"radiologist_id_rad\",\t\"radiologist_nr_rad\"\t]]\n",
        "srDF = mainDF[[\"patient_id_sr\",\t\"lesion_id_sr\",\t\"radiologist_id_sr\",\t\"radiologist_nr_sr\"\t]]"
      ],
      "metadata": {
        "id": "kUmiY4yH_ZQR"
      },
      "execution_count": null,
      "outputs": []
    },
    {
      "cell_type": "code",
      "source": [
        "# compare dataframes\n",
        "\n",
        "\n",
        "for label, content in radDF.items():\n",
        "    print(f'label: {label}')\n",
        "    print(f'content: {content}', sep='\\n')\n",
        "\n",
        "#df.index[(df['points']==7) | (df['points']==12)].tolist()\n",
        "\n",
        "#srDF.drop(np.where(pd.isnull(rad_numeric['patient_pirads']))[0])"
      ],
      "metadata": {
        "id": "u2A5KAgXCbQp"
      },
      "execution_count": null,
      "outputs": []
    },
    {
      "cell_type": "code",
      "source": [
        "from numpy.lib.function_base import append\n",
        "\n",
        "idx1 = pd.Index(radDF)\n",
        "idx2 = pd.Index(srDF)\n",
        "\n",
        "finallist = []\n",
        "\n",
        "for i in idx1:\n",
        "  for j in idx2:\n",
        "    if i == j:\n",
        "      finallist.append(i)\n",
        "\n",
        "finalDF = pd.DataFrame(finallist, columns =[\"patient_id\",\t\"lesion_id\",\t\"radiologist_id\",\t\"radiologist_nr\"])\n",
        "\n",
        "finalDF\n",
        "\n",
        "finalDF.to_csv('finalDF.csv') \n",
        "files.download('finalDF.csv')"
      ],
      "metadata": {
        "colab": {
          "base_uri": "https://localhost:8080/",
          "height": 17
        },
        "id": "hR3xsv9WEmt5",
        "outputId": "eed58725-0bba-4f26-f3ac-ead33228f613"
      },
      "execution_count": null,
      "outputs": [
        {
          "output_type": "display_data",
          "data": {
            "text/plain": [
              "<IPython.core.display.Javascript object>"
            ],
            "application/javascript": [
              "\n",
              "    async function download(id, filename, size) {\n",
              "      if (!google.colab.kernel.accessAllowed) {\n",
              "        return;\n",
              "      }\n",
              "      const div = document.createElement('div');\n",
              "      const label = document.createElement('label');\n",
              "      label.textContent = `Downloading \"${filename}\": `;\n",
              "      div.appendChild(label);\n",
              "      const progress = document.createElement('progress');\n",
              "      progress.max = size;\n",
              "      div.appendChild(progress);\n",
              "      document.body.appendChild(div);\n",
              "\n",
              "      const buffers = [];\n",
              "      let downloaded = 0;\n",
              "\n",
              "      const channel = await google.colab.kernel.comms.open(id);\n",
              "      // Send a message to notify the kernel that we're ready.\n",
              "      channel.send({})\n",
              "\n",
              "      for await (const message of channel.messages) {\n",
              "        // Send a message to notify the kernel that we're ready.\n",
              "        channel.send({})\n",
              "        if (message.buffers) {\n",
              "          for (const buffer of message.buffers) {\n",
              "            buffers.push(buffer);\n",
              "            downloaded += buffer.byteLength;\n",
              "            progress.value = downloaded;\n",
              "          }\n",
              "        }\n",
              "      }\n",
              "      const blob = new Blob(buffers, {type: 'application/binary'});\n",
              "      const a = document.createElement('a');\n",
              "      a.href = window.URL.createObjectURL(blob);\n",
              "      a.download = filename;\n",
              "      div.appendChild(a);\n",
              "      a.click();\n",
              "      div.remove();\n",
              "    }\n",
              "  "
            ]
          },
          "metadata": {}
        },
        {
          "output_type": "display_data",
          "data": {
            "text/plain": [
              "<IPython.core.display.Javascript object>"
            ],
            "application/javascript": [
              "download(\"download_1991beaf-f1eb-4fe1-87c8-6b4efff4e16a\", \"finalDF.csv\", 34490)"
            ]
          },
          "metadata": {}
        }
      ]
    },
    {
      "cell_type": "code",
      "source": [
        "idx1[0]"
      ],
      "metadata": {
        "id": "weTw8pqJajm-"
      },
      "execution_count": null,
      "outputs": []
    },
    {
      "cell_type": "code",
      "source": [
        "radDF.where(radDF['patient_id_rad']==3)"
      ],
      "metadata": {
        "id": "ON-nJOATWrvN"
      },
      "execution_count": null,
      "outputs": []
    },
    {
      "cell_type": "code",
      "source": [
        "radDF['patient_id_rad'][0]"
      ],
      "metadata": {
        "id": "hpzMCc9eV3Nx"
      },
      "execution_count": null,
      "outputs": []
    },
    {
      "cell_type": "code",
      "source": [
        "print(srDF.index[(radDF['patient_id_rad']==srDF['patient_id_sr']) & (radDF['lesion_id_rad']==srDF['lesion_id_sr']) & (radDF['lesion_id_rad']==srDF['lesion_id_sr'])].tolist())"
      ],
      "metadata": {
        "id": "g-jpznkSSTVa"
      },
      "execution_count": null,
      "outputs": []
    },
    {
      "cell_type": "markdown",
      "source": [
        "#**Real data preparation** \n",
        "\n",
        "\n"
      ],
      "metadata": {
        "id": "HxwGJrN0-yKv"
      }
    },
    {
      "cell_type": "code",
      "source": [
        "# Read data \n",
        "\n",
        "from google.colab import auth\n",
        "auth.authenticate_user()\n",
        "import gspread\n",
        "from oauth2client.client import GoogleCredentials\n",
        "from google.auth import default\n",
        "creds, _ = default()\n",
        "import mlxtend\n",
        "gc = gspread.authorize(creds)\n",
        "from google.colab import files\n",
        "\n",
        "spreadsheet_rad = gc.open_by_url('https://docs.google.com/spreadsheets/d/1KdWPJXd2hyHcgdjeLFLjk9LSjkt-FXdj6-rJyKTmz40/edit#gid=1571581113')\n",
        "main_rad= spreadsheet_rad.worksheet('radiomics_t2w');\n",
        "\n",
        "spreadsheet_sr = gc.open_by_url('https://docs.google.com/spreadsheets/d/1b_qinEAip4DRYcvUUINohJCVitVgWIX0fW3dkismDgI/edit#gid=1638783402')\n",
        "main_sr= spreadsheet_sr.worksheet('AI4AR_PCa_radiological');\n",
        "\n",
        "import pandas as pd\n",
        "main_rad_DF = pd.DataFrame(main_rad.get_all_records())\n",
        "main_sr_DF = pd.DataFrame(main_sr.get_all_records())"
      ],
      "metadata": {
        "id": "rA5eLVB--xwS"
      },
      "execution_count": 13,
      "outputs": []
    },
    {
      "cell_type": "code",
      "source": [
        "main_rad_DF"
      ],
      "metadata": {
        "id": "NDeZmh2PAtdi"
      },
      "execution_count": null,
      "outputs": []
    },
    {
      "cell_type": "code",
      "source": [
        "main_sr_DF"
      ],
      "metadata": {
        "id": "iLm48iIeAz5s"
      },
      "execution_count": null,
      "outputs": []
    },
    {
      "cell_type": "code",
      "source": [
        "# create rad and sr dataframes\n",
        "\n",
        "radDF = main_rad_DF[[\"patient_id\",\t\"lesion_id\",\t\"radiologist_id\"]]\n",
        "srDF = main_sr_DF[[\"patient_id\",\t\"lesion_id\",\t\"radiologist_id\"]]"
      ],
      "metadata": {
        "id": "stZ9ZL34BHPR"
      },
      "execution_count": 14,
      "outputs": []
    },
    {
      "cell_type": "code",
      "source": [
        "# compare dataframes\n",
        "\n",
        "from numpy.lib.function_base import append\n",
        "#!pip install -Uqq ipdb\n",
        "#import ipdb\n",
        "#%pdb on\n",
        "\n",
        "#idx1 = pd.Index(radDF.loc[:446, :])\n",
        "#idx2 = pd.Index(srDF.loc[:482, :])\n",
        "idx1 = pd.Index(radDF)\n",
        "\n",
        "df = []\n",
        "for row in srDF.itertuples():\n",
        "  #print(row)\n",
        "  for i in idx1:\n",
        "    if row[1:4]==i:\n",
        "      df.append(pd.Index(main_sr_DF.iloc[row[0], :]))\n",
        "      #print(type(main_sr_DF.iloc[row[0], :]))\n",
        "\n",
        "finalDF = pd.DataFrame(df, columns = main_sr_DF.columns)\n",
        "#finalDF.to_csv('finalDF_all_records.csv') \n",
        "#files.download('finalDF_all_records.csv')\n",
        "#%pdb off\n",
        "finalDF"
      ],
      "metadata": {
        "id": "0l0tNFsACP6I"
      },
      "execution_count": null,
      "outputs": []
    },
    {
      "cell_type": "markdown",
      "source": [
        "# **Check for duplicates in SR**"
      ],
      "metadata": {
        "id": "TpZJuGjWgCA-"
      }
    },
    {
      "cell_type": "code",
      "source": [
        "# check for duplicates\n",
        "\n",
        "duplicate = finalDF.duplicated()\n",
        "\n",
        "print(duplicate[duplicate==True])"
      ],
      "metadata": {
        "id": "npUU3diOEwZV"
      },
      "execution_count": null,
      "outputs": []
    },
    {
      "cell_type": "code",
      "source": [
        "finalDF = finalDF.drop_duplicates(keep='first')\n",
        "finalDF.shape"
      ],
      "metadata": {
        "id": "KzJpVpezGu5k"
      },
      "execution_count": null,
      "outputs": []
    },
    {
      "cell_type": "code",
      "source": [
        "dft = finalDF.drop_duplicates(subset=[\"patient_id\",\t\"lesion_id\",\t\"radiologist_id\", \"TBx\", \"dimension\", \"lesion_dim_sequence\"], keep='first')\n",
        "dft.shape\n",
        "\n",
        "#dft.to_csv('finalDF_all_records.csv') \n",
        "#files.download('finalDF_all_records.csv')"
      ],
      "metadata": {
        "id": "pS9xRUf1MZO1"
      },
      "execution_count": null,
      "outputs": []
    },
    {
      "cell_type": "code",
      "source": [
        "dft = dft.drop_duplicates(subset=[\"patient_id\",\t\"lesion_id\",\t\"radiologist_id\"], keep='last')\n",
        "dd = dft.duplicated(subset=[\"patient_id\",\t\"lesion_id\",\t\"radiologist_id\"], keep='last')\n",
        "print(dd[dd==True])\n",
        "\n",
        "dft.shape\n",
        "dft.to_csv('finalDF_all_records.csv') \n",
        "files.download('finalDF_all_records.csv')"
      ],
      "metadata": {
        "id": "UlufhVICQK2E"
      },
      "execution_count": null,
      "outputs": []
    },
    {
      "cell_type": "markdown",
      "source": [
        "# **Check for duplicates in RAD**"
      ],
      "metadata": {
        "id": "BXAjzAR5gMYx"
      }
    },
    {
      "cell_type": "code",
      "source": [
        "duplicate = main_rad_DF.duplicated()\n",
        "\n",
        "print(duplicate[duplicate==True])"
      ],
      "metadata": {
        "id": "whFc6hDmgTzO"
      },
      "execution_count": null,
      "outputs": []
    },
    {
      "cell_type": "code",
      "source": [
        "final_rad_DF = main_rad_DF.drop_duplicates(keep='first')\n",
        "final_rad_DF.shape"
      ],
      "metadata": {
        "colab": {
          "base_uri": "https://localhost:8080/"
        },
        "id": "5SE3h8U5h3_A",
        "outputId": "2e108c55-98d4-4762-d174-194dd8fb2eba"
      },
      "execution_count": 35,
      "outputs": [
        {
          "output_type": "execute_result",
          "data": {
            "text/plain": [
              "(976, 47)"
            ]
          },
          "metadata": {},
          "execution_count": 35
        }
      ]
    },
    {
      "cell_type": "code",
      "source": [
        "dft = final_rad_DF.drop_duplicates(subset=[\"patient_id\",\t\"lesion_id\",\t\"radiologist_id\"], keep='first')\n",
        "dft.shape\n",
        "\n",
        "dd = dft.duplicated(subset=[\"patient_id\",\t\"lesion_id\",\t\"radiologist_id\"], keep='last')\n",
        "print(dd[dd==True])\n",
        "\n",
        "dft.to_csv('final_rad_DF_all_records.csv') \n",
        "files.download('final_rad_DF_all_records.csv')"
      ],
      "metadata": {
        "colab": {
          "base_uri": "https://localhost:8080/",
          "height": 34
        },
        "id": "6h_2O2h7iMQK",
        "outputId": "49556b8a-9658-4b94-9a72-5ac244937523"
      },
      "execution_count": 38,
      "outputs": [
        {
          "output_type": "stream",
          "name": "stdout",
          "text": [
            "Series([], dtype: bool)\n"
          ]
        },
        {
          "output_type": "display_data",
          "data": {
            "text/plain": [
              "<IPython.core.display.Javascript object>"
            ],
            "application/javascript": [
              "\n",
              "    async function download(id, filename, size) {\n",
              "      if (!google.colab.kernel.accessAllowed) {\n",
              "        return;\n",
              "      }\n",
              "      const div = document.createElement('div');\n",
              "      const label = document.createElement('label');\n",
              "      label.textContent = `Downloading \"${filename}\": `;\n",
              "      div.appendChild(label);\n",
              "      const progress = document.createElement('progress');\n",
              "      progress.max = size;\n",
              "      div.appendChild(progress);\n",
              "      document.body.appendChild(div);\n",
              "\n",
              "      const buffers = [];\n",
              "      let downloaded = 0;\n",
              "\n",
              "      const channel = await google.colab.kernel.comms.open(id);\n",
              "      // Send a message to notify the kernel that we're ready.\n",
              "      channel.send({})\n",
              "\n",
              "      for await (const message of channel.messages) {\n",
              "        // Send a message to notify the kernel that we're ready.\n",
              "        channel.send({})\n",
              "        if (message.buffers) {\n",
              "          for (const buffer of message.buffers) {\n",
              "            buffers.push(buffer);\n",
              "            downloaded += buffer.byteLength;\n",
              "            progress.value = downloaded;\n",
              "          }\n",
              "        }\n",
              "      }\n",
              "      const blob = new Blob(buffers, {type: 'application/binary'});\n",
              "      const a = document.createElement('a');\n",
              "      a.href = window.URL.createObjectURL(blob);\n",
              "      a.download = filename;\n",
              "      div.appendChild(a);\n",
              "      a.click();\n",
              "      div.remove();\n",
              "    }\n",
              "  "
            ]
          },
          "metadata": {}
        },
        {
          "output_type": "display_data",
          "data": {
            "text/plain": [
              "<IPython.core.display.Javascript object>"
            ],
            "application/javascript": [
              "download(\"download_e9455fb9-e87e-4651-993e-62abec0bd0cb\", \"final_rad_DF_all_records.csv\", 738762)"
            ]
          },
          "metadata": {}
        }
      ]
    }
  ]
}