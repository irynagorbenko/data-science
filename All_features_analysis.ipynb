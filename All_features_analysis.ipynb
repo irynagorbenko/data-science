{
  "nbformat": 4,
  "nbformat_minor": 0,
  "metadata": {
    "colab": {
      "provenance": [],
      "authorship_tag": "ABX9TyMnNTLWjYY6tS59Qrj/PS1m",
      "include_colab_link": true
    },
    "kernelspec": {
      "name": "python3",
      "display_name": "Python 3"
    },
    "language_info": {
      "name": "python"
    }
  },
  "cells": [
    {
      "cell_type": "markdown",
      "metadata": {
        "id": "view-in-github",
        "colab_type": "text"
      },
      "source": [
        "<a href=\"https://colab.research.google.com/github/irynagorbenko/data-science/blob/opi-radiomics/All_features_analysis.ipynb\" target=\"_parent\"><img src=\"https://colab.research.google.com/assets/colab-badge.svg\" alt=\"Open In Colab\"/></a>"
      ]
    },
    {
      "cell_type": "markdown",
      "source": [
        "DLA WSZYSTKICH: podzielić na PZ i TZ. Analizy robimy osobno dla różnych stref - 4 regresji\n",
        "\n",
        "I. rozroznienie rak/nie rak\n",
        "\n",
        "1. TBx_SBx_state =1, 0 (N/A odrzucamy) - kliniczny\n",
        "2. podzielić na PZ i TZ - radiologiczny\n",
        "3. regresja wg cech radiomicznych\n",
        "\n",
        "nr of study = \n",
        "\n",
        "\n",
        "II. rozruzniamy isup (1 -5) dla rakowych pacjentow (isup_group)\n",
        "\n",
        "1. TBx_SBx_state =1\n",
        "2. no_of_possitive = 1\n",
        "3. podzielić na PZ i TZ - radiologiczny\n",
        "4. regresja wg cech radiomicznych / klasyfikator (lasy losowe)\n",
        "\n",
        "nr of study = "
      ],
      "metadata": {
        "id": "Y0jujEx4ZMmG"
      }
    },
    {
      "cell_type": "code",
      "source": [
        "import pandas as pd\n",
        "import numpy as np\n",
        "import seaborn as sns\n",
        "import matplotlib.pyplot as plt\n",
        "from google.colab import files"
      ],
      "metadata": {
        "id": "c6VtncBUXTws"
      },
      "execution_count": 1,
      "outputs": []
    },
    {
      "cell_type": "code",
      "source": [
        "# Read data from CSV\n",
        "clinDF = pd.read_csv('/content/AI4A4_PCa_clinical.csv')\n",
        "srDF = pd.read_csv('/content/AI4AR_PCa_radiological.csv')\n",
        "t2wDF = pd.read_csv('/content/radiomics_t2w.csv')\n",
        "adcDF = pd.read_csv('/content/radiomics_adc.csv')"
      ],
      "metadata": {
        "id": "LI7Yxe3DXzZd"
      },
      "execution_count": 2,
      "outputs": []
    },
    {
      "cell_type": "code",
      "source": [
        "print(clinDF.shape, t2wDF.shape, srDF.shape, adcDF.shape)"
      ],
      "metadata": {
        "colab": {
          "base_uri": "https://localhost:8080/"
        },
        "id": "bu-Y-wxYhaii",
        "outputId": "1148da59-c311-4df9-ebda-de3915ec946d"
      },
      "execution_count": 3,
      "outputs": [
        {
          "output_type": "stream",
          "name": "stdout",
          "text": [
            "(503, 47) (1046, 112) (1464, 21) (1036, 112)\n"
          ]
        }
      ]
    },
    {
      "cell_type": "code",
      "source": [
        "clinDF.columns = clinDF.columns.str.replace(' ', '')"
      ],
      "metadata": {
        "id": "lkwklrrAq4uI"
      },
      "execution_count": 4,
      "outputs": []
    },
    {
      "cell_type": "code",
      "source": [
        "# Get studies where TBx_SBx_state =1, 0 (true positive, true negative cancer)\n",
        "\n",
        "clinDF = clinDF[clinDF['TBx_SBx_state'].notna()]\n",
        "clinDF.shape\n",
        "\n",
        "# Get studies where TBx_SBx_state = 0\n",
        "clinDF0 = clinDF[clinDF['TBx_SBx_state']==0]\n",
        "\n",
        "# Get studies where TBx_SBx_state = 1\n",
        "clinDF1 = clinDF[clinDF['TBx_SBx_state']==1]\n",
        "print(clinDF0.shape, clinDF1.shape)"
      ],
      "metadata": {
        "id": "8D16VZoqqp4E",
        "colab": {
          "base_uri": "https://localhost:8080/"
        },
        "outputId": "e70cbf76-dc5a-462c-eb4e-4de3dbaca41d"
      },
      "execution_count": 5,
      "outputs": [
        {
          "output_type": "stream",
          "name": "stdout",
          "text": [
            "(196, 47) (183, 47)\n"
          ]
        }
      ]
    },
    {
      "cell_type": "code",
      "source": [
        "# Divide to PZ and TZ lesions\n",
        "\n",
        "# PZ\n",
        "srDF[['patient_id', 'lesion_originating']].head(10)\n",
        "srDF_PZ = srDF[srDF['lesion_originating'] == 'PZ']\n",
        "\n",
        "# TZ\n",
        "srDF_TZ = srDF[srDF['lesion_originating'] == 'TZ']\n",
        "\n",
        "print(srDF_PZ.shape, srDF_TZ.shape)"
      ],
      "metadata": {
        "colab": {
          "base_uri": "https://localhost:8080/"
        },
        "id": "2SGkOdRgybX1",
        "outputId": "d74fd58e-ca4e-4156-ce9b-38beb6581535"
      },
      "execution_count": 6,
      "outputs": [
        {
          "output_type": "stream",
          "name": "stdout",
          "text": [
            "(699, 21) (765, 21)\n"
          ]
        }
      ]
    },
    {
      "cell_type": "code",
      "source": [
        "# Prepare studies in PZ\n",
        "\n",
        "id_PZ = srDF_PZ[['patient_id']].drop_duplicates()\n",
        "id_PZ.shape\n",
        "\n",
        "# Studies where TBx_SBx_state = 1 (aimed biopsy is positive, systematic is not important) - true positive, cancer\n",
        "clinDF_PZ1 = clinDF1[clinDF1['patient_id'].isin(id_PZ['patient_id'])]\n",
        "\n",
        "# Studies where TBx_SBx_state = 0 (aimed biopsy is negative, systematic is negative) - true negative, healthy\n",
        "clinDF_PZ0 = clinDF0[clinDF0['patient_id'].isin(id_PZ['patient_id'])]\n",
        "\n",
        "# Studies where TBx_SBx_state = 0, 1\n",
        "clinDF_PZ = clinDF[clinDF['patient_id'].isin(id_PZ['patient_id'])]\n",
        "print(clinDF_PZ0.shape, clinDF_PZ1.shape, clinDF_PZ.shape)"
      ],
      "metadata": {
        "id": "_yOdeN-97BPX",
        "colab": {
          "base_uri": "https://localhost:8080/"
        },
        "outputId": "a91582fb-c800-45be-84c3-4f2efdf4f079"
      },
      "execution_count": 7,
      "outputs": [
        {
          "output_type": "stream",
          "name": "stdout",
          "text": [
            "(50, 47) (133, 47) (183, 47)\n"
          ]
        }
      ]
    },
    {
      "cell_type": "code",
      "source": [
        "# Prepare studies in TZ\n",
        "\n",
        "id_TZ = srDF_TZ[['patient_id']].drop_duplicates()\n",
        "id_TZ.shape\n",
        "\n",
        "# Studies where TBx_SBx_state =1 (aimed biopsy is positive, systematic is not important) - true positive, cancer\n",
        "clinDF_TZ1 = clinDF1[clinDF1['patient_id'].isin(id_TZ['patient_id'])]\n",
        "\n",
        "# Studies where TBx_SBx_state =0 (aimed biopsy is negative, systematic is negative) - true negative, healthy\n",
        "clinDF_TZ0 = clinDF0[clinDF0['patient_id'].isin(id_TZ['patient_id'])]\n",
        "\n",
        "# Studies where TBx_SBx_state = 0, 1\n",
        "clinDF_TZ = clinDF[clinDF['patient_id'].isin(id_TZ['patient_id'])]\n",
        "print(clinDF_TZ0.shape, clinDF_TZ1.shape, clinDF_TZ.shape)"
      ],
      "metadata": {
        "id": "vzndJFab8oAF",
        "colab": {
          "base_uri": "https://localhost:8080/"
        },
        "outputId": "938a16d5-60d1-4b6c-8fa4-f051e4813a66"
      },
      "execution_count": 8,
      "outputs": [
        {
          "output_type": "stream",
          "name": "stdout",
          "text": [
            "(101, 47) (107, 47) (208, 47)\n"
          ]
        }
      ]
    },
    {
      "cell_type": "markdown",
      "source": [
        "# **Statistic analysis in PZ**"
      ],
      "metadata": {
        "id": "UtaFRAs5Dswd"
      }
    },
    {
      "cell_type": "code",
      "source": [
        "t2wDF.head(10)"
      ],
      "metadata": {
        "id": "A2p12BXyLE1f"
      },
      "execution_count": null,
      "outputs": []
    },
    {
      "cell_type": "code",
      "source": [
        "# Mark studies as healthy and with cancer\n",
        "adcDF_PZ0 = adcDF[adcDF['patient_id'].isin(clinDF_PZ0['patient_id'])]\n",
        "adcDF_PZ1 = adcDF[adcDF['patient_id'].isin(clinDF_PZ1['patient_id'])]\n",
        "t2wDF_PZ0 = t2wDF[t2wDF['patient_id'].isin(clinDF_PZ0['patient_id'])]\n",
        "t2wDF_PZ1 = t2wDF[t2wDF['patient_id'].isin(clinDF_PZ1['patient_id'])]\n",
        "\n",
        "adcDF_PZ0.insert(2, 'is_cancer', 0)\n",
        "adcDF_PZ1.insert(2, 'is_cancer', 1)\n",
        "t2wDF_PZ0.insert(2, 'is_cancer', 0)\n",
        "t2wDF_PZ1.insert(2, 'is_cancer', 1)\n",
        "\n",
        "# Merge dataframes\n",
        "adcDF_PZ0 = adcDF_PZ0.reset_index();\n",
        "adcDF_PZ1 = adcDF_PZ1.reset_index();\n",
        "t2wDF_PZ0 = t2wDF_PZ0.reset_index();\n",
        "t2wDF_PZ1 = t2wDF_PZ1.reset_index();\n",
        "\n",
        "adcDF_PZ = pd.concat([adcDF_PZ0, adcDF_PZ1], ignore_index=True, sort=False)\n",
        "t2wDF_PZ = pd.concat([t2wDF_PZ0, t2wDF_PZ1], ignore_index=True, sort=False)\n",
        "\n",
        "print('ADC: ', adcDF_PZ0.shape, adcDF_PZ1.shape, adcDF_PZ.shape)\n",
        "print('T2W: ', t2wDF_PZ0.shape, t2wDF_PZ1.shape, t2wDF_PZ.shape)"
      ],
      "metadata": {
        "colab": {
          "base_uri": "https://localhost:8080/"
        },
        "id": "8mb-g_1uM-p_",
        "outputId": "53581acf-da96-4fc4-fb51-5dc2ffa86537"
      },
      "execution_count": 9,
      "outputs": [
        {
          "output_type": "stream",
          "name": "stdout",
          "text": [
            "ADC:  (87, 114) (454, 114) (541, 114)\n",
            "T2W:  (89, 114) (453, 114) (542, 114)\n"
          ]
        }
      ]
    },
    {
      "cell_type": "code",
      "source": [
        "# Remove unnecessary columns\n",
        "list(adcDF_PZ.columns)\n",
        "\n",
        "# Compactness1 and Compactness2, as well as SphericalDisproportion from Shape features were excluded because they are directly correlated to Sphericity (based on \n",
        "# the definition of the feature, as discussed in the documentation of pyradiomics). Flatness and LeastAxis from Shape features were excluded because some tumor ROIs \n",
        "# were only defined on one slice and these features do not yield useful values for non-3D objects. SumAverage was excluded because it is directly correlated with JointAverage. \n",
        "# Homogeneity1 and Homogeneity2 were disabled because they are directly correlated to InverseDifferenceMoment. (Michael Schwier et al. \"Repeatability of Multiparametric Prostate MRI Radiomics Features\")\n",
        "\n",
        "adcDF_PZ = adcDF_PZ.drop(['index', 'mask_path', 'data_path', 'original_shape_Flatness', 'original_shape_LeastAxisLength', 'original_glcm_SumAverage', ], axis=1)\n",
        "adcDF_PZ\n",
        "\n",
        "t2wDF_PZ = t2wDF_PZ.drop(['index', 'mask_path', 'data_path', 'original_shape_Flatness', 'original_shape_LeastAxisLength', 'original_glcm_SumAverage', ], axis=1)\n",
        "t2wDF_PZ"
      ],
      "metadata": {
        "id": "5tZVAgDmDUgB"
      },
      "execution_count": null,
      "outputs": []
    },
    {
      "cell_type": "code",
      "source": [
        "# DEBUG \n",
        "adcDF_PZ.columns[adcDF_PZ.columns.str.contains('original_')]"
      ],
      "metadata": {
        "id": "KCNv9By2S94z"
      },
      "execution_count": null,
      "outputs": []
    },
    {
      "cell_type": "code",
      "source": [
        "# Remane columns according to modality\n",
        "adcDF_PZ.columns = ['adc_' + col.lower() for col in adcDF_PZ.columns]\n",
        "t2wDF_PZ.columns = ['t2w_' + col.lower() for col in t2wDF_PZ.columns]"
      ],
      "metadata": {
        "id": "kTZpQdm6Ap_T"
      },
      "execution_count": 11,
      "outputs": []
    },
    {
      "cell_type": "code",
      "source": [
        "adcDF_PZ.rename(columns = {'adc_patient_id':'patient_id', 'adc_lesion_id':'lesion_id', 'adc_is_cancer':'is_cancer', 'adc_radiologist_id':'radiologist_id'}, inplace = True)\n",
        "adcDF_PZ\n",
        "\n",
        "t2wDF_PZ.rename(columns = {'t2w_patient_id':'patient_id', 't2w_lesion_id':'lesion_id', 't2w_is_cancer':'is_cancer', 't2w_radiologist_id':'radiologist_id'}, inplace = True)\n",
        "t2wDF_PZ"
      ],
      "metadata": {
        "id": "jVo7GcijUBtl"
      },
      "execution_count": null,
      "outputs": []
    },
    {
      "cell_type": "code",
      "source": [
        "# Menge ADC and T2W dataframes\n",
        "df = pd.merge(t2wDF_PZ, adcDF_PZ, on=['patient_id', 'lesion_id', 'radiologist_id', 'is_cancer'])\n",
        "df.isnull().sum()"
      ],
      "metadata": {
        "id": "pnzofY5faJim"
      },
      "execution_count": null,
      "outputs": []
    },
    {
      "cell_type": "code",
      "source": [
        "# DEBUG\n",
        "df.to_csv('temp.csv') \n",
        "files.download('temp.csv')"
      ],
      "metadata": {
        "id": "9eNtHq7bcy28"
      },
      "execution_count": null,
      "outputs": []
    },
    {
      "cell_type": "code",
      "source": [
        "# Sort dataframe\n",
        "df_sorted = df.sort_values(by=['patient_id', 'lesion_id', 'radiologist_id'])\n",
        "df_sorted = df_sorted.reset_index()\n",
        "df_sorted = df_sorted.drop(['index'], axis=1)\n",
        "df_sorted"
      ],
      "metadata": {
        "id": "1V4VIVWDKB3u"
      },
      "execution_count": null,
      "outputs": []
    },
    {
      "cell_type": "code",
      "source": [
        "# DEBUG\n",
        "\n",
        "temp = df.sort_values(by=['patient_id', 'lesion_id', 'radiologist_id'])\n",
        "temp.to_csv('t2w_adc_features_sorted.csv') \n",
        "files.download('t2w_adc_features_sorted.csv')"
      ],
      "metadata": {
        "id": "2MBKeFmeWSYo"
      },
      "execution_count": null,
      "outputs": []
    },
    {
      "cell_type": "code",
      "source": [
        "# Get basic info\n",
        "\n",
        "pd.set_option('display.float_format', lambda x: f'{x:.2f}')\n",
        "df_sorted.describe().T\n",
        "df_sorted.groupby('is_cancer').size()"
      ],
      "metadata": {
        "colab": {
          "base_uri": "https://localhost:8080/"
        },
        "id": "7EqZNvmbfUUG",
        "outputId": "b3f679b1-eb96-4993-8a68-8cefd0cf7aff"
      },
      "execution_count": 266,
      "outputs": [
        {
          "output_type": "execute_result",
          "data": {
            "text/plain": [
              "is_cancer\n",
              "0     86\n",
              "1    450\n",
              "dtype: int64"
            ]
          },
          "metadata": {},
          "execution_count": 266
        }
      ]
    },
    {
      "cell_type": "code",
      "source": [
        "# Correlation check\n",
        "\n",
        "corrDF = df_sorted.copy().drop(['index', 'patient_id', 'lesion_id', 'is_cancer', 'radiologist_id'], axis=1)\n",
        "def get_redundant_pairs(df):\n",
        "    '''Get diagonal and lower triangular pairs of correlation matrix'''\n",
        "    pairs_to_drop = set()\n",
        "    cols = df.columns\n",
        "    for i in range(0, df.shape[1]):\n",
        "        for j in range(0, i+1):\n",
        "            pairs_to_drop.add((cols[i], cols[j]))\n",
        "    return pairs_to_drop\n",
        "\n",
        "def get_top_abs_correlations(df, n=corrDF.shape[1]**2):\n",
        "    au_corr = df.corr().abs().unstack()\n",
        "    labels_to_drop = get_redundant_pairs(df)\n",
        "    au_corr = au_corr.drop(labels=labels_to_drop).sort_values(ascending=False)\n",
        "    return au_corr[0:n]\n",
        "\n",
        "print(\"Top Absolute Correlations\")\n",
        "print(get_top_abs_correlations(corrDF))\n",
        "corrResult = get_top_abs_correlations(corrDF)"
      ],
      "metadata": {
        "id": "HEpk13C5lzUs"
      },
      "execution_count": null,
      "outputs": []
    },
    {
      "cell_type": "code",
      "source": [
        "# DEBUG\n",
        "\n",
        "corrResult.to_csv('features_correlation.csv') \n",
        "files.download('features_correlation.csv')"
      ],
      "metadata": {
        "id": "Qo_di0Okndma"
      },
      "execution_count": null,
      "outputs": []
    },
    {
      "cell_type": "markdown",
      "source": [
        "## **Normality tests**"
      ],
      "metadata": {
        "id": "CXSxSGBY5BAM"
      }
    },
    {
      "cell_type": "code",
      "source": [
        "df = df_sorted.copy()\n",
        "df = df.drop(['patient_id', 'lesion_id', 'is_cancer', 'radiologist_id'], axis=1)\n",
        "df.shape"
      ],
      "metadata": {
        "colab": {
          "base_uri": "https://localhost:8080/"
        },
        "id": "Y1BT91KMrdZH",
        "outputId": "5a13c502-51d3-4153-d242-72a90b333e19"
      },
      "execution_count": 273,
      "outputs": [
        {
          "output_type": "execute_result",
          "data": {
            "text/plain": [
              "(536, 208)"
            ]
          },
          "metadata": {},
          "execution_count": 273
        }
      ]
    },
    {
      "cell_type": "code",
      "source": [
        "df.loc[1]"
      ],
      "metadata": {
        "colab": {
          "base_uri": "https://localhost:8080/"
        },
        "id": "lq-E8R1PtYFq",
        "outputId": "fcb732ee-7138-4a1f-9c15-353b13997701"
      },
      "execution_count": 280,
      "outputs": [
        {
          "output_type": "execute_result",
          "data": {
            "text/plain": [
              "t2w_original_shape_elongation                   0.66\n",
              "t2w_original_shape_majoraxislength             15.18\n",
              "t2w_original_shape_maximum2ddiametercolumn     11.13\n",
              "t2w_original_shape_maximum2ddiameterrow        13.36\n",
              "t2w_original_shape_maximum2ddiameterslice      15.50\n",
              "                                               ...  \n",
              "adc_original_ngtdm_busyness                     0.04\n",
              "adc_original_ngtdm_coarseness                   0.08\n",
              "adc_original_ngtdm_complexity                2189.88\n",
              "adc_original_ngtdm_contrast                     1.10\n",
              "adc_original_ngtdm_strength                    28.25\n",
              "Name: 1, Length: 208, dtype: float64"
            ]
          },
          "metadata": {},
          "execution_count": 280
        }
      ]
    },
    {
      "cell_type": "code",
      "source": [
        "# Shapiro-Wilk Test\n",
        "\n",
        "import math\n",
        "import numpy as np\n",
        "from scipy.stats import shapiro \n",
        "\n",
        "df_shapiro = [shapiro(col) for col in df.iteritems()]\n",
        "df_shapiro\n",
        "# According to Shapiro-Wilk test results are not normally distributed\n",
        "#health_shapiro = shapiro(c1[['psa_result_PZ0']])"
      ],
      "metadata": {
        "id": "_x_HpMOprSdA"
      },
      "execution_count": null,
      "outputs": []
    },
    {
      "cell_type": "code",
      "source": [
        "df.iloc[:, lambda df: [0, (df.shape[1]-1)]]"
      ],
      "metadata": {
        "id": "tyP1Wvraun0v"
      },
      "execution_count": null,
      "outputs": []
    },
    {
      "cell_type": "code",
      "source": [
        " df.shape[1]"
      ],
      "metadata": {
        "colab": {
          "base_uri": "https://localhost:8080/"
        },
        "id": "83V2vV2au18m",
        "outputId": "ecf429d7-0569-451f-f712-11331b6c78e6"
      },
      "execution_count": 286,
      "outputs": [
        {
          "output_type": "execute_result",
          "data": {
            "text/plain": [
              "208"
            ]
          },
          "metadata": {},
          "execution_count": 286
        }
      ]
    },
    {
      "cell_type": "code",
      "source": [
        "# Kolmogorov-Smirnov Test\n",
        "\n",
        "import math\n",
        "import numpy as np\n",
        "from scipy.stats import kstest\n",
        "\n",
        "#perform Kolmogorov-Smirnov test for normality\n",
        "health_kstest = kstest(c1[['psa_result_PZ0']], 'norm')\n",
        "cancer_kstest = kstest(c2[['psa_result_PZ1']], 'norm')\n",
        "\n",
        "# According to Shapiro-Wilk test results are not normally distributed\n",
        "health_kstest"
      ],
      "metadata": {
        "id": "Y6h80KqdZyk1"
      },
      "execution_count": null,
      "outputs": []
    },
    {
      "cell_type": "markdown",
      "source": [
        "# **Logistic regression in PZ**"
      ],
      "metadata": {
        "id": "BFf8BVudZ6P9"
      }
    },
    {
      "cell_type": "code",
      "source": [
        "import pandas as pd\n",
        "import numpy as np\n",
        "from sklearn import preprocessing\n",
        "import matplotlib.pyplot as plt \n",
        "plt.rc(\"font\", size=14)\n",
        "from sklearn.linear_model import LogisticRegression\n",
        "from sklearn.model_selection import train_test_split\n",
        "import seaborn as sns\n",
        "sns.set(style=\"white\")\n",
        "sns.set(style=\"whitegrid\", color_codes=True)"
      ],
      "metadata": {
        "id": "woyOfoQgZ5WZ"
      },
      "execution_count": 17,
      "outputs": []
    },
    {
      "cell_type": "code",
      "source": [
        "# Data exploration\n",
        "df_sorted['is_cancer'].value_counts()"
      ],
      "metadata": {
        "colab": {
          "base_uri": "https://localhost:8080/"
        },
        "id": "F4UxL3G6aMOK",
        "outputId": "5d5b8cb6-6ee2-40dd-b912-117eeb6f1582"
      },
      "execution_count": 19,
      "outputs": [
        {
          "output_type": "execute_result",
          "data": {
            "text/plain": [
              "1    450\n",
              "0     86\n",
              "Name: is_cancer, dtype: int64"
            ]
          },
          "metadata": {},
          "execution_count": 19
        }
      ]
    },
    {
      "cell_type": "code",
      "source": [
        "sns.countplot(x='is_cancer', data=df_sorted, palette='hls')\n",
        "plt.show()\n",
        "# plt.savefig('count_iscancer_plot')"
      ],
      "metadata": {
        "colab": {
          "base_uri": "https://localhost:8080/",
          "height": 285
        },
        "id": "CfRLUAxCaWAk",
        "outputId": "bb66f6fc-1be8-4952-ea58-e910d36299ca"
      },
      "execution_count": 20,
      "outputs": [
        {
          "output_type": "display_data",
          "data": {
            "text/plain": [
              "<Figure size 432x288 with 1 Axes>"
            ],
            "image/png": "[encoded data removed]"
          },
          "metadata": {}
        }
      ]
    },
    {
      "cell_type": "markdown",
      "source": [
        "## **Boxplots - firstorder features for healthy patients**"
      ],
      "metadata": {
        "id": "7bmgk74S5qAL"
      }
    },
    {
      "cell_type": "code",
      "source": [
        "# Set the figure size\n",
        "plt.rcParams[\"figure.figsize\"] = [10.50, 5.50]\n",
        "plt.rcParams[\"figure.autolayout\"] = True\n",
        "\n",
        "# Plot the dataframe\n",
        "ax = df[['psa_result_PZ0', 'psa_result_PZ1']].plot(kind='box', title='boxplot')\n",
        "\n",
        "# Display the plot\n",
        "plt.show()"
      ],
      "metadata": {
        "id": "H7uRUugJtMu4",
        "colab": {
          "base_uri": "https://localhost:8080/",
          "height": 405
        },
        "outputId": "6959f218-cf44-4191-e13d-270188384182"
      },
      "execution_count": null,
      "outputs": [
        {
          "output_type": "display_data",
          "data": {
            "text/plain": [
              "<Figure size 756x396 with 1 Axes>"
            ],
            "image/png": "[encoded data removed]"
          },
          "metadata": {
            "needs_background": "light"
          }
        }
      ]
    },
    {
      "cell_type": "markdown",
      "source": [
        "## **Normality tests - PSA**\n",
        "\n",
        "If the p-value of the test is greater than α = .05, then the data is assumed to be normally distributed."
      ],
      "metadata": {
        "id": "RcQevRYc67ch"
      }
    },
    {
      "cell_type": "code",
      "source": [
        "# Shapiro-Wilk Test\n",
        "\n",
        "import math\n",
        "import numpy as np\n",
        "from scipy.stats import shapiro \n",
        "\n",
        "health_shapiro = shapiro(c1[['psa_result_PZ0']])\n",
        "cancer_shapiro = shapiro(c2[['psa_result_PZ1']])\n",
        "# According to Shapiro-Wilk test results are not normally distributed"
      ],
      "metadata": {
        "id": "qC-lovzK7Axz"
      },
      "execution_count": null,
      "outputs": []
    },
    {
      "cell_type": "code",
      "source": [
        "# Kolmogorov-Smirnov Test\n",
        "\n",
        "import math\n",
        "import numpy as np\n",
        "from scipy.stats import kstest\n",
        "\n",
        "#perform Kolmogorov-Smirnov test for normality\n",
        "health_kstest = kstest(c1[['psa_result_PZ0']], 'norm')\n",
        "cancer_kstest = kstest(c2[['psa_result_PZ1']], 'norm')\n",
        "\n",
        "# According to Shapiro-Wilk test results are not normally distributed\n",
        "health_kstest"
      ],
      "metadata": {
        "id": "UmoC5Emu9463"
      },
      "execution_count": null,
      "outputs": []
    },
    {
      "cell_type": "markdown",
      "source": [
        "## **Outliers detection - PSA**"
      ],
      "metadata": {
        "id": "iVLlR5P85xKa"
      }
    },
    {
      "cell_type": "markdown",
      "source": [
        "**IQR (Inter Quartile Range)**\n",
        "\n",
        "IQR = Quartile3 – Quartile1\n",
        "\n",
        "upper = Q3 +1.5*IQR\n",
        "lower = Q1 – 1.5*IQR\n",
        "\n",
        "To define the outlier base value is defined above and below datasets normal range namely Upper and Lower bounds, define the upper and the lower bound"
      ],
      "metadata": {
        "id": "liHgPO_s6CYq"
      }
    },
    {
      "cell_type": "code",
      "source": [
        "stats = df.describe()[['psa_result_PZ0', 'psa_result_PZ1']]\n",
        "stats"
      ],
      "metadata": {
        "id": "Q6_orihyz9Ht"
      },
      "execution_count": null,
      "outputs": []
    },
    {
      "cell_type": "code",
      "source": [
        "stats.loc['count']"
      ],
      "metadata": {
        "id": "sL8ZNXGt4N9W"
      },
      "execution_count": null,
      "outputs": []
    },
    {
      "cell_type": "code",
      "source": [
        "clinDF_PZ0[['psa_result']] = clinDF_PZ0[['psa_result']].astype('float')\n",
        "\n",
        "#Changing the outlier markers\n",
        "red_circle = dict(markerfacecolor='red', marker='o')\n",
        "mean_shape = dict(markerfacecolor='green', marker='D', markeredgecolor='green')\n",
        "plt.boxplot(x = clinDF_PZ0[['psa_result']], vert = True, flierprops=red_circle, showmeans=True, meanprops=mean_shape);"
      ],
      "metadata": {
        "id": "knz_35XrUw-X"
      },
      "execution_count": null,
      "outputs": []
    },
    {
      "cell_type": "code",
      "source": [
        "clinDF_PZ = clinDF[clinDF['patient_id'].isin(id_PZ['patient_id'])]\n",
        "clinDF_PZ.shape\n",
        "\n",
        "cancer = clinDF_PZ[clinDF_PZ['is_cancer'].astype('bool')==True]\n",
        "cancer\n",
        "\n",
        "nocancer = clinDF_PZ[clinDF_PZ['is_cancer'].astype('bool')==False]\n",
        "nocancer"
      ],
      "metadata": {
        "id": "d6q1-A7xWWT6"
      },
      "execution_count": null,
      "outputs": []
    },
    {
      "cell_type": "code",
      "source": [
        "cancer[['psa_result']] = cancer[['psa_result']].astype('float')\n",
        "nocancer[['psa_result']] = nocancer[['psa_result']].astype('float')\n",
        "\n",
        "data = pd.DataFrame({\"Cancer\": cancer['psa_result'], \"NoCancer\": nocancer['psa_result']}, index=[0])\n",
        "\n",
        "# Plot the dataframe\n",
        "ax = data[['Cancer', 'NoCancer']].plot(kind='box', title='boxplot')\n",
        "\n"
      ],
      "metadata": {
        "id": "GV0OuuwVZdDv"
      },
      "execution_count": null,
      "outputs": []
    },
    {
      "cell_type": "markdown",
      "source": [
        "# **Statistic analysis of radiomic features**"
      ],
      "metadata": {
        "id": "sqg-CfMdC7GX"
      }
    },
    {
      "cell_type": "markdown",
      "source": [
        "## **Firstorder**\n",
        "\n",
        "First-order statistics describe the distribution of voxel intensities within the image region defined by the mask through commonly used and basic metrics."
      ],
      "metadata": {
        "id": "b83GGGlpDEIs"
      }
    },
    {
      "cell_type": "markdown",
      "source": [
        "### **Preprocessing**"
      ],
      "metadata": {
        "id": "lqCJ4hOSDbp8"
      }
    },
    {
      "cell_type": "code",
      "source": [
        "t2wDF_PZ0 = t2wDF[t2wDF['patient_id'].isin(clinDF_PZ0['patient_id'])]\n",
        "t2wDF_PZ0\n",
        "\n",
        "t2wDF_PZ1 = t2wDF[t2wDF['patient_id'].isin(clinDF_PZ1['patient_id'])]\n",
        "t2wDF_PZ1\n",
        "\n",
        "# Get only firstorder features for studies with cancer and no cancer in PZ area\n",
        "t2wDF_PZ0_fo = t2wDF_PZ0[t2wDF_PZ0.columns[t2wDF_PZ0.columns.str.contains('original_firstorder')]]\n",
        "t2wDF_PZ1_fo = t2wDF_PZ1[t2wDF_PZ1.columns[t2wDF_PZ1.columns.str.contains('original_firstorder')]]\n",
        "\n",
        "# Add column 'patient_id'\n",
        "t2wDF_PZ0_fo.insert(0, 'patient_id', t2wDF_PZ0.patient_id)\n",
        "t2wDF_PZ1_fo.insert(0, 'patient_id', t2wDF_PZ1.patient_id)\n",
        "\n",
        "# Add column 'is_cancer'\n",
        "t2wDF_PZ0_fo.insert(1, 'is_cancer', 0)\n",
        "t2wDF_PZ1_fo.insert(1, 'is_cancer', 1)"
      ],
      "metadata": {
        "id": "xx-6143UFcze"
      },
      "execution_count": null,
      "outputs": []
    },
    {
      "cell_type": "code",
      "source": [
        "# DEBUG\n",
        "from google.colab import files\n",
        "t2wDF_PZ0_fo.to_csv('t2wDF_PZ0_fo.csv') \n",
        "files.download('t2wDF_PZ0_fo.csv')"
      ],
      "metadata": {
        "id": "FMV61_eeDv_M"
      },
      "execution_count": null,
      "outputs": []
    },
    {
      "cell_type": "code",
      "source": [
        "# Reset indexes for dataframes\n",
        "\n",
        "t2wDF_PZ0_fo = t2wDF_PZ0_fo.reset_index(drop=True)\n",
        "t2wDF_PZ1_fo = t2wDF_PZ1_fo.reset_index(drop=True)"
      ],
      "metadata": {
        "id": "tagjy2wHyKtc"
      },
      "execution_count": null,
      "outputs": []
    },
    {
      "cell_type": "code",
      "source": [
        "# DEBUG\n",
        "a = random.sample(range(0, t2wDF_PZ0_fo.shape[0]-1), int(t2wDF_PZ0_fo.shape[0]*0.8//1))\n",
        "import numpy as np\n",
        "a = np.array(a)\n",
        "np.sort(a)\n",
        "a.shape"
      ],
      "metadata": {
        "id": "nw8C3pfw0jO_"
      },
      "execution_count": null,
      "outputs": []
    },
    {
      "cell_type": "code",
      "source": [
        "# Randomize 80 % of stadies for lerning group\n",
        "\n",
        "# Randomize indexes\n",
        "import random\n",
        "import numpy as np\n",
        "\n",
        "idxs_PZ0 = random.sample(range(0, t2wDF_PZ0_fo.shape[0]-1), int(t2wDF_PZ0_fo.shape[0]*0.8//1))\n",
        "idxs_PZ1 = random.sample(range(0, t2wDF_PZ1_fo.shape[0]-1), int(t2wDF_PZ1_fo.shape[0]*0.8//1))\n",
        "print(len(idxs_PZ0), len(idxs_PZ1))\n",
        "\n",
        "# Sort indexes\n",
        "idxs_PZ0 = np.sort(idxs_PZ0)\n",
        "idxs_PZ1 = np.sort(idxs_PZ1)\n",
        "\n",
        "# Get studies according to randomized indexes - LDF - Learning Data Frame\n",
        "t2wDF_PZ0_fo_LDF = t2wDF_PZ0_fo.iloc[idxs_PZ0]\n",
        "t2wDF_PZ1_fo_LDF = t2wDF_PZ1_fo.iloc[idxs_PZ1]\n",
        "# Merge dataframes\n",
        "t2wDF_PZ_fo_LDF = pd.concat([t2wDF_PZ0_fo_LDF, t2wDF_PZ1_fo_LDF], ignore_index=True, sort=False)\n",
        "# shuffle the DataFrame rows\n",
        "t2wDF_PZ_fo_LDF = t2wDF_PZ_fo_LDF.sample(frac = 1)"
      ],
      "metadata": {
        "colab": {
          "base_uri": "https://localhost:8080/"
        },
        "id": "CaW6RGtF0Tv5",
        "outputId": "563d9000-bd34-40b1-c800-ae770be82f30"
      },
      "execution_count": null,
      "outputs": [
        {
          "output_type": "stream",
          "name": "stdout",
          "text": [
            "71 362\n"
          ]
        }
      ]
    },
    {
      "cell_type": "code",
      "source": [
        "# Data without randomization\n",
        "\n",
        "# Merge dataframes\n",
        "t2wDF_PZ_fo_LDF = pd.concat([t2wDF_PZ0_fo, t2wDF_PZ1_fo], ignore_index=True, sort=False)\n",
        "t2wDF_PZ_fo_LDF = t2wDF_PZ_fo_LDF.drop('patient_id', axis=1)\n",
        "# shuffle the DataFrame rows\n",
        "t2wDF_PZ_fo_LDF = t2wDF_PZ_fo_LDF.sample(frac = 1)\n",
        "t2wDF_PZ_fo_LDF"
      ],
      "metadata": {
        "id": "cdAEa96lPAp2"
      },
      "execution_count": null,
      "outputs": []
    },
    {
      "cell_type": "code",
      "source": [
        "# DEBUG\n",
        "from google.colab import files\n",
        "t2wDF_PZ_fo_LDF.to_csv('t2wDF_PZ_fo_LDF.csv') \n",
        "files.download('t2wDF_PZ_fo_LDF.csv')"
      ],
      "metadata": {
        "colab": {
          "base_uri": "https://localhost:8080/",
          "height": 17
        },
        "id": "inEE7UYRNBl_",
        "outputId": "aacbf05d-84f1-4c70-f478-6b686d4b56d7"
      },
      "execution_count": null,
      "outputs": [
        {
          "output_type": "display_data",
          "data": {
            "text/plain": [
              "<IPython.core.display.Javascript object>"
            ],
            "application/javascript": [
              "\n",
              "    async function download(id, filename, size) {\n",
              "      if (!google.colab.kernel.accessAllowed) {\n",
              "        return;\n",
              "      }\n",
              "      const div = document.createElement('div');\n",
              "      const label = document.createElement('label');\n",
              "      label.textContent = `Downloading \"${filename}\": `;\n",
              "      div.appendChild(label);\n",
              "      const progress = document.createElement('progress');\n",
              "      progress.max = size;\n",
              "      div.appendChild(progress);\n",
              "      document.body.appendChild(div);\n",
              "\n",
              "      const buffers = [];\n",
              "      let downloaded = 0;\n",
              "\n",
              "      const channel = await google.colab.kernel.comms.open(id);\n",
              "      // Send a message to notify the kernel that we're ready.\n",
              "      channel.send({})\n",
              "\n",
              "      for await (const message of channel.messages) {\n",
              "        // Send a message to notify the kernel that we're ready.\n",
              "        channel.send({})\n",
              "        if (message.buffers) {\n",
              "          for (const buffer of message.buffers) {\n",
              "            buffers.push(buffer);\n",
              "            downloaded += buffer.byteLength;\n",
              "            progress.value = downloaded;\n",
              "          }\n",
              "        }\n",
              "      }\n",
              "      const blob = new Blob(buffers, {type: 'application/binary'});\n",
              "      const a = document.createElement('a');\n",
              "      a.href = window.URL.createObjectURL(blob);\n",
              "      a.download = filename;\n",
              "      div.appendChild(a);\n",
              "      a.click();\n",
              "      div.remove();\n",
              "    }\n",
              "  "
            ]
          },
          "metadata": {}
        },
        {
          "output_type": "display_data",
          "data": {
            "text/plain": [
              "<IPython.core.display.Javascript object>"
            ],
            "application/javascript": [
              "download(\"download_7a78f158-b236-4528-942d-6e887044ea09\", \"radDF_PZ_fo_LDF.csv\", 107249)"
            ]
          },
          "metadata": {}
        }
      ]
    },
    {
      "cell_type": "markdown",
      "source": [
        "## **Simple logistic regression**"
      ],
      "metadata": {
        "id": "qlon2qQENuNJ"
      }
    },
    {
      "cell_type": "code",
      "source": [
        "import pandas as pd\n",
        "import numpy as np\n",
        "from sklearn import preprocessing\n",
        "import matplotlib.pyplot as plt \n",
        "plt.rc(\"font\", size=14)\n",
        "from sklearn.linear_model import LogisticRegression\n",
        "from sklearn.model_selection import train_test_split\n",
        "import seaborn as sns\n",
        "sns.set(style=\"white\")\n",
        "sns.set(style=\"whitegrid\", color_codes=True)"
      ],
      "metadata": {
        "id": "uP3wh9HW7qf-"
      },
      "execution_count": null,
      "outputs": []
    },
    {
      "cell_type": "code",
      "source": [
        "# Data exploration\n",
        "df_sorted['is_cancer'].value_counts()"
      ],
      "metadata": {
        "id": "9TEMQ_WU7Pu8",
        "colab": {
          "base_uri": "https://localhost:8080/"
        },
        "outputId": "ad480bdc-53d0-4010-c678-0fbd6b90159a"
      },
      "execution_count": 15,
      "outputs": [
        {
          "output_type": "execute_result",
          "data": {
            "text/plain": [
              "1    450\n",
              "0     86\n",
              "Name: is_cancer, dtype: int64"
            ]
          },
          "metadata": {},
          "execution_count": 15
        }
      ]
    },
    {
      "cell_type": "code",
      "source": [
        "sns.countplot(x='is_cancer', data=df_sorted, palette='hls')\n",
        "plt.show()\n",
        "# plt.savefig('count_iscancer_plot')"
      ],
      "metadata": {
        "colab": {
          "base_uri": "https://localhost:8080/",
          "height": 280
        },
        "id": "6ibnr5zB56Vl",
        "outputId": "53db099a-5787-44a4-c619-7734e73f936b"
      },
      "execution_count": 16,
      "outputs": [
        {
          "output_type": "display_data",
          "data": {
            "text/plain": [
              "<Figure size 432x288 with 1 Axes>"
            ],
            "image/png": "[encoded data removed]"
          },
          "metadata": {
            "needs_background": "light"
          }
        }
      ]
    },
    {
      "cell_type": "code",
      "source": [
        "count_nocancer = len(t2wDF_PZ_fo_LDF[t2wDF_PZ_fo_LDF['is_cancer']==0])\n",
        "count_cancer = len(t2wDF_PZ_fo_LDF[t2wDF_PZ_fo_LDF['is_cancer']==1])\n",
        "pct_nocancer = count_nocancer/(count_nocancer + count_cancer)\n",
        "print('percentage of healthy subjects: ', pct_nocancer)\n",
        "pct_cancer = count_cancer/(count_nocancer + count_cancer)\n",
        "print('percentage of subjects with cancer: ', pct_cancer)\n",
        "\n",
        "# Our classes are imbalanced, and the ratio of subjects with cancer to healthy subjects is 84:16."
      ],
      "metadata": {
        "colab": {
          "base_uri": "https://localhost:8080/"
        },
        "id": "98r1Oh9U9290",
        "outputId": "74e7b8ae-4b7d-4502-bdb3-2d521d8c3399"
      },
      "execution_count": null,
      "outputs": [
        {
          "output_type": "stream",
          "name": "stdout",
          "text": [
            "percentage of healthy subjects:  0.16420664206642066\n",
            "percentage of subjects with cancer:  0.8357933579335793\n"
          ]
        }
      ]
    },
    {
      "cell_type": "code",
      "source": [
        "temp = t2wDF_PZ_fo_LDF.groupby('is_cancer').mean()\n",
        "#temp.drop('patient_id', axis=1)"
      ],
      "metadata": {
        "id": "Fef2WCna_fRD"
      },
      "execution_count": null,
      "outputs": []
    },
    {
      "cell_type": "code",
      "source": [
        "temp = t2wDF_PZ_fo_LDF.groupby('is_cancer').median()\n",
        "#temp.drop('patient_id', axis=1)"
      ],
      "metadata": {
        "id": "_6BdyCbjBU6K"
      },
      "execution_count": null,
      "outputs": []
    },
    {
      "cell_type": "code",
      "source": [
        "t2wDF_PZ_fo_LDF"
      ],
      "metadata": {
        "id": "sJbAQjKkZbFh"
      },
      "execution_count": null,
      "outputs": []
    },
    {
      "cell_type": "code",
      "source": [
        "# Balancing the data - Over-sampling using SMOTE\n",
        "\n",
        "X = t2wDF_PZ_fo_LDF.loc[:, t2wDF_PZ_fo_LDF.columns != 'is_cancer']\n",
        "y = t2wDF_PZ_fo_LDF.loc[:, t2wDF_PZ_fo_LDF.columns == 'is_cancer']\n",
        "\n",
        "from imblearn.over_sampling import SMOTE\n",
        "os = SMOTE(random_state=0)\n",
        "X_train, X_test, y_train, y_test = train_test_split(X, y, test_size=0.3, random_state=0)\n",
        "columns = X_train.columns\n",
        "os_data_X,os_data_y=os.fit_resample(X_train, y_train)\n",
        "os_data_X = pd.DataFrame(data=os_data_X,columns=columns )\n",
        "os_data_y= pd.DataFrame(data=os_data_y,columns=['is_cancer'])\n",
        "# we can Check the numbers of our data\n",
        "print(\"length of oversampled data is \",len(os_data_X))\n",
        "print(\"Number of no subscription in oversampled data\",len(os_data_y[os_data_y['is_cancer']==0]))\n",
        "print(\"Number of subscription\",len(os_data_y[os_data_y['is_cancer']==1]))\n",
        "print(\"Proportion of no subscription data in oversampled data is \",len(os_data_y[os_data_y['is_cancer']==0])/len(os_data_X))\n",
        "print(\"Proportion of subscription data in oversampled data is \",len(os_data_y[os_data_y['is_cancer']==1])/len(os_data_X))"
      ],
      "metadata": {
        "colab": {
          "base_uri": "https://localhost:8080/"
        },
        "id": "XkypyGxQIG7I",
        "outputId": "0500ba58-bae5-49b4-de9a-83d068cc99f7"
      },
      "execution_count": null,
      "outputs": [
        {
          "output_type": "stream",
          "name": "stdout",
          "text": [
            "length of oversampled data is  646\n",
            "Number of no subscription in oversampled data 323\n",
            "Number of subscription 323\n",
            "Proportion of no subscription data in oversampled data is  0.5\n",
            "Proportion of subscription data in oversampled data is  0.5\n"
          ]
        }
      ]
    },
    {
      "cell_type": "code",
      "source": [
        "# Recursive Feature Elimination\n",
        "\n",
        "t2wDF_PZ_fo_LDF_vars=t2wDF_PZ_fo_LDF.columns.values.tolist()\n",
        "y=['is_cancer']\n",
        "X=[i for i in t2wDF_PZ_fo_LDF_vars if i not in y]\n",
        "from sklearn.feature_selection import RFE\n",
        "from sklearn.linear_model import LogisticRegression\n",
        "logreg = LogisticRegression()\n",
        "rfe = RFE(logreg, step = 20)\n",
        "rfe = rfe.fit(os_data_X, os_data_y.values.ravel())\n",
        "print(rfe.support_)\n",
        "print(rfe.ranking_)"
      ],
      "metadata": {
        "colab": {
          "base_uri": "https://localhost:8080/"
        },
        "id": "x_RuPOhChDBe",
        "outputId": "0436f211-4ee2-4b55-a139-96d92cac231a"
      },
      "execution_count": null,
      "outputs": [
        {
          "output_type": "stream",
          "name": "stdout",
          "text": [
            "[False  True  True False False False  True False  True  True False  True\n",
            " False  True False  True False  True]\n",
            "[2 1 1 2 2 2 1 2 1 1 2 1 2 1 2 1 2 1]\n"
          ]
        }
      ]
    },
    {
      "cell_type": "code",
      "source": [
        "list(np.ravel(np.where(rfe.support_==True)))"
      ],
      "metadata": {
        "colab": {
          "base_uri": "https://localhost:8080/"
        },
        "id": "TevqsOi-eLa_",
        "outputId": "a00820d8-35e1-4918-cc67-42797c49fce8"
      },
      "execution_count": null,
      "outputs": [
        {
          "output_type": "execute_result",
          "data": {
            "text/plain": [
              "[1, 2, 6, 8, 9, 11, 13, 15, 17]"
            ]
          },
          "metadata": {},
          "execution_count": 81
        }
      ]
    },
    {
      "cell_type": "code",
      "source": [
        "# Features selected by RFE\n",
        "X = os_data_X.iloc[:, np.ravel(np.where(rfe.support_==True))]\n",
        "y=os_data_y['is_cancer']"
      ],
      "metadata": {
        "id": "MELKxNTfY3ZD"
      },
      "execution_count": null,
      "outputs": []
    },
    {
      "cell_type": "code",
      "source": [
        "# Implementing the model\n",
        "\n",
        "import statsmodels.api as sm\n",
        "logit_model=sm.Logit(y,X)\n",
        "result=logit_model.fit()\n",
        "print(result.summary2())"
      ],
      "metadata": {
        "colab": {
          "base_uri": "https://localhost:8080/",
          "height": 235
        },
        "id": "pqCE8xrvk0dg",
        "outputId": "309adc02-68b3-4d8b-d5b7-d217d39cd948"
      },
      "execution_count": null,
      "outputs": [
        {
          "output_type": "error",
          "ename": "NameError",
          "evalue": "ignored",
          "traceback": [
            "\u001b[0;31m---------------------------------------------------------------------------\u001b[0m",
            "\u001b[0;31mNameError\u001b[0m                                 Traceback (most recent call last)",
            "\u001b[0;32m<ipython-input-16-18eaa9976580>\u001b[0m in \u001b[0;36m<module>\u001b[0;34m\u001b[0m\n\u001b[1;32m      2\u001b[0m \u001b[0;34m\u001b[0m\u001b[0m\n\u001b[1;32m      3\u001b[0m \u001b[0;32mimport\u001b[0m \u001b[0mstatsmodels\u001b[0m\u001b[0;34m.\u001b[0m\u001b[0mapi\u001b[0m \u001b[0;32mas\u001b[0m \u001b[0msm\u001b[0m\u001b[0;34m\u001b[0m\u001b[0;34m\u001b[0m\u001b[0m\n\u001b[0;32m----> 4\u001b[0;31m \u001b[0mlogit_model\u001b[0m\u001b[0;34m=\u001b[0m\u001b[0msm\u001b[0m\u001b[0;34m.\u001b[0m\u001b[0mLogit\u001b[0m\u001b[0;34m(\u001b[0m\u001b[0my\u001b[0m\u001b[0;34m,\u001b[0m\u001b[0mX\u001b[0m\u001b[0;34m)\u001b[0m\u001b[0;34m\u001b[0m\u001b[0;34m\u001b[0m\u001b[0m\n\u001b[0m\u001b[1;32m      5\u001b[0m \u001b[0mresult\u001b[0m\u001b[0;34m=\u001b[0m\u001b[0mlogit_model\u001b[0m\u001b[0;34m.\u001b[0m\u001b[0mfit\u001b[0m\u001b[0;34m(\u001b[0m\u001b[0;34m)\u001b[0m\u001b[0;34m\u001b[0m\u001b[0;34m\u001b[0m\u001b[0m\n\u001b[1;32m      6\u001b[0m \u001b[0mprint\u001b[0m\u001b[0;34m(\u001b[0m\u001b[0mresult\u001b[0m\u001b[0;34m.\u001b[0m\u001b[0msummary2\u001b[0m\u001b[0;34m(\u001b[0m\u001b[0;34m)\u001b[0m\u001b[0;34m)\u001b[0m\u001b[0;34m\u001b[0m\u001b[0;34m\u001b[0m\u001b[0m\n",
            "\u001b[0;31mNameError\u001b[0m: name 'y' is not defined"
          ]
        }
      ]
    },
    {
      "cell_type": "code",
      "source": [
        "# The p-values (P>|z|) for most of the variables are smaller than 0.05, except five variables, therefore, we will remove them.\n",
        "\n",
        "\n",
        "X=os_data_X.iloc[:, np.ravel(np.where(result.pvalues<0.05))]\n",
        "y=os_data_y['is_cancer']\n",
        "logit_model=sm.Logit(y,X)\n",
        "result=logit_model.fit()\n",
        "print(result.summary2())"
      ],
      "metadata": {
        "colab": {
          "base_uri": "https://localhost:8080/"
        },
        "id": "zESppUs6lg4j",
        "outputId": "a43affe1-a2f4-4b59-d305-09a884b33e80"
      },
      "execution_count": null,
      "outputs": [
        {
          "output_type": "stream",
          "name": "stdout",
          "text": [
            "Optimization terminated successfully.\n",
            "         Current function value: 0.687286\n",
            "         Iterations 4\n",
            "                                     Results: Logit\n",
            "=========================================================================================\n",
            "Model:                        Logit                    Pseudo R-squared:         0.008   \n",
            "Dependent Variable:           is_cancer                AIC:                      895.9735\n",
            "Date:                         2023-03-06 11:10         BIC:                      913.8567\n",
            "No. Observations:             646                      Log-Likelihood:           -443.99 \n",
            "Df Model:                     3                        LL-Null:                  -447.77 \n",
            "Df Residuals:                 642                      LLR p-value:              0.055721\n",
            "Converged:                    1.0000                   Scale:                    1.0000  \n",
            "No. Iterations:               4.0000                                                     \n",
            "-----------------------------------------------------------------------------------------\n",
            "                                           Coef.  Std.Err.    z    P>|z|   [0.025  0.975]\n",
            "-----------------------------------------------------------------------------------------\n",
            "original_firstorder_10Percentile           0.0287   0.0174  1.6490 0.0991 -0.0054  0.0628\n",
            "original_firstorder_90Percentile          -0.0270   0.0137 -1.9777 0.0480 -0.0538 -0.0002\n",
            "original_firstorder_MeanAbsoluteDeviation  0.0933   0.0419  2.2271 0.0259  0.0112  0.1755\n",
            "original_firstorder_Mean                  -0.0040   0.0177 -0.2263 0.8209 -0.0388  0.0308\n",
            "=========================================================================================\n",
            "\n"
          ]
        }
      ]
    },
    {
      "cell_type": "code",
      "source": [
        "# Logistic Regression Model Fitting\n",
        "\n",
        "from sklearn.linear_model import LogisticRegression\n",
        "from sklearn import metrics\n",
        "X_train, X_test, y_train, y_test = train_test_split(X, np.ravel(y), test_size=0.3, random_state=0)\n",
        "logreg = LogisticRegression()\n",
        "logreg.fit(X_train, y_train)"
      ],
      "metadata": {
        "colab": {
          "base_uri": "https://localhost:8080/",
          "height": 74
        },
        "id": "mcFG0kqgn2vZ",
        "outputId": "e04612ca-daee-49d7-e87a-7353cbee1da7"
      },
      "execution_count": null,
      "outputs": [
        {
          "output_type": "execute_result",
          "data": {
            "text/plain": [
              "LogisticRegression()"
            ],
            "text/html": [
              "<style>#sk-container-id-5 {color: black;background-color: white;}#sk-container-id-5 pre{padding: 0;}#sk-container-id-5 div.sk-toggleable {background-color: white;}#sk-container-id-5 label.sk-toggleable__label {cursor: pointer;display: block;width: 100%;margin-bottom: 0;padding: 0.3em;box-sizing: border-box;text-align: center;}#sk-container-id-5 label.sk-toggleable__label-arrow:before {content: \"▸\";float: left;margin-right: 0.25em;color: #696969;}#sk-container-id-5 label.sk-toggleable__label-arrow:hover:before {color: black;}#sk-container-id-5 div.sk-estimator:hover label.sk-toggleable__label-arrow:before {color: black;}#sk-container-id-5 div.sk-toggleable__content {max-height: 0;max-width: 0;overflow: hidden;text-align: left;background-color: #f0f8ff;}#sk-container-id-5 div.sk-toggleable__content pre {margin: 0.2em;color: black;border-radius: 0.25em;background-color: #f0f8ff;}#sk-container-id-5 input.sk-toggleable__control:checked~div.sk-toggleable__content {max-height: 200px;max-width: 100%;overflow: auto;}#sk-container-id-5 input.sk-toggleable__control:checked~label.sk-toggleable__label-arrow:before {content: \"▾\";}#sk-container-id-5 div.sk-estimator input.sk-toggleable__control:checked~label.sk-toggleable__label {background-color: #d4ebff;}#sk-container-id-5 div.sk-label input.sk-toggleable__control:checked~label.sk-toggleable__label {background-color: #d4ebff;}#sk-container-id-5 input.sk-hidden--visually {border: 0;clip: rect(1px 1px 1px 1px);clip: rect(1px, 1px, 1px, 1px);height: 1px;margin: -1px;overflow: hidden;padding: 0;position: absolute;width: 1px;}#sk-container-id-5 div.sk-estimator {font-family: monospace;background-color: #f0f8ff;border: 1px dotted black;border-radius: 0.25em;box-sizing: border-box;margin-bottom: 0.5em;}#sk-container-id-5 div.sk-estimator:hover {background-color: #d4ebff;}#sk-container-id-5 div.sk-parallel-item::after {content: \"\";width: 100%;border-bottom: 1px solid gray;flex-grow: 1;}#sk-container-id-5 div.sk-label:hover label.sk-toggleable__label {background-color: #d4ebff;}#sk-container-id-5 div.sk-serial::before {content: \"\";position: absolute;border-left: 1px solid gray;box-sizing: border-box;top: 0;bottom: 0;left: 50%;z-index: 0;}#sk-container-id-5 div.sk-serial {display: flex;flex-direction: column;align-items: center;background-color: white;padding-right: 0.2em;padding-left: 0.2em;position: relative;}#sk-container-id-5 div.sk-item {position: relative;z-index: 1;}#sk-container-id-5 div.sk-parallel {display: flex;align-items: stretch;justify-content: center;background-color: white;position: relative;}#sk-container-id-5 div.sk-item::before, #sk-container-id-5 div.sk-parallel-item::before {content: \"\";position: absolute;border-left: 1px solid gray;box-sizing: border-box;top: 0;bottom: 0;left: 50%;z-index: -1;}#sk-container-id-5 div.sk-parallel-item {display: flex;flex-direction: column;z-index: 1;position: relative;background-color: white;}#sk-container-id-5 div.sk-parallel-item:first-child::after {align-self: flex-end;width: 50%;}#sk-container-id-5 div.sk-parallel-item:last-child::after {align-self: flex-start;width: 50%;}#sk-container-id-5 div.sk-parallel-item:only-child::after {width: 0;}#sk-container-id-5 div.sk-dashed-wrapped {border: 1px dashed gray;margin: 0 0.4em 0.5em 0.4em;box-sizing: border-box;padding-bottom: 0.4em;background-color: white;}#sk-container-id-5 div.sk-label label {font-family: monospace;font-weight: bold;display: inline-block;line-height: 1.2em;}#sk-container-id-5 div.sk-label-container {text-align: center;}#sk-container-id-5 div.sk-container {/* jupyter's `normalize.less` sets `[hidden] { display: none; }` but bootstrap.min.css set `[hidden] { display: none !important; }` so we also need the `!important` here to be able to override the default hidden behavior on the sphinx rendered scikit-learn.org. See: https://github.com/scikit-learn/scikit-learn/issues/21755 */display: inline-block !important;position: relative;}#sk-container-id-5 div.sk-text-repr-fallback {display: none;}</style><div id=\"sk-container-id-5\" class=\"sk-top-container\"><div class=\"sk-text-repr-fallback\"><pre>LogisticRegression()</pre><b>In a Jupyter environment, please rerun this cell to show the HTML representation or trust the notebook. <br />On GitHub, the HTML representation is unable to render, please try loading this page with nbviewer.org.</b></div><div class=\"sk-container\" hidden><div class=\"sk-item\"><div class=\"sk-estimator sk-toggleable\"><input class=\"sk-toggleable__control sk-hidden--visually\" id=\"sk-estimator-id-5\" type=\"checkbox\" checked><label for=\"sk-estimator-id-5\" class=\"sk-toggleable__label sk-toggleable__label-arrow\">LogisticRegression</label><div class=\"sk-toggleable__content\"><pre>LogisticRegression()</pre></div></div></div></div></div>"
            ]
          },
          "metadata": {},
          "execution_count": 132
        }
      ]
    },
    {
      "cell_type": "code",
      "source": [
        "y_pred = logreg.predict(X_test)\n",
        "print('Accuracy of logistic regression classifier on test set: {:.2f}'.format(logreg.score(X_test, y_test)))"
      ],
      "metadata": {
        "colab": {
          "base_uri": "https://localhost:8080/"
        },
        "id": "hWs5ibwcoFui",
        "outputId": "839353c5-75c7-49a7-d82a-5d110b5bdf10"
      },
      "execution_count": null,
      "outputs": [
        {
          "output_type": "stream",
          "name": "stdout",
          "text": [
            "Accuracy of logistic regression classifier on test set: 0.80\n"
          ]
        }
      ]
    },
    {
      "cell_type": "code",
      "source": [
        "# Confusion Matrix\n",
        "\n",
        "from sklearn.metrics import confusion_matrix\n",
        "confusion_matrix = confusion_matrix(y_test, y_pred)\n",
        "print(confusion_matrix)\n",
        "# The result is telling us that we have 0 + 130 correct predictions and 0 + 33 incorrect predictions.\n",
        "# True positive (TP)  -  False negative (FN)\n",
        "# False positive (FP)  -  True negative (TN)"
      ],
      "metadata": {
        "colab": {
          "base_uri": "https://localhost:8080/"
        },
        "id": "sr54h-dYo_xT",
        "outputId": "2fb003ba-e27f-4fd2-de8a-4e52739413a9"
      },
      "execution_count": null,
      "outputs": [
        {
          "output_type": "stream",
          "name": "stdout",
          "text": [
            "[[  0  33]\n",
            " [  0 130]]\n"
          ]
        }
      ]
    },
    {
      "cell_type": "code",
      "source": [
        "from sklearn.metrics import classification_report\n",
        "print(classification_report(y_test, y_pred))"
      ],
      "metadata": {
        "colab": {
          "base_uri": "https://localhost:8080/"
        },
        "id": "WvWYAMMvq21b",
        "outputId": "168892fb-0f25-46b0-aa41-9faddecc89ae"
      },
      "execution_count": null,
      "outputs": [
        {
          "output_type": "stream",
          "name": "stdout",
          "text": [
            "              precision    recall  f1-score   support\n",
            "\n",
            "           0       0.00      0.00      0.00        33\n",
            "           1       0.80      1.00      0.89       130\n",
            "\n",
            "    accuracy                           0.80       163\n",
            "   macro avg       0.40      0.50      0.44       163\n",
            "weighted avg       0.64      0.80      0.71       163\n",
            "\n"
          ]
        },
        {
          "output_type": "stream",
          "name": "stderr",
          "text": [
            "/usr/local/lib/python3.8/dist-packages/sklearn/metrics/_classification.py:1344: UndefinedMetricWarning: Precision and F-score are ill-defined and being set to 0.0 in labels with no predicted samples. Use `zero_division` parameter to control this behavior.\n",
            "  _warn_prf(average, modifier, msg_start, len(result))\n",
            "/usr/local/lib/python3.8/dist-packages/sklearn/metrics/_classification.py:1344: UndefinedMetricWarning: Precision and F-score are ill-defined and being set to 0.0 in labels with no predicted samples. Use `zero_division` parameter to control this behavior.\n",
            "  _warn_prf(average, modifier, msg_start, len(result))\n",
            "/usr/local/lib/python3.8/dist-packages/sklearn/metrics/_classification.py:1344: UndefinedMetricWarning: Precision and F-score are ill-defined and being set to 0.0 in labels with no predicted samples. Use `zero_division` parameter to control this behavior.\n",
            "  _warn_prf(average, modifier, msg_start, len(result))\n"
          ]
        }
      ]
    },
    {
      "cell_type": "code",
      "source": [
        "# ROC Curve\n",
        "\n",
        "from sklearn.metrics import roc_auc_score\n",
        "from sklearn.metrics import roc_curve\n",
        "logit_roc_auc = roc_auc_score(y_test, logreg.predict(X_test))\n",
        "fpr, tpr, thresholds = roc_curve(y_test, logreg.predict_proba(X_test)[:,1])\n",
        "plt.figure()\n",
        "plt.plot(fpr, tpr, label='Logistic Regression (area = %0.2f)' % logit_roc_auc)\n",
        "plt.plot([0, 1], [0, 1],'r--')\n",
        "plt.xlim([0.0, 1.0])\n",
        "plt.ylim([0.0, 1.05])\n",
        "plt.xlabel('False Positive Rate')\n",
        "plt.ylabel('True Positive Rate')\n",
        "plt.title('Receiver operating characteristic')\n",
        "plt.legend(loc=\"lower right\")\n",
        "plt.savefig('Log_ROC')\n",
        "plt.show()"
      ],
      "metadata": {
        "colab": {
          "base_uri": "https://localhost:8080/",
          "height": 301
        },
        "id": "bgWNoCGkwNZp",
        "outputId": "bb44f074-e037-4c1b-9221-bab418c3b81a"
      },
      "execution_count": null,
      "outputs": [
        {
          "output_type": "display_data",
          "data": {
            "text/plain": [
              "<Figure size 432x288 with 1 Axes>"
            ],
            "image/png": "[encoded data removed]"
          },
          "metadata": {}
        }
      ]
    },
    {
      "cell_type": "markdown",
      "source": [
        "## **Logistic regression without balancing of the data**"
      ],
      "metadata": {
        "id": "eMpm2m93ySpl"
      }
    },
    {
      "cell_type": "code",
      "source": [
        "# Not balanced data \n",
        "\n",
        "X = t2wDF_PZ_fo_LDF.loc[:, t2wDF_PZ_fo_LDF.columns != 'is_cancer']\n",
        "y = t2wDF_PZ_fo_LDF.loc[:, t2wDF_PZ_fo_LDF.columns == 'is_cancer']\n",
        "\n",
        "X_train, X_test, y_train, y_test = train_test_split(X, y, test_size=0.2, random_state=0)"
      ],
      "metadata": {
        "id": "FvfhKoaQyYwg"
      },
      "execution_count": null,
      "outputs": []
    },
    {
      "cell_type": "code",
      "source": [
        "y_train.count(y_train.value_counts==1)"
      ],
      "metadata": {
        "colab": {
          "base_uri": "https://localhost:8080/"
        },
        "id": "goPT5-5nLpAA",
        "outputId": "fab4dff3-f48d-4ca2-aa85-40174bbfb533"
      },
      "execution_count": null,
      "outputs": [
        {
          "output_type": "execute_result",
          "data": {
            "text/plain": [
              "is_cancer    433\n",
              "dtype: int64"
            ]
          },
          "metadata": {},
          "execution_count": 29
        }
      ]
    },
    {
      "cell_type": "code",
      "source": [
        "print(X_train.shape, X_test.shape, y_train.shape, y_test.shape)"
      ],
      "metadata": {
        "colab": {
          "base_uri": "https://localhost:8080/"
        },
        "id": "I2n4HHhiDh_b",
        "outputId": "f9180758-43e4-4300-8e2a-7cf1ce4c99da"
      },
      "execution_count": null,
      "outputs": [
        {
          "output_type": "stream",
          "name": "stdout",
          "text": [
            "(433, 18) (109, 18) (433, 1) (109, 1)\n"
          ]
        }
      ]
    },
    {
      "cell_type": "code",
      "source": [
        "from sklearn.linear_model import LogisticRegression\n",
        "from sklearn.metrics import classification_report, confusion_matrix\n",
        "\n",
        "model = LogisticRegression(max_iter=5000, solver='saga')\n",
        "model.fit(X_train, np.ravel(y_train))"
      ],
      "metadata": {
        "colab": {
          "base_uri": "https://localhost:8080/",
          "height": 74
        },
        "id": "TkBwBvR2H-UE",
        "outputId": "ecbbb771-2622-4732-b91a-c8a8e8b6d9bd"
      },
      "execution_count": null,
      "outputs": [
        {
          "output_type": "execute_result",
          "data": {
            "text/plain": [
              "LogisticRegression(max_iter=5000, solver='saga')"
            ],
            "text/html": [
              "<style>#sk-container-id-3 {color: black;background-color: white;}#sk-container-id-3 pre{padding: 0;}#sk-container-id-3 div.sk-toggleable {background-color: white;}#sk-container-id-3 label.sk-toggleable__label {cursor: pointer;display: block;width: 100%;margin-bottom: 0;padding: 0.3em;box-sizing: border-box;text-align: center;}#sk-container-id-3 label.sk-toggleable__label-arrow:before {content: \"▸\";float: left;margin-right: 0.25em;color: #696969;}#sk-container-id-3 label.sk-toggleable__label-arrow:hover:before {color: black;}#sk-container-id-3 div.sk-estimator:hover label.sk-toggleable__label-arrow:before {color: black;}#sk-container-id-3 div.sk-toggleable__content {max-height: 0;max-width: 0;overflow: hidden;text-align: left;background-color: #f0f8ff;}#sk-container-id-3 div.sk-toggleable__content pre {margin: 0.2em;color: black;border-radius: 0.25em;background-color: #f0f8ff;}#sk-container-id-3 input.sk-toggleable__control:checked~div.sk-toggleable__content {max-height: 200px;max-width: 100%;overflow: auto;}#sk-container-id-3 input.sk-toggleable__control:checked~label.sk-toggleable__label-arrow:before {content: \"▾\";}#sk-container-id-3 div.sk-estimator input.sk-toggleable__control:checked~label.sk-toggleable__label {background-color: #d4ebff;}#sk-container-id-3 div.sk-label input.sk-toggleable__control:checked~label.sk-toggleable__label {background-color: #d4ebff;}#sk-container-id-3 input.sk-hidden--visually {border: 0;clip: rect(1px 1px 1px 1px);clip: rect(1px, 1px, 1px, 1px);height: 1px;margin: -1px;overflow: hidden;padding: 0;position: absolute;width: 1px;}#sk-container-id-3 div.sk-estimator {font-family: monospace;background-color: #f0f8ff;border: 1px dotted black;border-radius: 0.25em;box-sizing: border-box;margin-bottom: 0.5em;}#sk-container-id-3 div.sk-estimator:hover {background-color: #d4ebff;}#sk-container-id-3 div.sk-parallel-item::after {content: \"\";width: 100%;border-bottom: 1px solid gray;flex-grow: 1;}#sk-container-id-3 div.sk-label:hover label.sk-toggleable__label {background-color: #d4ebff;}#sk-container-id-3 div.sk-serial::before {content: \"\";position: absolute;border-left: 1px solid gray;box-sizing: border-box;top: 0;bottom: 0;left: 50%;z-index: 0;}#sk-container-id-3 div.sk-serial {display: flex;flex-direction: column;align-items: center;background-color: white;padding-right: 0.2em;padding-left: 0.2em;position: relative;}#sk-container-id-3 div.sk-item {position: relative;z-index: 1;}#sk-container-id-3 div.sk-parallel {display: flex;align-items: stretch;justify-content: center;background-color: white;position: relative;}#sk-container-id-3 div.sk-item::before, #sk-container-id-3 div.sk-parallel-item::before {content: \"\";position: absolute;border-left: 1px solid gray;box-sizing: border-box;top: 0;bottom: 0;left: 50%;z-index: -1;}#sk-container-id-3 div.sk-parallel-item {display: flex;flex-direction: column;z-index: 1;position: relative;background-color: white;}#sk-container-id-3 div.sk-parallel-item:first-child::after {align-self: flex-end;width: 50%;}#sk-container-id-3 div.sk-parallel-item:last-child::after {align-self: flex-start;width: 50%;}#sk-container-id-3 div.sk-parallel-item:only-child::after {width: 0;}#sk-container-id-3 div.sk-dashed-wrapped {border: 1px dashed gray;margin: 0 0.4em 0.5em 0.4em;box-sizing: border-box;padding-bottom: 0.4em;background-color: white;}#sk-container-id-3 div.sk-label label {font-family: monospace;font-weight: bold;display: inline-block;line-height: 1.2em;}#sk-container-id-3 div.sk-label-container {text-align: center;}#sk-container-id-3 div.sk-container {/* jupyter's `normalize.less` sets `[hidden] { display: none; }` but bootstrap.min.css set `[hidden] { display: none !important; }` so we also need the `!important` here to be able to override the default hidden behavior on the sphinx rendered scikit-learn.org. See: https://github.com/scikit-learn/scikit-learn/issues/21755 */display: inline-block !important;position: relative;}#sk-container-id-3 div.sk-text-repr-fallback {display: none;}</style><div id=\"sk-container-id-3\" class=\"sk-top-container\"><div class=\"sk-text-repr-fallback\"><pre>LogisticRegression(max_iter=5000, solver=&#x27;saga&#x27;)</pre><b>In a Jupyter environment, please rerun this cell to show the HTML representation or trust the notebook. <br />On GitHub, the HTML representation is unable to render, please try loading this page with nbviewer.org.</b></div><div class=\"sk-container\" hidden><div class=\"sk-item\"><div class=\"sk-estimator sk-toggleable\"><input class=\"sk-toggleable__control sk-hidden--visually\" id=\"sk-estimator-id-3\" type=\"checkbox\" checked><label for=\"sk-estimator-id-3\" class=\"sk-toggleable__label sk-toggleable__label-arrow\">LogisticRegression</label><div class=\"sk-toggleable__content\"><pre>LogisticRegression(max_iter=5000, solver=&#x27;saga&#x27;)</pre></div></div></div></div></div>"
            ]
          },
          "metadata": {},
          "execution_count": 32
        }
      ]
    },
    {
      "cell_type": "code",
      "source": [
        "model.classes_"
      ],
      "metadata": {
        "colab": {
          "base_uri": "https://localhost:8080/"
        },
        "id": "d0LI2a6HNB9C",
        "outputId": "5176d222-22c4-4c35-bb0b-cbbc3dc5ee34"
      },
      "execution_count": null,
      "outputs": [
        {
          "output_type": "execute_result",
          "data": {
            "text/plain": [
              "array([0, 1])"
            ]
          },
          "metadata": {},
          "execution_count": 33
        }
      ]
    },
    {
      "cell_type": "code",
      "source": [
        "model.predict(X_train)\n",
        "model.score(X_train, np.ravel(y_train))"
      ],
      "metadata": {
        "colab": {
          "base_uri": "https://localhost:8080/"
        },
        "id": "PV-kDzfzNirA",
        "outputId": "417db6a4-3f4b-464e-c037-359ad1a2eef3"
      },
      "execution_count": null,
      "outputs": [
        {
          "output_type": "execute_result",
          "data": {
            "text/plain": [
              "0.8429561200923787"
            ]
          },
          "metadata": {},
          "execution_count": 35
        }
      ]
    },
    {
      "cell_type": "code",
      "source": [
        "y_pred = model.predict(X_test)\n",
        "model.score(X_test, np.ravel(y_test))"
      ],
      "metadata": {
        "colab": {
          "base_uri": "https://localhost:8080/"
        },
        "id": "ArwTlgeVNtCo",
        "outputId": "3ff15a60-50e0-485e-b1ce-1c21df218070"
      },
      "execution_count": null,
      "outputs": [
        {
          "output_type": "execute_result",
          "data": {
            "text/plain": [
              "0.8073394495412844"
            ]
          },
          "metadata": {},
          "execution_count": 39
        }
      ]
    },
    {
      "cell_type": "code",
      "source": [
        "# Confusion Matrix\n",
        "\n",
        "from sklearn.metrics import confusion_matrix\n",
        "confusion_matrix = confusion_matrix(y_test, y_pred)\n",
        "print(confusion_matrix)"
      ],
      "metadata": {
        "colab": {
          "base_uri": "https://localhost:8080/"
        },
        "id": "Bi2GyRwZOIa5",
        "outputId": "08c03c6e-0452-4452-fcb9-5b0d1b447ca5"
      },
      "execution_count": null,
      "outputs": [
        {
          "output_type": "stream",
          "name": "stdout",
          "text": [
            "[[ 0 21]\n",
            " [ 0 88]]\n"
          ]
        }
      ]
    },
    {
      "cell_type": "code",
      "source": [
        "# ROC Curve\n",
        "\n",
        "from sklearn.metrics import roc_auc_score\n",
        "from sklearn.metrics import roc_curve\n",
        "logit_roc_auc = roc_auc_score(y_test, model.predict(X_test))\n",
        "fpr, tpr, thresholds = roc_curve(y_test, model.predict_proba(X_test)[:,1])\n",
        "plt.figure()\n",
        "plt.plot(fpr, tpr, label='Logistic Regression (area = %0.2f)' % logit_roc_auc)\n",
        "plt.plot([0, 1], [0, 1],'r--')\n",
        "plt.xlim([0.0, 1.0])\n",
        "plt.ylim([0.0, 1.05])\n",
        "plt.xlabel('False Positive Rate')\n",
        "plt.ylabel('True Positive Rate')\n",
        "plt.title('Receiver operating characteristic')\n",
        "plt.legend(loc=\"lower right\")\n",
        "plt.savefig('Log_ROC')\n",
        "plt.show()"
      ],
      "metadata": {
        "colab": {
          "base_uri": "https://localhost:8080/",
          "height": 301
        },
        "id": "NRQ0ujQkN68f",
        "outputId": "f3ce87e8-9d75-4db3-eb15-d17d804506c1"
      },
      "execution_count": null,
      "outputs": [
        {
          "output_type": "display_data",
          "data": {
            "text/plain": [
              "<Figure size 432x288 with 1 Axes>"
            ],
            "image/png": "[encoded data removed]"
          },
          "metadata": {}
        }
      ]
    }
  ]
}